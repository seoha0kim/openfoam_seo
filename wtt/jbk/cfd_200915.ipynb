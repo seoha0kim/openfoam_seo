{
 "cells": [
  {
   "cell_type": "markdown",
   "metadata": {},
   "source": [
    "# JBK: tower"
   ]
  },
  {
   "cell_type": "markdown",
   "metadata": {},
   "source": [
    "Saang Bum Kim <br>\n",
    "2020-07-01 17:50"
   ]
  },
  {
   "cell_type": "code",
   "execution_count": null,
   "metadata": {},
   "outputs": [],
   "source": [
    "function [model,sb] = cfd_200915(varargin)\n",
    "%\n",
    "% [model,sb] = rib_200915(varargin)\n",
    "%\n",
    "% Model exported on Sep 16 2020, 18:03 by COMSOL 5.5.0.359."
   ]
  },
  {
   "cell_type": "code",
   "execution_count": 1,
   "metadata": {},
   "outputs": [
    {
     "name": "stdout",
     "output_type": "stream",
     "text": [
      "[1] 21693\r\n",
      "\n"
     ]
    }
   ],
   "source": [
    "% !comsol mphserver -silent &"
   ]
  },
  {
   "cell_type": "code",
   "execution_count": 1,
   "metadata": {},
   "outputs": [
    {
     "name": "stdout",
     "output_type": "stream",
     "text": [
      "\n",
      "MATLAB is now connected to a COMSOL Multiphysics Server at localhost:2036\n",
      "\n",
      "Run the commands below to access the COMSOL ModelUtil commands:\n",
      "import com.comsol.model.util.*\n"
     ]
    }
   ],
   "source": [
    "%\n",
    "%%  PART 0.     Opening\n",
    "%\n",
    "% fclose all; close all\n",
    "% clc\n",
    "% clear all\n",
    "tcomp = tic;\n",
    "telap = toc(tcomp);\n",
    "\n",
    "s_dir = 'git/openfoam_seo/wtt/jbk/';\n",
    "\n",
    "p_comsol = 2036;\n",
    "seo_init\n",
    "\n",
    "id_f = 1;\n",
    "% id_sv = true;\n",
    "id_sv = false;\n",
    "% id_pl = true;\n",
    "id_pl = false;"
   ]
  },
  {
   "cell_type": "code",
   "execution_count": 27,
   "metadata": {},
   "outputs": [
    {
     "name": "stdout",
     "output_type": "stream",
     "text": [
      "Warning: Could not find appropriate function on path loading function handle /media/sbkim/2266B8F966B8CEB3/git/openfoam_seo/wtt/jbk/deck/m_cfd_comsol_turbulent_201003.m>@(rey_n)(rey_n*Wind.air.mu(273.15+15)/Wind.air.rho(101325,273.15+15)/sb.B)\n",
      "Warning: Could not find appropriate function on path loading function handle /media/sbkim/2266B8F966B8CEB3/git/openfoam_seo/wtt/jbk/deck/m_cfd_comsol_turbulent_201003.m>@(rey_n)sb.B/sb.U(rey_n)/0.2\n",
      "Warning: Could not find appropriate function on path loading function handle /media/sbkim/2266B8F966B8CEB3/git/openfoam_seo/wtt/jbk/deck/m_cfd_comsol_turbulent_201003.m>@(rey_n)(rey_n*Wind.air.mu(273.15+15)/Wind.air.rho(101325,273.15+15)/sb.B)\n",
      "Warning: Could not find appropriate function on path loading function handle /media/sbkim/2266B8F966B8CEB3/git/openfoam_seo/wtt/jbk/deck/m_cfd_comsol_turbulent_201003.m>@(rey_n)sb.B/sb.U(rey_n)/0.2\n",
      "Warning: Could not find appropriate function on path loading function handle /media/sbkim/2266B8F966B8CEB3/git/openfoam_seo/wtt/jbk/deck/m_cfd_comsol_turbulent_201003.m>@(rey_n)(rey_n*Wind.air.mu(273.15+15)/Wind.air.rho(101325,273.15+15)/sb.B)\n",
      "Warning: Could not find appropriate function on path loading function handle /media/sbkim/2266B8F966B8CEB3/git/openfoam_seo/wtt/jbk/deck/m_cfd_comsol_turbulent_201003.m>@(rey_n)sb.B/sb.U(rey_n)/0.2\n",
      "Warning: Could not find appropriate function on path loading function handle /media/sbkim/2266B8F966B8CEB3/git/openfoam_seo/wtt/jbk/deck/m_cfd_comsol_turbulent_201003.m>@(rey_n)(rey_n*Wind.air.mu(273.15+15)/Wind.air.rho(101325,273.15+15)/sb.B)\n",
      "Warning: Could not find appropriate function on path loading function handle /media/sbkim/2266B8F966B8CEB3/git/openfoam_seo/wtt/jbk/deck/m_cfd_comsol_turbulent_201003.m>@(rey_n)sb.B/sb.U(rey_n)/0.2\n",
      "Warning: Could not find appropriate function on path loading function handle /media/sbkim/2266B8F966B8CEB3/git/openfoam_seo/wtt/jbk/deck/m_cfd_comsol_turbulent_201003.m>@(rey_n)(rey_n*Wind.air.mu(273.15+15)/Wind.air.rho(101325,273.15+15)/sb.B)\n",
      "Warning: Could not find appropriate function on path loading function handle /media/sbkim/2266B8F966B8CEB3/git/openfoam_seo/wtt/jbk/deck/m_cfd_comsol_turbulent_201003.m>@(rey_n)sb.B/sb.U(rey_n)/0.2\n"
     ]
    },
    {
     "data": {
      "image/png": "[encoded data removed]",
      "text/plain": [
       "<IPython.core.display.Image object>"
      ]
     },
     "metadata": {},
     "output_type": "display_data"
    }
   ],
   "source": [
    "clear res\n",
    "res.geo(1).s_geo = 'longitudinal';\n",
    "res.geo(2).s_geo = 'transverse';\n",
    "res.geo(3).s_geo = 'deck';\n",
    "\n",
    "res.s_mk{1,1} = 'o';\n",
    "res.s_mk{1,2} = 4;\n",
    "\n",
    "res.s_mk{2,1} = 's';\n",
    "res.s_mk{2,2} = 5;\n",
    "\n",
    "res.s_c{1} = rgb('Navy');\n",
    "res.s_c{2} = rgb('Teal');\n",
    "res.s_c{3} = rgb('Crimson');\n",
    "\n",
    "res.Re_pool = [150 1000 1e4 1e5 2e5];\n",
    "res.Re_n = length(res.Re_pool);\n",
    "\n",
    "id_pause = true;\n",
    "figure(1)\n",
    "clf\n",
    "\n",
    "ll = 1;\n",
    "for id_geo = 1:3\n",
    "for ii = 1:res.Re_n\n",
    "    res.geo(id_geo).sb(ll).Re(ii) = res.Re_pool(ii);\n",
    "    switch id_geo\n",
    "        case {1,2}\n",
    "            load(sprintf('tower/tower_%s_turbulent_SST_Re%d', ...\n",
    "                res.geo(id_geo).s_geo, res.geo(id_geo).sb(ll).Re(ii)));\n",
    "        case 3\n",
    "            load(sprintf('deck/deck_%s_a000_turbulent_SST_Re%d', ...\n",
    "                'upper', res.geo(id_geo).sb(ll).Re(ii)));\n",
    "        % otherwise\n",
    "    end\n",
    "\n",
    "% if ii == 1\n",
    "    res.geo(id_geo).sb(ll).BD = [sb.B,sb.D];\n",
    "    res.geo(id_geo).sb(ll).BD_F = [sb.B,sb.D]*sb.scale;\n",
    "% end\n",
    "\n",
    "    switch id_geo\n",
    "        case {1,3}\n",
    "            sc = [1 sb.D/sb.B (sb.D/sb.B)^2];\n",
    "        case 2\n",
    "            sc = [sb.D/sb.B 1 1];\n",
    "        % otherwise\n",
    "    end\n",
    "    sc = sb.D/sb.B*[1 1 sb.D/sb.B];\n",
    "res.geo(id_geo).sb(ll).res(ii,1:6) = sb.res(ii).C.DLM(1:6)*diag([sc sc]);\n",
    "\n",
    "    for jj=1:3\n",
    "        subplot(1,3,jj)\n",
    "        semilogx(sb.U(res.geo(id_geo).sb(ll).Re(ii)), ...\n",
    "            res.geo(id_geo).sb(ll).res(ii,jj), ...\n",
    "            'o', 'Color',res.s_c{id_geo}, 'MarkerSize', 6-3)\n",
    "            % 'Color',rgb('Navy'), 'MarkerSize', res.geo(id_geo).sb(.s_mk{2})\n",
    "    end\n",
    "    if id_pause\n",
    "        gcfG;gcfH;gcfLFont;gcfS;%gcfP\n",
    "        id_pause = false;\n",
    "    end\n",
    "    for jj=1:3\n",
    "        subplot(1,3,jj)\n",
    "        h = semilogx(sb.U(res.geo(id_geo).sb(ll).Re(ii)), ...\n",
    "            res.geo(id_geo).sb(ll).res(ii,jj+3), ...\n",
    "            's', 'Color',res.s_c{id_geo}, 'MarkerSize', 6-2);\n",
    "        h.MarkerFaceColor = h.Color;\n",
    "    end\n",
    "end\n",
    "end"
   ]
  },
  {
   "cell_type": "code",
   "execution_count": 28,
   "metadata": {},
   "outputs": [
    {
     "name": "stdout",
     "output_type": "stream",
     "text": [
      "\n",
      "ans =\n",
      "\n",
      "    1.3275   -0.0003   -0.0002    0.9798   -0.0006   -0.0001\n",
      "    0.8156    0.0047    0.0005    0.7144    0.0046    0.0004\n",
      "    0.7078    0.0075    0.0006    0.6936    0.0075    0.0005\n",
      "    0.6630    0.0039    0.0004    0.6611    0.0038    0.0004\n",
      "    0.6527    0.0034    0.0006    0.6511    0.0034    0.0006\n",
      "\n",
      "\n",
      "ans =\n",
      "\n",
      "    1.5633   -0.0020    0.0002    1.2740   -0.0020    0.0002\n",
      "    1.1717    0.0049    0.0006    1.0900    0.0048    0.0003\n",
      "    1.1760    0.0068    0.0005    1.1647    0.0068    0.0004\n",
      "    1.1352    0.0100    0.0003    1.1325    0.0100    0.0002\n",
      "    1.1265    0.0124    0.0003    1.1243    0.0124    0.0003\n",
      "\n",
      "\n",
      "ans =\n",
      "\n",
      "    0.8137   -0.1007    0.0762    0.6275   -0.1024    0.0768\n",
      "    0.3933    0.0594    0.0719    0.3343    0.0604    0.0690\n",
      "    0.2736    0.1202    0.0541    0.2600    0.1258    0.0552\n",
      "    0.2719    0.0443    0.0536    0.2684    0.0438    0.0533\n",
      "    0.2720    0.0411    0.0540    0.2697    0.0405    0.0537\n",
      "\n"
     ]
    }
   ],
   "source": [
    "res.geo(1).sb.res\n",
    "res.geo(2).sb.res\n",
    "res.geo(3).sb.res"
   ]
  },
  {
   "cell_type": "code",
   "execution_count": 24,
   "metadata": {},
   "outputs": [
    {
     "name": "stdout",
     "output_type": "stream",
     "text": [
      "\n",
      "ans =\n",
      "\n",
      "    6.0000    4.5000\n",
      "\n",
      "\n",
      "ans =\n",
      "\n",
      "    6.0000    4.5000\n",
      "\n",
      "\n",
      "ans =\n",
      "\n",
      "   16.1000    3.6507\n",
      "\n"
     ]
    }
   ],
   "source": [
    "res.geo(1).sb.BD_F\n",
    "res.geo(2).sb.BD_F\n",
    "res.geo(3).sb.BD_F"
   ]
  },
  {
   "cell_type": "markdown",
   "metadata": {},
   "source": [
    "# Tower"
   ]
  },
  {
   "cell_type": "markdown",
   "metadata": {},
   "source": [
    "- corner\n",
    "    - r/b = 0.01 / [0.045 0.06] = 0.2222 0.1667\n",
    "    - 0.5 0.6\n",
    "- d/b = 6/4.5 = 1.333\n",
    "    - EN: 1.9 *4.5/6/2 = 0.7125\n",
    "    - C: 0.6511\n",
    "- d/b = 4.5/6 = 0.75\n",
    "    - EN: 2.3/2 = 1.15\n",
    "    - C: 1.1243"
   ]
  },
  {
   "cell_type": "markdown",
   "metadata": {},
   "source": [
    "# FINE"
   ]
  }
 ],
 "metadata": {
  "jupytext": {
   "encoding": "% -*- coding: utf-8 -*-",
   "formats": "ipynb,m:percent"
  },
  "kernelspec": {
   "display_name": "Matlab",
   "language": "matlab",
   "name": "matlab"
  },
  "language_info": {
   "codemirror_mode": "octave",
   "file_extension": ".m",
   "help_links": [
    {
     "text": "MetaKernel Magics",
     "url": "https://metakernel.readthedocs.io/en/latest/source/README.html"
    }
   ],
   "mimetype": "text/x-octave",
   "name": "matlab",
   "version": "0.16.7"
  },
  "toc": {
   "base_numbering": 1,
   "nav_menu": {},
   "number_sections": true,
   "sideBar": true,
   "skip_h1_title": false,
   "title_cell": "Table of Contents",
   "title_sidebar": "Contents",
   "toc_cell": false,
   "toc_position": {
    "height": "calc(100% - 180px)",
    "left": "10px",
    "top": "150px",
    "width": "165px"
   },
   "toc_section_display": true,
   "toc_window_display": true
  }
 },
 "nbformat": 4,
 "nbformat_minor": 4
}
