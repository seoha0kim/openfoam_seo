{
 "cells": [
  {
   "cell_type": "markdown",
   "metadata": {},
   "source": [
    "# JBK: tower"
   ]
  },
  {
   "cell_type": "markdown",
   "metadata": {},
   "source": [
    "Saang Bum Kim <br>\n",
    "2020-07-01 17:50"
   ]
  },
  {
   "cell_type": "code",
   "execution_count": null,
   "metadata": {},
   "outputs": [],
   "source": [
    "function [model,sb] = cfd_200915(varargin)\n",
    "%\n",
    "% [model,sb] = rib_200915(varargin)\n",
    "%\n",
    "% Model exported on Sep 16 2020, 18:03 by COMSOL 5.5.0.359."
   ]
  },
  {
   "cell_type": "code",
   "execution_count": 1,
   "metadata": {},
   "outputs": [
    {
     "name": "stdout",
     "output_type": "stream",
     "text": [
      "[1] 21693\r\n",
      "\n"
     ]
    }
   ],
   "source": [
    "% !comsol mphserver -silent &"
   ]
  },
  {
   "cell_type": "code",
   "execution_count": 1,
   "metadata": {},
   "outputs": [
    {
     "name": "stdout",
     "output_type": "stream",
     "text": [
      "\n",
      "MATLAB is now connected to a COMSOL Multiphysics Server at localhost:2036\n",
      "\n",
      "Run the commands below to access the COMSOL ModelUtil commands:\n",
      "import com.comsol.model.util.*\n"
     ]
    }
   ],
   "source": [
    "%\n",
    "%%  PART 0.     Opening\n",
    "%\n",
    "% fclose all; close all\n",
    "% clc\n",
    "% clear all\n",
    "tcomp = tic;\n",
    "telap = toc(tcomp);\n",
    "\n",
    "s_dir = 'git/openfoam_seo/wtt/jbk/';\n",
    "\n",
    "p_comsol = 2036;\n",
    "seo_init\n",
    "\n",
    "id_f = 1;\n",
    "% id_sv = true;\n",
    "id_sv = false;\n",
    "% id_pl = true;\n",
    "id_pl = false;"
   ]
  },
  {
   "cell_type": "code",
   "execution_count": 13,
   "metadata": {},
   "outputs": [
    {
     "name": "stdout",
     "output_type": "stream",
     "text": [
      "Warning: Could not find appropriate function on path loading function handle /media/sbkim/2266B8F966B8CEB3/git/openfoam_seo/wtt/jbk/deck/m_cfd_comsol_turbulent_201003.m>@(rey_n)(rey_n*Wind.air.mu(273.15+15)/Wind.air.rho(101325,273.15+15)/sb.B)\n",
      "Warning: Could not find appropriate function on path loading function handle /media/sbkim/2266B8F966B8CEB3/git/openfoam_seo/wtt/jbk/deck/m_cfd_comsol_turbulent_201003.m>@(rey_n)sb.B/sb.U(rey_n)/0.2\n",
      "Warning: Could not find appropriate function on path loading function handle /media/sbkim/2266B8F966B8CEB3/git/openfoam_seo/wtt/jbk/deck/m_cfd_comsol_turbulent_201003.m>@(rey_n)(rey_n*Wind.air.mu(273.15+15)/Wind.air.rho(101325,273.15+15)/sb.B)\n",
      "Warning: Could not find appropriate function on path loading function handle /media/sbkim/2266B8F966B8CEB3/git/openfoam_seo/wtt/jbk/deck/m_cfd_comsol_turbulent_201003.m>@(rey_n)sb.B/sb.U(rey_n)/0.2\n",
      "Warning: Could not find appropriate function on path loading function handle /media/sbkim/2266B8F966B8CEB3/git/openfoam_seo/wtt/jbk/deck/m_cfd_comsol_turbulent_201003.m>@(rey_n)(rey_n*Wind.air.mu(273.15+15)/Wind.air.rho(101325,273.15+15)/sb.B)\n",
      "Warning: Could not find appropriate function on path loading function handle /media/sbkim/2266B8F966B8CEB3/git/openfoam_seo/wtt/jbk/deck/m_cfd_comsol_turbulent_201003.m>@(rey_n)sb.B/sb.U(rey_n)/0.2\n",
      "Warning: Could not find appropriate function on path loading function handle /media/sbkim/2266B8F966B8CEB3/git/openfoam_seo/wtt/jbk/deck/m_cfd_comsol_turbulent_201003.m>@(rey_n)(rey_n*Wind.air.mu(273.15+15)/Wind.air.rho(101325,273.15+15)/sb.B)\n",
      "Warning: Could not find appropriate function on path loading function handle /media/sbkim/2266B8F966B8CEB3/git/openfoam_seo/wtt/jbk/deck/m_cfd_comsol_turbulent_201003.m>@(rey_n)sb.B/sb.U(rey_n)/0.2\n",
      "Warning: Could not find appropriate function on path loading function handle /media/sbkim/2266B8F966B8CEB3/git/openfoam_seo/wtt/jbk/deck/m_cfd_comsol_turbulent_201003.m>@(rey_n)(rey_n*Wind.air.mu(273.15+15)/Wind.air.rho(101325,273.15+15)/sb.B)\n",
      "Warning: Could not find appropriate function on path loading function handle /media/sbkim/2266B8F966B8CEB3/git/openfoam_seo/wtt/jbk/deck/m_cfd_comsol_turbulent_201003.m>@(rey_n)sb.B/sb.U(rey_n)/0.2\n"
     ]
    },
    {
     "data": {
      "image/png": "[encoded data removed]",
      "text/plain": [
       "<IPython.core.display.Image object>"
      ]
     },
     "metadata": {},
     "output_type": "display_data"
    }
   ],
   "source": [
    "clear res\n",
    "res.geo(1).s_geo = 'longitudinal';\n",
    "res.geo(2).s_geo = 'transverse';\n",
    "res.geo(3).s_geo = 'deck';\n",
    "\n",
    "res.s_mk{1,1} = 'o';\n",
    "res.s_mk{1,2} = 4;\n",
    "\n",
    "res.s_mk{2,1} = 's';\n",
    "res.s_mk{2,2} = 5;\n",
    "\n",
    "res.s_c{1} = rgb('Navy');\n",
    "res.s_c{2} = rgb('Teal');\n",
    "res.s_c{3} = rgb('Crimson');\n",
    "\n",
    "\n",
    "id_pause = true;\n",
    "figure(1)\n",
    "clf\n",
    "\n",
    "ll = 1;\n",
    "for id_geo = 1:3\n",
    "for ii = 1:sb.Re_n\n",
    "    res.geo(id_geo).sb(ll).Re(ii) = sb.Re_pool(ii);\n",
    "    switch id_geo\n",
    "        case {1,2}\n",
    "            load(sprintf('tower/tower_%s_turbulent_SST_Re%d', ...\n",
    "                res.geo(id_geo).s_geo, res.geo(id_geo).sb(ll).Re(ii)));\n",
    "        case 3\n",
    "            load(sprintf('deck/deck_%s_a000_turbulent_SST_Re%d', ...\n",
    "                'upper', res.geo(id_geo).sb(ll).Re(ii)));\n",
    "        % otherwise\n",
    "    end\n",
    "\n",
    "% if ii == 1\n",
    "    res.geo(id_geo).sb(ll).BD = [sb.B,sb.D];\n",
    "% end\n",
    "\n",
    "    switch id_geo\n",
    "        case {1,3}\n",
    "            sc = [1 sb.D/sb.B (sb.D/sb.B)^2];\n",
    "        case 2\n",
    "            sc = [sb.D/sb.B 1 1];\n",
    "        % otherwise\n",
    "    end\n",
    "res.geo(id_geo).sb(ll).res(ii,1:6) = sb.res(ii).C.DLM(1:6)*diag([sc sc]);\n",
    "\n",
    "    for jj=1:3\n",
    "        subplot(1,3,jj)\n",
    "        semilogx(sb.U(res.geo(id_geo).sb(ll).Re(ii)), ...\n",
    "            res.geo(id_geo).sb(ll).res(ii,jj), ...\n",
    "            'o', 'Color',res.s_c{id_geo}, 'MarkerSize', 6-3)\n",
    "            % 'Color',rgb('Navy'), 'MarkerSize', res.geo(id_geo).sb(.s_mk{2})\n",
    "    end\n",
    "    if id_pause\n",
    "        gcfG;gcfH;gcfLFont;gcfS;%gcfP\n",
    "        id_pause = false;\n",
    "    end\n",
    "    for jj=1:3\n",
    "        subplot(1,3,jj)\n",
    "        h = semilogx(sb.U(res.geo(id_geo).sb(ll).Re(ii)), ...\n",
    "            res.geo(id_geo).sb(ll).res(ii,jj+3), ...\n",
    "            's', 'Color',res.s_c{id_geo}, 'MarkerSize', 6-2);\n",
    "        h.MarkerFaceColor = h.Color;\n",
    "    end\n",
    "end\n",
    "end"
   ]
  },
  {
   "cell_type": "markdown",
   "metadata": {},
   "source": [
    "# FINE"
   ]
  }
 ],
 "metadata": {
  "jupytext": {
   "encoding": "% -*- coding: utf-8 -*-",
   "formats": "ipynb,m:percent"
  },
  "kernelspec": {
   "display_name": "Matlab",
   "language": "matlab",
   "name": "matlab"
  },
  "language_info": {
   "codemirror_mode": "octave",
   "file_extension": ".m",
   "help_links": [
    {
     "text": "MetaKernel Magics",
     "url": "https://metakernel.readthedocs.io/en/latest/source/README.html"
    }
   ],
   "mimetype": "text/x-octave",
   "name": "matlab",
   "version": "0.16.7"
  },
  "toc": {
   "base_numbering": 1,
   "nav_menu": {},
   "number_sections": true,
   "sideBar": true,
   "skip_h1_title": false,
   "title_cell": "Table of Contents",
   "title_sidebar": "Contents",
   "toc_cell": false,
   "toc_position": {
    "height": "calc(100% - 180px)",
    "left": "10px",
    "top": "150px",
    "width": "165px"
   },
   "toc_section_display": true,
   "toc_window_display": true
  }
 },
 "nbformat": 4,
 "nbformat_minor": 4
}
