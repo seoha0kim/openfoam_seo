{
 "cells": [
  {
   "cell_type": "markdown",
   "metadata": {},
   "source": [
    "# m_cfd_of"
   ]
  },
  {
   "cell_type": "markdown",
   "metadata": {},
   "source": [
    "Saang Bum Kim <br>\n",
    "2020-09-21 08:30:46"
   ]
  },
  {
   "cell_type": "code",
   "execution_count": null,
   "metadata": {},
   "outputs": [],
   "source": [
    "function [model,sb] = m_cfd_of_201008(varargin)\n",
    "%\n",
    "% Model exported on Sep 16 2020, 18:03 by COMSOL 5.5.0.359."
   ]
  },
  {
   "cell_type": "code",
   "execution_count": null,
   "metadata": {},
   "outputs": [],
   "source": [
    "% !comsol mphserver -silent &"
   ]
  },
  {
   "cell_type": "code",
   "execution_count": 1,
   "metadata": {},
   "outputs": [
    {
     "name": "stdout",
     "output_type": "stream",
     "text": [
      "No port asigned (no p_comsol) !\n",
      "No comsol mphserver running or already connected!\n"
     ]
    }
   ],
   "source": [
    "%\n",
    "%%  PART 0.     Opening\n",
    "%\n",
    "fclose all; close all\n",
    "clc\n",
    "clear all\n",
    "tcomp = tic;\n",
    "telap = toc(tcomp);\n",
    "\n",
    "% s_dir = 'git/openfoam_seo/of/org/';\n",
    "s_dir = 'git/openfoam_seo/wtt/jbk/';\n",
    "\n",
    "seo_init\n",
    "\n",
    "id_f = 1;\n",
    "% id_sv = true;\n",
    "id_sv = false;\n",
    "% id_pl = true;\n",
    "id_pl = false;\n",
    "\n",
    "% id_jupyter = false;\n",
    "id_jupyter = true;"
   ]
  },
  {
   "cell_type": "code",
   "execution_count": null,
   "metadata": {},
   "outputs": [],
   "source": [
    "clear sb"
   ]
  },
  {
   "cell_type": "markdown",
   "metadata": {},
   "source": [
    "# Pre Process"
   ]
  },
  {
   "cell_type": "markdown",
   "metadata": {},
   "source": [
    "## from CSL: rid"
   ]
  },
  {
   "cell_type": "code",
   "execution_count": null,
   "metadata": {},
   "outputs": [],
   "source": [
    "cd ~/Work/git/openfoam_seo/wtt/jbk/"
   ]
  },
  {
   "cell_type": "code",
   "execution_count": null,
   "metadata": {},
   "outputs": [],
   "source": [
    "% model = mphload('imsi.mph')\n",
    "% model = mphload('tower_large.mph')\n",
    "model = mphload('tower/tower_longitudinal_turbulent_SST_Re200000.mph')\n",
    "\n",
    "for id_geo = 1:3\n",
    "    for id_al = 1\n",
    "\n",
    "clear sb\n",
    "\n",
    "        % if (id_geo == 1) & (id_al == 1)\n",
    "        %     continue\n",
    "        % end\n",
    "\n",
    "        switch id_geo\n",
    "            case 1\n",
    "                s_geo = 'longitudinal';\n",
    "model = mphload(sprintf('tower/tower_%s_turbulent_SST_Re200000.mph',s_geo))\n",
    "sb_ii = load(sprintf('tower/tower_%s_turbulent_SST_Re200000.mat',s_geo))\n",
    "sb.id_box = [5 6 7 1 2 3 4];\n",
    "            case 2\n",
    "                s_geo = 'transverse';\n",
    "model = mphload(sprintf('tower/tower_%s_turbulent_SST_Re200000.mph',s_geo))\n",
    "sb_ii = load(sprintf('tower/tower_%s_turbulent_SST_Re200000.mat',s_geo))\n",
    "sb.id_box = [5 6 7 1 2 3 4];\n",
    "            case 3\n",
    "                s_geo = 'upper_a000';\n",
    "model = mphload(sprintf('deck/deck_%s_turbulent_SST_Re200000.mph',s_geo))\n",
    "sb_ii = load(sprintf('deck/deck_%s_turbulent_SST_Re200000.mat',s_geo))\n",
    "sb.id_box = [1 2 3 4 5 6 7 ];\n",
    "            % otherwise\n",
    "                % body\n",
    "        end\n",
    "%        switch id_al\n",
    "%            case 1\n",
    "%                s_al = '000';\n",
    "%            case 2\n",
    "%                s_al = 'm25';\n",
    "%            case 3\n",
    "%                s_al = 'p25';\n",
    "%            % otherwise\n",
    "%                % body\n",
    "%        end\n",
    "\n",
    "% model = mphload('deck_upper_am25_turbulent_SST_Re200000.mph')\n",
    "% model = mphload(sprintf('deck_%s_a%s_turbulent_SST_Re200000.mph',s_geo,s_al))"
   ]
  },
  {
   "cell_type": "code",
   "execution_count": null,
   "metadata": {},
   "outputs": [],
   "source": [
    "% mphmesh(model)\n",
    "% x = model.mesh(\"mesh1\").getVertex();"
   ]
  },
  {
   "cell_type": "code",
   "execution_count": null,
   "metadata": {},
   "outputs": [],
   "source": [
    "[meshstats,meshdata] = mphmeshstats(model);"
   ]
  },
  {
   "cell_type": "markdown",
   "metadata": {},
   "source": [
    "### sb"
   ]
  },
  {
   "cell_type": "code",
   "execution_count": null,
   "metadata": {},
   "outputs": [],
   "source": [
    "sb.v.n = size(meshdata.vertex,2);\n",
    "sb.v.x = meshdata.vertex;\n",
    "sb.v.xn = [[sb.v.x;zeros(1,sb.v.n)],[sb.v.x;ones(1,sb.v.n)]];\n",
    "sb.b4.n = size(meshdata.elem{2},2);\n",
    "sb.b4.id = meshdata.elem{2}+1;\n",
    "sb.b3.n = size(meshdata.elem{3},2);\n",
    "sb.b3.id = meshdata.elem{3}+1;"
   ]
  },
  {
   "cell_type": "code",
   "execution_count": null,
   "metadata": {},
   "outputs": [],
   "source": [
    "sb.box_ids = model.selection.tags();\n",
    "\n",
    "sb.box_n = length(sb.box_ids);\n",
    "% for ii=1:7\n",
    "% for ii=[1 4:7]\n",
    "% sb.id_box = [5 6 7 1 2 3 4];\n",
    "% sb.id_box = [1 2 3 4 5 6 7 ];\n",
    "for ii=1:sb.box_n\n",
    "    % sb.box(ii) = mpheval(model,'X','selection',sprintf('box%d',ii));\n",
    "    sb.box(ii) = mpheval(model,'X','selection',sb.box_ids(find(ii == sb.id_box)));\n",
    "end"
   ]
  },
  {
   "cell_type": "code",
   "execution_count": null,
   "metadata": {},
   "outputs": [],
   "source": [
    "% for ii=1:7\n",
    "% for ii=[1 4:7]\n",
    "for ii=1:sb.box_n\n",
    "    % ii = 1;\n",
    "    sb.box(ii).n = size(sb.box(ii).t,2);\n",
    "    for jj = 1:size(sb.box(ii).p,2)\n",
    "        % jj = 1;\n",
    "        x_ii = sb.box(ii).p(:,jj);\n",
    "        lc1 = find(sb.v.x(1,:) == x_ii(1));\n",
    "        lc2 = find(sb.v.x(2,lc1) == x_ii(2));\n",
    "        lc = lc1(lc2);\n",
    "        sb.box(ii).id(jj) = lc;\n",
    "        if any(size(lc) ~= [1,1])\n",
    "            fprintf('Error: %d %d', ii, jj)\n",
    "        end\n",
    "    end\n",
    "    for jj = 1:sb.box(ii).n\n",
    "        sb.box(ii).lc(:,jj) = sb.box(ii).id( sb.box(ii).t(:,jj)+1 );\n",
    "    end\n",
    "end"
   ]
  },
  {
   "cell_type": "code",
   "execution_count": null,
   "metadata": {},
   "outputs": [],
   "source": [
    "% save imsi_tower_200923 meshdata sb"
   ]
  },
  {
   "cell_type": "markdown",
   "metadata": {},
   "source": [
    "### data load"
   ]
  },
  {
   "cell_type": "code",
   "execution_count": null,
   "metadata": {},
   "outputs": [],
   "source": [
    "% whos -file imsi_tower_200923\n",
    "% load imsi_tower_200923"
   ]
  },
  {
   "cell_type": "code",
   "execution_count": null,
   "metadata": {},
   "outputs": [],
   "source": [
    "% meshdata"
   ]
  },
  {
   "cell_type": "code",
   "execution_count": null,
   "metadata": {},
   "outputs": [],
   "source": [
    "if id_pl\n",
    "lc = meshdata.elem{find(cellfun(@(x) strcmpi(x,'vtx'), meshdata.types))}+1;\n",
    "id_pause = true;\n",
    "figure(1)\n",
    "for ii=1:length(lc)-1\n",
    "    plot(meshdata.vertex(1,lc(ii+[0,1])),meshdata.vertex(2,lc(ii+[0,1])), ...\n",
    "        'o-','Color',rgb('Navy'),'MarkerSize',6-3)\n",
    "    if id_pause\n",
    "        gcfG;gcfH;gcfLFont;gcfS;%gcfP\n",
    "        id_pause = false;\n",
    "    end\n",
    "end\n",
    "end"
   ]
  },
  {
   "cell_type": "code",
   "execution_count": null,
   "metadata": {},
   "outputs": [],
   "source": [
    "if id_pl\n",
    "sb.box(1)\n",
    "sb.box(1).d1(1:3)\n",
    "sb.box(1).p(:,1:3)\n",
    "sb.box(1).t(:,1:3)\n",
    "sb.box(1).ve(1:3,:)\n",
    "end"
   ]
  },
  {
   "cell_type": "markdown",
   "metadata": {},
   "source": [
    "### c_box"
   ]
  },
  {
   "cell_type": "code",
   "execution_count": null,
   "metadata": {},
   "outputs": [],
   "source": [
    "if id_pl\n",
    "% if 1\n",
    "id_pause = true;\n",
    "figure(1)\n",
    "clf\n",
    "for jj=1:sb.box_n\n",
    "for ii=1:size(sb.box(jj).t,2)\n",
    "%     id = sb.box(jj).t(:,ii)+1;\n",
    "%     x_id = sb.box(jj).p(:,id);\n",
    "\n",
    "x_id = sb.v.x(:,sb.box(jj).lc(:,ii));\n",
    "\n",
    "% plot(sb.box(1).p(1,ii),sb.box(1).p(2,ii),'o','MarkerSize',6-4)\n",
    "plot(x_id(1,:),x_id(2,:),'-o','MarkerSize',6-4,'Color',rgb('Navy'))\n",
    "    if id_pause\n",
    "        gcfG;gcfH;gcfLFont;gcfS;%gcfP\n",
    "        id_pause = false;\n",
    "    end\n",
    "\n",
    "map({mean(x_id')}, {@(x) text(x(1),x(2),sprintf('%d',ii))})\n",
    "\n",
    "x1 = x_id(:,1)';\n",
    "x2 = x_id(:,2)';\n",
    "xm = mean(x_id');\n",
    "x1m = (x1+xm)/2;\n",
    "x2m = (x2+xm)/2;\n",
    "text(x1m(1),x1m(2),sprintf('%d',1),'FontSize',9,'Color',rgb('Crimson'))\n",
    "text(x2m(1),x2m(2),sprintf('%d',2),'FontSize',9,'Color',rgb('Crimson'))\n",
    "\n",
    "end\n",
    "end\n",
    "end\n",
    "% figure(2)\n",
    "% plot(sb.box(2).ve)\n",
    "% if 0\n",
    "if 1\n",
    "jj = 3;\n",
    "for ii=1:size(sb.box(jj).t,2)\n",
    "    id = sb.box(jj).t(:,ii)+1;\n",
    "    x_id = sb.box(jj).p(:,id);\n",
    "% plot(sb.box(1).p(1,ii),sb.box(1).p(2,ii),'o','MarkerSize',6-4)\n",
    "plot(x_id(1,:),x_id(2,:),'-s','MarkerSize',6-4,'Color',rgb('Orange'))\n",
    "    if id_pause\n",
    "        gcfG;gcfH;gcfLFont;gcfS;%gcfP\n",
    "        id_pause = false;\n",
    "    end\n",
    "x_id = sb.v.x(:,sb.box(jj).lc(:,ii));\n",
    "plot(x_id(1,:),x_id(2,:),'-d','MarkerSize',6-1,'Color',rgb('Crimson'))\n",
    "end\n",
    "end"
   ]
  },
  {
   "cell_type": "markdown",
   "metadata": {},
   "source": [
    "### triangular"
   ]
  },
  {
   "cell_type": "code",
   "execution_count": null,
   "metadata": {},
   "outputs": [],
   "source": [
    "if id_pl\n",
    "i_34 = 'b3';\n",
    "% i_34 = 'b4';\n",
    "id_pause = true;\n",
    "figure(1)\n",
    "clf\n",
    "for ii=1:sb.(i_34).n\n",
    "% for ii=1:2^0\n",
    "% for ii=1:2^2\n",
    "% for ii=1:2^4\n",
    "    plot(sb.v.x(1,sb.(i_34).id(:,ii)), sb.v.x(2,sb.(i_34).id(:,ii)), '-o', 'MarkerSize', 6-3)\n",
    "    for jj=1:length(sb.(i_34).id(:,ii))\n",
    "        text(sb.v.x(1,sb.(i_34).id(jj,ii)), sb.v.x(2,sb.(i_34).id(jj,ii)), sprintf('%d',jj))\n",
    "    end\n",
    "    if id_pause\n",
    "        gcfG;gcfH;gcfLFont;gcfS;%gcfP\n",
    "        id_pause = false;\n",
    "    end\n",
    "end\n",
    "end"
   ]
  },
  {
   "cell_type": "markdown",
   "metadata": {},
   "source": [
    "### quad"
   ]
  },
  {
   "cell_type": "code",
   "execution_count": null,
   "metadata": {},
   "outputs": [],
   "source": [
    "if id_pl\n",
    "% i_34 = 'b3';\n",
    "i_34 = 'b4';\n",
    "id_pause = true;\n",
    "figure(1)\n",
    "clf\n",
    "% for ii=1:sb.(i_34).n\n",
    "% for ii=1:2^0\n",
    "for ii=1:2^2\n",
    "% for ii=1:2^4\n",
    "    plot(sb.v.x(1,sb.(i_34).id(:,ii)), sb.v.x(2,sb.(i_34).id(:,ii)), '-o', 'MarkerSize', 6-3)\n",
    "    for jj=1:length(sb.(i_34).id(:,ii))\n",
    "        text(sb.v.x(1,sb.(i_34).id(jj,ii)), sb.v.x(2,sb.(i_34).id(jj,ii)), sprintf('%d',jj))\n",
    "    end\n",
    "    if id_pause\n",
    "        gcfG;gcfH;gcfLFont;gcfS;%gcfP\n",
    "        id_pause = false;\n",
    "    end\n",
    "end\n",
    "end"
   ]
  },
  {
   "cell_type": "markdown",
   "metadata": {},
   "source": [
    "### Whole"
   ]
  },
  {
   "cell_type": "code",
   "execution_count": null,
   "metadata": {},
   "outputs": [],
   "source": [
    "if id_pl\n",
    "% i_34 = 'b3';\n",
    "i_34 = 'b4';\n",
    "id_pause = true;\n",
    "figure(1)\n",
    "clf\n",
    "for ii=1:sb.(i_34).n\n",
    "% for ii=1:2^0\n",
    "% for ii=1:2^2\n",
    "% for ii=1:2^10\n",
    "    plot(sb.v.x(1,sb.(i_34).id(:,ii)), sb.v.x(2,sb.(i_34).id(:,ii)), '-o', 'MarkerSize', 6-3)\n",
    "    for jj=1:length(sb.(i_34).id(:,ii))\n",
    "        text(sb.v.x(1,sb.(i_34).id(jj,ii)), sb.v.x(2,sb.(i_34).id(jj,ii)), sprintf('%d',jj))\n",
    "    end\n",
    "    if id_pause\n",
    "        gcfG;gcfH;gcfLFont;gcfS;%gcfP\n",
    "        id_pause = false;\n",
    "    end\n",
    "end\n",
    "i_34 = 'b3';\n",
    "% for ii=1:2^2\n",
    "for ii=1:2^8\n",
    "    plot(sb.v.x(1,sb.(i_34).id(:,ii)), sb.v.x(2,sb.(i_34).id(:,ii)), '-o', 'MarkerSize', 6-3)\n",
    "    for jj=1:length(sb.(i_34).id(:,ii))\n",
    "        text(sb.v.x(1,sb.(i_34).id(jj,ii)), sb.v.x(2,sb.(i_34).id(jj,ii)), sprintf('%d',jj))\n",
    "    end\n",
    "%     if id_pause\n",
    "%         gcfG;gcfH;gcfLFont;gcfS;%gcfP\n",
    "%         id_pause = false;\n",
    "%     end\n",
    "end\n",
    "end"
   ]
  },
  {
   "cell_type": "markdown",
   "metadata": {},
   "source": [
    "### openFoam"
   ]
  },
  {
   "cell_type": "code",
   "execution_count": null,
   "metadata": {},
   "outputs": [],
   "source": [
    "% fid = fopen(sprintf('blockMeshDict_tower_1_%s.foam',datestr(now,'yymmdd')),'w+');\n",
    "fid = fopen(sprintf('blockMeshDict_jbk_%s_%s.foam', ...\n",
    "    s_geo,datestr(now,'yymmdd')),'w+');\n",
    "\n",
    "fprintf(fid,'/*--------------------------------*- C++ -*----------------------------------*\\\\\\n');\n",
    "fprintf(fid,'| =========                 |                                                 |\\n');\n",
    "fprintf(fid,'| \\\\\\\\      /  F ield         | OpenFOAM: The Open Source CFD Toolbox           |\\n');\n",
    "fprintf(fid,'|   \\\\\\\\  /    O peration     | Web:      https://www.OpenFOAM.org              |\\n');\n",
    "fprintf(fid,'|  \\\\\\\\    /   A nd           | Version:  8                                     |\\n');\n",
    "fprintf(fid,'|    \\\\\\\\/     M anipulation  |                                                 |\\n');\n",
    "fprintf(fid,'\\\\*---------------------------------------------------------------------------*/\\n');\n",
    "fprintf(fid,'FoamFile\\n');\n",
    "fprintf(fid,'{\\n');\n",
    "fprintf(fid,'    version     2.0;\\n');\n",
    "fprintf(fid,'    format      ascii;\\n');\n",
    "fprintf(fid,'    class       dictionary;\\n');\n",
    "fprintf(fid,'    object      blockMeshDict;\\n');\n",
    "fprintf(fid,'}\\n');\n",
    "fprintf(fid,'// * * * * * * * * * * * * * * * * * * * * * * * * * * * * * * * * * * * * * //\\n');\n",
    "fprintf(fid,'\\n');\n",
    "fprintf(fid,'convertToMeters 1;\\n');\n",
    "fprintf(fid,'\\n');\n",
    "fprintf(fid,'vertices\\n');\n",
    "fprintf(fid,'(\\n');\n",
    "\n",
    "for ii=1:size(meshdata.vertex,2)\n",
    "% for ii=1:2^4\n",
    "    fprintf(fid,'(%f %f 0)\\n',meshdata.vertex(:,ii) );\n",
    "    % fprintf(fid,'(%.56f %.56f)\\n',meshdata.vertex(:,ii) );\n",
    "end\n",
    "\n",
    "for ii=1:size(meshdata.vertex,2)\n",
    "% for ii=1:2^4\n",
    "    fprintf(fid,'(%f %f 1)\\n',meshdata.vertex(:,ii) );\n",
    "    % fprintf(fid,'(%.56f %.56f)\\n',meshdata.vertex(:,ii) );\n",
    "end\n",
    "\n",
    "% fprintf(fid,'vertices #codeStream\\n');\n",
    "% fprintf(fid,'{\\n');\n",
    "% fprintf(fid,'    codeInclude\\n');\n",
    "% fprintf(fid,'    #{\\n');\n",
    "% fprintf(fid,'        #include \"pointField.H\"\\n');\n",
    "% fprintf(fid,'    #};\\n');\n",
    "% fprintf(fid,'\\n');\n",
    "% fprintf(fid,'    code\\n');\n",
    "% fprintf(fid,'    #{\\n');\n",
    "% fprintf(fid,'        pointField points(%d);\\n'%int(np.shape(of_xyz)[1]/2));\n",
    "% % for ii in range(len(of_xyz[0])):\n",
    "% for ii in range(int(np.shape(of_xyz)[1]/2)):\n",
    "%     fprintf(fid,'        points[%d] = point(%f, %f, %f);\\n'%(ii,of_xyz[0][ii],of_xyz[1][ii],of_xyz[2][ii]));\n",
    "% fprintf(fid,'\\n');\n",
    "% fprintf(fid,'        // Duplicate z points\\n');\n",
    "% fprintf(fid,'        label sz = points.size();\\n');\n",
    "% fprintf(fid,'        points.setSize(2*sz);\\n');\n",
    "% fprintf(fid,'        for (label i = 0; i < sz; i++)\\n');\n",
    "% fprintf(fid,'        {\\n');\n",
    "% fprintf(fid,'            const point& pt = points[i];\\n');\n",
    "% fprintf(fid,'            points[i+sz] = point(pt.x(), pt.y(), -pt.z());\\n');\n",
    "% % fprintf(fid,'            points[i+sz] = point(pt.x(), pt.y(), 1);\\n');\n",
    "% fprintf(fid,'        }\\n');\n",
    "% fprintf(fid,'\\n');\n",
    "% fprintf(fid,'        os << points;\\n');\n",
    "% fprintf(fid,'    #};\\n');\n",
    "% fprintf(fid,'};\\n');\n",
    "\n",
    "fprintf(fid,');\\n');\n",
    "fprintf(fid,'\\n');\n",
    "fprintf(fid,'blocks\\n');\n",
    "fprintf(fid,'(\\n');\n",
    "% fprintf(fid,'    hex (0 1 2 3 4 5 6 7) (20 20 1) simpleGrading (1 1 1)\\n');\n",
    "\n",
    "% if 0\n",
    "i_34 = 'b4';\n",
    "for ii=1:sb.(i_34).n\n",
    "    % ii = 1;\n",
    "    lc = sb.(i_34).id(:,ii);\n",
    "    % if 0\n",
    "    %     id_pause = true;\n",
    "    %     figure(1)\n",
    "    %     plot(sb.v.x(1,lc),sb.v.x(2,lc))\n",
    "    %     for jj=1:length(sb.(i_34).id(:,ii))\n",
    "    %         text(sb.v.x(1,sb.(i_34).id(jj,ii)), sb.v.x(2,sb.(i_34).id(jj,ii)), sprintf('%d',jj))\n",
    "    %     end\n",
    "    %     if id_pause\n",
    "    %         gcfG;gcfH;gcfLFont;gcfS;%gcfP\n",
    "    %         id_pause = false;\n",
    "    %     end\n",
    "    % end\n",
    "    % s_lc = [lc(1:2)+sb.v.n;lc([2,1]);lc(3:4)+sb.v.n;lc([4,3])];\n",
    "    s_lc = [lc(1) lc(1)+sb.v.n lc(2)+sb.v.n lc(2) lc(3) lc(3)+sb.v.n lc(4)+sb.v.n lc(4)];\n",
    "    fprintf(fid, '    hex (%d %d %d %d %d %d %d %d) (1 1 1) simpleGrading (1 1 1)\\n', s_lc-1);\n",
    "    % if 0\n",
    "    %     i_34 = 'b4';\n",
    "    %     ii = 1;\n",
    "    %     ii = 2;\n",
    "    %     ii = 4;\n",
    "    %     lc = sb.(i_34).id(:,ii);\n",
    "    %     s_lc = [lc(1) lc(1)+sb.v.n lc(2)+sb.v.n lc(2) lc(3) lc(3)+sb.v.n lc(4)+sb.v.n lc(4)];\n",
    "\n",
    "    %     id_pause = true;\n",
    "    %     figure(1)\n",
    "    %     % clf\n",
    "    %     plot3(sb.v.xn(1,s_lc),sb.v.xn(2,s_lc),sb.v.xn(3,s_lc),'-o', ...\n",
    "    %         'MarkerSize',6-3)\n",
    "    %         % 'MarkerSize',6-3,'Color',rgb('Navy'))\n",
    "    %     for jj=1:length(sb.(i_34).id(:,ii))\n",
    "    %         text(sb.v.x(1,sb.(i_34).id(jj,ii)), sb.v.x(2,sb.(i_34).id(jj,ii)), sprintf('%d',jj))\n",
    "    %     end\n",
    "    %     if id_pause\n",
    "    %         gcfG;gcfH;gcfLFont;gcfS;%gcfP\n",
    "    %         id_pause = false;\n",
    "    %     end\n",
    "    % end\n",
    "end\n",
    "% end\n",
    "i_34 = 'b3';\n",
    "for ii=1:sb.(i_34).n\n",
    "    lc = sb.(i_34).id(:,ii);\n",
    "    s_lc = [lc(1) lc(1)+sb.v.n lc(2)+sb.v.n lc(2) lc(3) lc(3)+sb.v.n lc(3)+sb.v.n lc(3)];\n",
    "    fprintf(fid, '    hex (%d %d %d %d %d %d %d %d) (1 1 1) simpleGrading (1 1 1)\\n', s_lc-1);\n",
    "end\n",
    "\n",
    "fprintf(fid,');\\n');\n",
    "fprintf(fid,'\\n');\n",
    "fprintf(fid,'edges\\n');\n",
    "fprintf(fid,'(\\n');\n",
    "fprintf(fid,');\\n');\n",
    "fprintf(fid,'\\n');\n",
    "fprintf(fid,'boundary\\n');\n",
    "fprintf(fid,'(\\n');\n",
    "% fprintf(fid,'    movingWall\\n');\n",
    "fprintf(fid,'    top\\n');\n",
    "fprintf(fid,'    {\\n');\n",
    "% fprintf(fid,'        type wall;\\n');\n",
    "fprintf(fid,'        type symmetryPlane;\\n');\n",
    "fprintf(fid,'        faces\\n');\n",
    "fprintf(fid,'        (\\n');\n",
    "% fprintf(fid,'            (3 7 6 2)\\n');\n",
    "% if 0\n",
    "%     id_pause = true;\n",
    "%     figure(1)\n",
    "%     clf\n",
    "%     for ii=1:size(sb.box(4).t,2)\n",
    "%         id = sb.box(4).t(:,ii)+1;\n",
    "%         x_id = sb.box(4).p(:,id);\n",
    "%     % plot(sb.box(1).p(1,ii),sb.box(1).p(2,ii),'o','MarkerSize',6-4)\n",
    "%     plot(x_id(1,:),x_id(2,:),'-o','MarkerSize',6-4,'Color',rgb('Navy'))\n",
    "%         if id_pause\n",
    "%             gcfG;gcfH;gcfLFont;gcfS;%gcfP\n",
    "%             id_pause = false;\n",
    "%         end\n",
    "%     end\n",
    "% end\n",
    "    % id_bd = 7;\n",
    "    % id_bd = 5;\n",
    "    id_bd = 4;\n",
    "    for ii=1:sb.box(id_bd).n\n",
    "        id = sb.box(id_bd).lc(:,ii);\n",
    "        ids = [id+sb.v.n;id([2,1])];\n",
    "        % x_id = sb.v.x(:,id);\n",
    "        fprintf(fid,'            (%d %d %d %d)\\n', ids-1 );\n",
    "    end\n",
    "fprintf(fid,'        );\\n');\n",
    "fprintf(fid,'    }\\n');\n",
    "\n",
    "if 0\n",
    "% if 1\n",
    "    fprintf(fid,'    fixedWalls\\n');\n",
    "    fprintf(fid,'    {\\n');\n",
    "    fprintf(fid,'        type wall;\\n');\n",
    "    % fprintf(fid,'        type symmetryPlane;\\n');\n",
    "    fprintf(fid,'        faces\\n');\n",
    "    fprintf(fid,'        (\\n');\n",
    "    % fprintf(fid,'            (1 5 4 0)\\n');\n",
    "        % for id_bd = 2:6\n",
    "        % for id_bd = [1 4 5 6]\n",
    "        for id_bd = 1:4\n",
    "            for ii=1:sb.box(id_bd).n\n",
    "                id = sb.box(id_bd).lc(:,ii);\n",
    "                ids = [id+sb.v.n;id([2,1])];\n",
    "                % ids = [id;id([2,1])+sb.v.n];\n",
    "                % x_id = sb.v.x(:,id);\n",
    "                fprintf(fid,'            (%d %d %d %d)\\n', ids-1 );\n",
    "            end\n",
    "        end\n",
    "        fprintf(fid,'        );\\n');\n",
    "        fprintf(fid,'    }\\n');\n",
    "else\n",
    "\n",
    "    fprintf(fid,'    bottom\\n');\n",
    "    fprintf(fid,'    {\\n');\n",
    "    % fprintf(fid,'        type wall;\\n');\n",
    "    fprintf(fid,'        type symmetryPlane;\\n');\n",
    "    fprintf(fid,'        faces\\n');\n",
    "    fprintf(fid,'        (\\n');\n",
    "    % fprintf(fid,'            (3 7 6 2)\\n');\n",
    "    % if 0\n",
    "    %     id_pause = true;\n",
    "    %     figure(1)\n",
    "    %     clf\n",
    "    %     for ii=1:size(sb.box(4).t,2)\n",
    "    %         id = sb.box(4).t(:,ii)+1;\n",
    "    %         x_id = sb.box(4).p(:,id);\n",
    "    %     % plot(sb.box(1).p(1,ii),sb.box(1).p(2,ii),'o','MarkerSize',6-4)\n",
    "    %     plot(x_id(1,:),x_id(2,:),'-o','MarkerSize',6-4,'Color',rgb('Navy'))\n",
    "    %         if id_pause\n",
    "    %             gcfG;gcfH;gcfLFont;gcfS;%gcfP\n",
    "    %             id_pause = false;\n",
    "    %         end\n",
    "    %     end\n",
    "    % end\n",
    "        id_bd = 3;\n",
    "        for ii=1:sb.box(id_bd).n\n",
    "            id = sb.box(id_bd).lc(:,ii);\n",
    "            ids = [id+sb.v.n;id([2,1])];\n",
    "            % ids = [id;id([2,1])+sb.v.n];\n",
    "            % x_id = sb.v.x(:,id);\n",
    "            fprintf(fid,'            (%d %d %d %d)\\n', ids-1 );\n",
    "        end\n",
    "    fprintf(fid,'        );\\n');\n",
    "    fprintf(fid,'    }\\n');\n",
    "\n",
    "    fprintf(fid,'    inlet\\n');\n",
    "    fprintf(fid,'    {\\n');\n",
    "    % fprintf(fid,'        type wall;\\n');\n",
    "    fprintf(fid,'        type patch;\\n');\n",
    "    fprintf(fid,'        faces\\n');\n",
    "    fprintf(fid,'        (\\n');\n",
    "    % fprintf(fid,'            (3 7 6 2)\\n');\n",
    "    % if 0\n",
    "    %     id_pause = true;\n",
    "    %     figure(1)\n",
    "    %     clf\n",
    "    %     for ii=1:size(sb.box(4).t,2)\n",
    "    %         id = sb.box(4).t(:,ii)+1;\n",
    "    %         x_id = sb.box(4).p(:,id);\n",
    "    %     % plot(sb.box(1).p(1,ii),sb.box(1).p(2,ii),'o','MarkerSize',6-4)\n",
    "    %     plot(x_id(1,:),x_id(2,:),'-o','MarkerSize',6-4,'Color',rgb('Navy'))\n",
    "    %         if id_pause\n",
    "    %             gcfG;gcfH;gcfLFont;gcfS;%gcfP\n",
    "    %             id_pause = false;\n",
    "    %         end\n",
    "    %     end\n",
    "    % end\n",
    "        id_bd = 1;\n",
    "        for ii=1:sb.box(id_bd).n\n",
    "            id = sb.box(id_bd).lc(:,ii);\n",
    "            ids = [id+sb.v.n;id([2,1])];\n",
    "            % ids = [id;id([2,1])+sb.v.n];\n",
    "            % x_id = sb.v.x(:,id);\n",
    "            fprintf(fid,'            (%d %d %d %d)\\n', ids-1 );\n",
    "        end\n",
    "    fprintf(fid,'        );\\n');\n",
    "    fprintf(fid,'    }\\n');\n",
    "\n",
    "    fprintf(fid,'    outlet\\n');\n",
    "    fprintf(fid,'    {\\n');\n",
    "    % fprintf(fid,'        type wall;\\n');\n",
    "    fprintf(fid,'        type patch;\\n');\n",
    "    fprintf(fid,'        faces\\n');\n",
    "    fprintf(fid,'        (\\n');\n",
    "    % fprintf(fid,'            (3 7 6 2)\\n');\n",
    "    % if 0\n",
    "    %     id_pause = true;\n",
    "    %     figure(1)\n",
    "    %     clf\n",
    "    %     for ii=1:size(sb.box(4).t,2)\n",
    "    %         id = sb.box(4).t(:,ii)+1;\n",
    "    %         x_id = sb.box(4).p(:,id);\n",
    "    %     % plot(sb.box(1).p(1,ii),sb.box(1).p(2,ii),'o','MarkerSize',6-4)\n",
    "    %     plot(x_id(1,:),x_id(2,:),'-o','MarkerSize',6-4,'Color',rgb('Navy'))\n",
    "    %         if id_pause\n",
    "    %             gcfG;gcfH;gcfLFont;gcfS;%gcfP\n",
    "    %             id_pause = false;\n",
    "    %         end\n",
    "    %     end\n",
    "    % end\n",
    "        id_bd = 2;\n",
    "        for ii=1:sb.box(id_bd).n\n",
    "            id = sb.box(id_bd).lc(:,ii);\n",
    "            ids = [id+sb.v.n;id([2,1])];\n",
    "            % ids = [id;id([2,1])+sb.v.n];\n",
    "            % x_id = sb.v.x(:,id);\n",
    "            fprintf(fid,'            (%d %d %d %d)\\n', ids-1 );\n",
    "        end\n",
    "    fprintf(fid,'        );\\n');\n",
    "    fprintf(fid,'    }\\n');\n",
    "\n",
    "    fprintf(fid,'    deck\\n');\n",
    "    fprintf(fid,'    {\\n');\n",
    "    fprintf(fid,'        type wall;\\n');\n",
    "    % fprintf(fid,'        type symmetryPlane;\\n');\n",
    "    fprintf(fid,'        faces\\n');\n",
    "    fprintf(fid,'        (\\n');\n",
    "    % fprintf(fid,'            (3 7 6 2)\\n');\n",
    "    % if 0\n",
    "    %     id_pause = true;\n",
    "    %     figure(1)\n",
    "    %     clf\n",
    "    %     for ii=1:size(sb.box(4).t,2)\n",
    "    %         id = sb.box(4).t(:,ii)+1;\n",
    "    %         x_id = sb.box(4).p(:,id);\n",
    "    %     % plot(sb.box(1).p(1,ii),sb.box(1).p(2,ii),'o','MarkerSize',6-4)\n",
    "    %     plot(x_id(1,:),x_id(2,:),'-o','MarkerSize',6-4,'Color',rgb('Navy'))\n",
    "    %         if id_pause\n",
    "    %             gcfG;gcfH;gcfLFont;gcfS;%gcfP\n",
    "    %             id_pause = false;\n",
    "    %         end\n",
    "    %     end\n",
    "    % end\n",
    "        id_bd = 5;\n",
    "        for ii=1:sb.box(id_bd).n\n",
    "            id = sb.box(id_bd).lc(:,ii);\n",
    "            ids = [id+sb.v.n;id([2,1])];\n",
    "            % ids = [id;id([2,1])+sb.v.n];\n",
    "            % x_id = sb.v.x(:,id);\n",
    "            fprintf(fid,'            (%d %d %d %d)\\n', ids-1 );\n",
    "        end\n",
    "    fprintf(fid,'        );\\n');\n",
    "    fprintf(fid,'    }\\n');\n",
    "end\n",
    "\n",
    "fprintf(fid,'    frontAndBack\\n');\n",
    "fprintf(fid,'    {\\n');\n",
    "fprintf(fid,'        type empty;\\n');\n",
    "fprintf(fid,'        faces\\n');\n",
    "fprintf(fid,'        (\\n');\n",
    "\n",
    "i_34 = 'b4';\n",
    "for ii=1:sb.(i_34).n\n",
    "    lc = sb.(i_34).id(:,ii)-1;\n",
    "    fprintf(fid,'            (%d %d %d %d)\\n', lc([2,1,3,4]) );\n",
    "    fprintf(fid,'            (%d %d %d %d)\\n', lc([1,2,4,3])+sb.v.n );\n",
    "end\n",
    "i_34 = 'b3';\n",
    "for ii=1:sb.(i_34).n\n",
    "    lc = sb.(i_34).id(:,ii)-1;\n",
    "    fprintf(fid,'            (%d %d %d %d)\\n', lc([2,1,3,3]) );\n",
    "    fprintf(fid,'            (%d %d %d %d)\\n', lc([1,2,3,3])+sb.v.n );\n",
    "end\n",
    "fprintf(fid,'        );\\n');\n",
    "fprintf(fid,'    }\\n');\n",
    "fprintf(fid,');\\n');\n",
    "fprintf(fid,'\\n');\n",
    "fprintf(fid,'mergePatchPairs\\n');\n",
    "fprintf(fid,'(\\n');\n",
    "fprintf(fid,');\\n');\n",
    "fprintf(fid,'\\n');\n",
    "fprintf(fid,'// ************************************************************************* //\\n');\n",
    "\n",
    "fclose(fid);"
   ]
  },
  {
   "cell_type": "markdown",
   "metadata": {},
   "source": [
    "### openFoam"
   ]
  },
  {
   "cell_type": "code",
   "execution_count": null,
   "metadata": {},
   "outputs": [],
   "source": [
    "% fid = fopen(sprintf('controlDict_rib_%s.foam',datestr(now,'yymmdd')),'w+');"
   ]
  },
  {
   "cell_type": "markdown",
   "metadata": {},
   "source": [
    "### openFoam"
   ]
  },
  {
   "cell_type": "markdown",
   "metadata": {},
   "source": [
    "# Main Process"
   ]
  },
  {
   "cell_type": "markdown",
   "metadata": {
    "lines_to_next_cell": 0
   },
   "source": [
    "# Post Process"
   ]
  },
  {
   "cell_type": "code",
   "execution_count": null,
   "metadata": {},
   "outputs": [],
   "source": [
    "sb_ii.of = sb;\n",
    "\n",
    "save(sprintf('res_cfd_of_%s_%s', ...\n",
    "    s_geo,datestr(now(),'yymmdd')),'sb_ii','meshdata')\n",
    "    % s_geo,datestr(now(),'yymmdd')),'sb','meshdata')\n",
    "\n",
    "end\n",
    "end"
   ]
  },
  {
   "cell_type": "markdown",
   "metadata": {},
   "source": [
    "# FINE"
   ]
  },
  {
   "cell_type": "code",
   "execution_count": null,
   "metadata": {},
   "outputs": [],
   "source": [
    "if 0"
   ]
  },
  {
   "cell_type": "code",
   "execution_count": 2,
   "metadata": {},
   "outputs": [],
   "source": [
    "% id_geo = 1;\n",
    "for id_geo = 1:3"
   ]
  },
  {
   "cell_type": "code",
   "execution_count": 3,
   "metadata": {},
   "outputs": [],
   "source": [
    "switch id_geo\n",
    "case 1\n",
    "    s_geo = 'longitudinal';\n",
    "case 2\n",
    "    s_geo = 'transverse';\n",
    "case 3\n",
    "    s_geo = 'upper_a000';\n",
    "end\n",
    "switch id_geo\n",
    "case {1,2}\n",
    "    load(sprintf('res_cfd_of_%s_%s', ...\n",
    "        s_geo,'201008'),'sb_ii','meshdata')\n",
    "case 3\n",
    "    load(sprintf('res_cfd_of_%s_%s', ...\n",
    "        s_geo,'201008'),'sb_ii','meshdata')\n",
    "end\n",
    "sb_ij(id_geo).sb = sb_ii.sb;\n",
    "sb_ij(id_geo).of = sb_ii.of;\n",
    "    % s_geo,datestr(now(),'yymmdd')),'sb','meshdata')\n",
    "\n",
    "Wind = m_wind;"
   ]
  },
  {
   "cell_type": "code",
   "execution_count": 4,
   "metadata": {},
   "outputs": [
    {
     "name": "stdout",
     "output_type": "stream",
     "text": [
      "\n",
      "B = 0.060000, D = 0.045000\n",
      "T [degC] = 15.000000, pA [kPa] = 101.325000\n",
      "rho [kg/m^3] = 1.224799\n",
      "Dynamic (shear) viscosity, mu [Pa-s, kg/m-s] = 0.000018\n",
      "Kinematic viscosity, nu [m^2/s] = 0.000015\n",
      "Specific heat, Cp [J/kg-K] = 1005.237709"
     ]
    }
   ],
   "source": [
    "Wind.ii.Tc = 15;\n",
    "Wind.ii.T = Wind.atm.T + Wind.ii.Tc;\n",
    "Wind.ii.pA = Wind.atm.pA;\n",
    "Wind.ii.rho = Wind.air.rho(Wind.ii.pA, Wind.ii.T);\n",
    "Wind.ii.mu = Wind.air.mu(Wind.ii.T);\n",
    "Wind.ii.Cp = Wind.air.Cp(Wind.ii.T);\n",
    "Wind.ii.nu = Wind.ii.mu / Wind.ii.rho;\n",
    "\n",
    "%\n",
    "%   B, D\n",
    "%\n",
    "fprintf('\\nB = %f, D = %f',sb_ii.sb.B,sb_ii.sb.D)\n",
    "\n",
    "%\n",
    "%   Air\n",
    "%   T, p\n",
    "%   rho, mu, nu, Cp\n",
    "%\n",
    "fprintf('\\nT [degC] = %f, pA [kPa] = %f',Wind.ii.Tc,Wind.ii.pA/1e3)\n",
    "fprintf('\\nrho [kg/m^3] = %f',Wind.ii.rho)\n",
    "fprintf('\\nDynamic (shear) viscosity, mu [Pa-s, kg/m-s] = %f',Wind.ii.mu)\n",
    "fprintf('\\nKinematic viscosity, nu [m^2/s] = %f',Wind.ii.nu)\n",
    "fprintf('\\nSpecific heat, Cp [J/kg-K] = %f',Wind.ii.Cp)"
   ]
  },
  {
   "cell_type": "markdown",
   "metadata": {},
   "source": [
    "# Similarity"
   ]
  },
  {
   "cell_type": "markdown",
   "metadata": {},
   "source": [
    "- B, D : lam_L\n",
    "- M : lam_L^2 : lam_L^3/lam_L\n",
    "- I : lam_L^4 : lam_L^(3+2) /lam_L\n",
    "- U : $\\sqrt{\\lambda_L}$ cf. $\\frac{1}{\\lambda_L}$\n",
    "- f : $\\frac{1}{\\sqrt{\\lambda_L}}$ cf. $\\frac{1}{\\lambda_L^2}$"
   ]
  },
  {
   "cell_type": "code",
   "execution_count": 35,
   "metadata": {},
   "outputs": [
    {
     "name": "stdout",
     "output_type": "stream",
     "text": [
      "\n",
      "ans = \n",
      "\n",
      "  struct with fields:\n",
      "\n",
      "            id: 1\n",
      "           x_c: 21.4576\n",
      "             B: 16.1000\n",
      "           y_c: 18.9363\n",
      "             D: 3.6507\n",
      "     x_c_fence: 880.6135\n",
      "     y_c_fence: 65.0038\n",
      "    x_c_fence2: 6.8000\n",
      "    y_c_fence2: 1.6272\n",
      "\n"
     ]
    }
   ],
   "source": [
    "% sb_ii.sb.geo"
   ]
  },
  {
   "cell_type": "code",
   "execution_count": 5,
   "metadata": {
    "lines_to_next_cell": 2
   },
   "outputs": [
    {
     "name": "stdout",
     "output_type": "stream",
     "text": [
      "\n",
      "1\n",
      "scale = 100.000000\n",
      "Re = 1.500000e+02\n",
      "U [m/s] = 0.036520\n",
      "U_F [m/s] = 0.365200\n",
      "U_F_Re [m/s] = 0.000365\n",
      "2\n",
      "scale = 100.000000\n",
      "Re = 1.000000e+03\n",
      "U [m/s] = 0.243467\n",
      "U_F [m/s] = 2.434665\n",
      "U_F_Re [m/s] = 0.002435\n",
      "3\n",
      "scale = 100.000000\n",
      "Re = 1.000000e+04\n",
      "U [m/s] = 2.434665\n",
      "U_F [m/s] = 24.346652\n",
      "U_F_Re [m/s] = 0.024347\n",
      "4\n",
      "scale = 100.000000\n",
      "Re = 1.000000e+05\n",
      "U [m/s] = 24.346652\n",
      "U_F [m/s] = 243.466519\n",
      "U_F_Re [m/s] = 0.243467\n",
      "5\n",
      "scale = 100.000000\n",
      "Re = 2.000000e+05\n",
      "U [m/s] = 48.693304\n",
      "U_F [m/s] = 486.933039\n",
      "U_F_Re [m/s] = 0.486933"
     ]
    }
   ],
   "source": [
    "for ii=1:sb_ii.sb.Re_n\n",
    "    fprintf('\\n%d', ii)\n",
    "    fprintf('\\nscale = %f', sb_ii.sb.scale)\n",
    "    fprintf('\\nRe = %e', sb_ii.sb.Re_pool(ii))\n",
    "    fprintf('\\nU [m/s] = %f', sb_ii.sb.U(sb_ii.sb.Re_pool(ii)) )\n",
    "    fprintf('\\nU_F [m/s] = %f', sb_ii.sb.U(sb_ii.sb.Re_pool(ii)) * sqrt(sb_ii.sb.scale) )\n",
    "    fprintf('\\nU_F_Re [m/s] = %f', sb_ii.sb.U(sb_ii.sb.Re_pool(ii)) / sb_ii.sb.scale )\n",
    "end"
   ]
  },
  {
   "cell_type": "markdown",
   "metadata": {},
   "source": [
    "# Turbulence"
   ]
  },
  {
   "cell_type": "code",
   "execution_count": 6,
   "metadata": {},
   "outputs": [
    {
     "name": "stdout",
     "output_type": "stream",
     "text": [
      "\n",
      "C_mu = 0.090000\n",
      "C1 = 1.440000\n",
      "C2 = 1.920000\n",
      "alpha_K = 1.000000\n",
      "alpha_epsilon = 0.769230"
     ]
    }
   ],
   "source": [
    "fprintf('\\nC_mu = %f', Wind.tur.C_mu)\n",
    "fprintf('\\nC1 = %f', Wind.tur.C1)\n",
    "fprintf('\\nC2 = %f', Wind.tur.C2)\n",
    "fprintf('\\nalpha_K = %f', Wind.tur.alpha_K)\n",
    "fprintf('\\nalpha_epsilon = %f', Wind.tur.alpha_epsilon)"
   ]
  },
  {
   "cell_type": "code",
   "execution_count": 13,
   "metadata": {},
   "outputs": [
    {
     "name": "stdout",
     "output_type": "stream",
     "text": [
      "\n",
      "T = 288.150000 \n",
      "pA = 101325.000000 \n",
      "rho = 1.224799 \n",
      "mu = 0.000018 \n",
      "Tc = 15.000000 \n",
      "Cp = 1005.237709 \n",
      "nu = 0.000015 \n",
      "U_mu = 4.000000 \n",
      "Re = 16429.363726 \n",
      "I_u = 0.050000 0.050000 0.050000 \n",
      "L_u = 0.004200 \n",
      "sig_U = 0.200000 0.200000 0.200000 \n",
      "k = 0.060000 \n",
      "epsilon = 0.574989 \n",
      "omega = 106.479427 \n",
      "nu_t = 0.001029 \n",
      "nu_t1 = 0.000563 \n",
      "nu_tilda = 0.005144 "
     ]
    }
   ],
   "source": [
    "Wind.ii.U_mu = 4;\n",
    "Wind.ii.Re = Wind.ii.U_mu*sb_ii.sb.B/Wind.ii.nu;\n",
    "Wind.ii.I_u = [1 1 1]*5e-2;\n",
    "Wind.ii.L_u = sb_ii.sb.B*7e-2;\n",
    "Wind.ii.sig_U = Wind.ii.I_u*Wind.ii.U_mu;\n",
    "Wind.ii.k = 1/2*sum(Wind.ii.sig_U.^2);\n",
    "Wind.ii.epsilon = Wind.tur.C_mu^0.75 * Wind.ii.k.^1.5 / Wind.ii.L_u;\n",
    "Wind.ii.omega = Wind.tur.C_mu^-0.25 * Wind.ii.k^0.5 / Wind.ii.L_u;\n",
    "Wind.ii.nu_t = sqrt(3/2)*Wind.ii.sig_U(1)*Wind.ii.L_u;\n",
    "Wind.ii.nu_t1 = Wind.tur.C_mu^0.25 * sqrt(3/2)*Wind.ii.sig_U(1)*Wind.ii.L_u;\n",
    "Wind.ii.nu_tilda = 5*Wind.ii.nu_t;\n",
    "\n",
    "s_field = @(s) cellfun(@(x) void(@() {fprintf('\\n%s = ', x), fprintf('%f ',s.(x)), } ) , fieldnames(s) );\n",
    "s_field(Wind.ii);"
   ]
  },
  {
   "cell_type": "code",
   "execution_count": 19,
   "metadata": {},
   "outputs": [
    {
     "name": "stdout",
     "output_type": "stream",
     "text": [
      "\n",
      "T = 288.150000 \n",
      "pA = 101325.000000 \n",
      "rho = 1.224799 \n",
      "mu = 0.000018 \n",
      "Tc = 15.000000 \n",
      "Cp = 1005.237709 \n",
      "nu = 0.000015 \n",
      "U_mu = 4.000000 \n",
      "Re = 16429.363726 \n",
      "I_u = 0.050000 0.050000 0.050000 \n",
      "L_u = 0.004200 \n",
      "sig_U = 0.200000 0.200000 0.200000 \n",
      "k = 0.060000 \n",
      "epsilon = 0.574989 \n",
      "omega = 106.479427 \n",
      "nu_t = 0.001029 \n",
      "nu_t1 = 0.000563 \n",
      "nu_tilda = 0.005144 \n",
      "dx_min = 0.000100 \n",
      "d_t = 0.000025 \n",
      "BD = 0.060000 0.045000 \n",
      "T_f = 0.015000 0.011250 \n",
      "n_int = 30.000000 22.500000 \n",
      "St = 0.200000 \n",
      "T_vor = 0.075000 0.056250 \n",
      "n_vor = 1500.000000 1125.000000 "
     ]
    }
   ],
   "source": [
    "switch id_geo\n",
    "case 1\n",
    "    Wind.ii.dx_min = 1e-4;\n",
    "case 2\n",
    "    Wind.ii.dx_min = 1e-4;\n",
    "case 3\n",
    "    Wind.ii.dx_min = 1e-5;\n",
    "end\n",
    "Wind.ii.BD = [sb_ii.sb.B, sb_ii.sb.D];\n",
    "Wind.ii.d_t = Wind.ii.dx_min/Wind.ii.U_mu;\n",
    "Wind.ii.T_f = Wind.ii.BD / Wind.ii.U_mu;\n",
    "\n",
    "s_field(Wind.ii);"
   ]
  },
  {
   "cell_type": "code",
   "execution_count": 20,
   "metadata": {},
   "outputs": [
    {
     "name": "stdout",
     "output_type": "stream",
     "text": [
      "\n",
      "T = 288.150000 \n",
      "pA = 101325.000000 \n",
      "rho = 1.224799 \n",
      "mu = 0.000018 \n",
      "Tc = 15.000000 \n",
      "Cp = 1005.237709 \n",
      "nu = 0.000015 \n",
      "U_mu = 4.000000 \n",
      "Re = 16429.363726 \n",
      "I_u = 0.050000 0.050000 0.050000 \n",
      "L_u = 0.004200 \n",
      "sig_U = 0.200000 0.200000 0.200000 \n",
      "k = 0.060000 \n",
      "epsilon = 0.574989 \n",
      "omega = 106.479427 \n",
      "nu_t = 0.001029 \n",
      "nu_t1 = 0.000563 \n",
      "nu_tilda = 0.005144 \n",
      "dx_min = 0.000100 \n",
      "d_t = 0.000025 \n",
      "BD = 0.060000 0.045000 \n",
      "T_f = 0.015000 0.011250 \n",
      "n_int = 60.000000 45.000000 \n",
      "St = 0.200000 \n",
      "T_vor = 0.075000 0.056250 \n",
      "n_vor = 3000.000000 2250.000000 "
     ]
    }
   ],
   "source": [
    "Wind.ii.n_int = Wind.ii.T_f/Wind.ii.d_t / 10;\n",
    "Wind.ii.St = 0.2;\n",
    "Wind.ii.T_vor = Wind.ii.BD / Wind.ii.St / Wind.ii.U_mu;\n",
    "Wind.ii.n_vor = Wind.ii.T_vor/Wind.ii.d_t;\n",
    "\n",
    "s_field(Wind.ii);\n",
    "\n",
    "sb_ij(id_geo).wind = Wind.ii;"
   ]
  },
  {
   "cell_type": "markdown",
   "metadata": {},
   "source": [
    "# FINE"
   ]
  },
  {
   "cell_type": "code",
   "execution_count": null,
   "metadata": {},
   "outputs": [],
   "source": [
    "end"
   ]
  },
  {
   "cell_type": "code",
   "execution_count": 1,
   "metadata": {},
   "outputs": [],
   "source": [
    "% save(sprintf('res_cfd_of_N_%s', ...\n",
    "%     datestr(now(),'yymmdd')),'sb_ij')\n",
    "load(sprintf('res_cfd_of_N_%s', ...\n",
    "    datestr(now(),'yymmdd')),'sb_ij')"
   ]
  },
  {
   "cell_type": "code",
   "execution_count": 4,
   "metadata": {},
   "outputs": [
    {
     "name": "stdout",
     "output_type": "stream",
     "text": [
      "\n",
      "ans = \n",
      "\n",
      "  struct with fields:\n",
      "\n",
      "           T: 288.1500\n",
      "          pA: 101325\n",
      "         rho: 1.2248\n",
      "          mu: 1.7892e-05\n",
      "          Tc: 15\n",
      "          Cp: 1.0052e+03\n",
      "          nu: 1.4608e-05\n",
      "        U_mu: 4\n",
      "          Re: 1.6429e+04\n",
      "         I_u: [0.0500 0.0500 0.0500]\n",
      "         L_u: 0.0042\n",
      "       sig_U: [0.2000 0.2000 0.2000]\n",
      "           k: 0.0600\n",
      "     epsilon: 0.5750\n",
      "       omega: 106.4794\n",
      "        nu_t: 0.0010\n",
      "       nu_t1: 5.6349e-04\n",
      "    nu_tilda: 0.0051\n",
      "      dx_min: 1.0000e-04\n",
      "          BD: [0.0600 0.0450]\n",
      "         d_t: 2.5000e-05\n",
      "         T_f: [0.0150 0.0112]\n",
      "       n_int: [60 45.0000]\n",
      "          St: 0.2000\n",
      "       T_vor: [0.0750 0.0562]\n",
      "       n_vor: [3.0000e+03 2.2500e+03]\n",
      "\n"
     ]
    }
   ],
   "source": [
    "sb_ij(1).wind"
   ]
  },
  {
   "cell_type": "markdown",
   "metadata": {},
   "source": [
    "- blockMeshDict\n",
    "- controlDict\n"
   ]
  },
  {
   "cell_type": "markdown",
   "metadata": {},
   "source": [
    "- blockMesh\n",
    "    - paraFoam\n",
    "    - comparison COMSOL \n",
    "- simpleFoam"
   ]
  },
  {
   "cell_type": "markdown",
   "metadata": {},
   "source": [
    "- Compare with COMSOL"
   ]
  }
 ],
 "metadata": {
  "jupytext": {
   "formats": "ipynb,m:percent"
  },
  "kernelspec": {
   "display_name": "Matlab",
   "language": "matlab",
   "name": "matlab"
  },
  "language_info": {
   "codemirror_mode": "octave",
   "file_extension": ".m",
   "help_links": [
    {
     "text": "MetaKernel Magics",
     "url": "https://metakernel.readthedocs.io/en/latest/source/README.html"
    }
   ],
   "mimetype": "text/x-octave",
   "name": "matlab",
   "version": "0.16.9"
  },
  "toc": {
   "base_numbering": 1,
   "nav_menu": {},
   "number_sections": true,
   "sideBar": true,
   "skip_h1_title": false,
   "title_cell": "Table of Contents",
   "title_sidebar": "Contents",
   "toc_cell": false,
   "toc_position": {
    "height": "calc(100% - 180px)",
    "left": "10px",
    "top": "150px",
    "width": "165px"
   },
   "toc_section_display": true,
   "toc_window_display": true
  }
 },
 "nbformat": 4,
 "nbformat_minor": 4
}
