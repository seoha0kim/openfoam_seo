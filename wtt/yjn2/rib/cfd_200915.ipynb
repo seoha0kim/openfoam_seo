{
 "cells": [
  {
   "cell_type": "markdown",
   "metadata": {},
   "source": [
    "# YJN2: arch rib"
   ]
  },
  {
   "cell_type": "markdown",
   "metadata": {},
   "source": [
    "Saang Bum Kim <br>\n",
    "2020-07-01 17:50"
   ]
  },
  {
   "cell_type": "code",
   "execution_count": null,
   "metadata": {},
   "outputs": [],
   "source": [
    "function [model,sb] = cfd_200915(varargin)\n",
    "%\n",
    "% [model,sb] = rib_200915(varargin)\n",
    "%\n",
    "% Model exported on Sep 16 2020, 18:03 by COMSOL 5.5.0.359."
   ]
  },
  {
   "cell_type": "code",
   "execution_count": 1,
   "metadata": {},
   "outputs": [
    {
     "name": "stdout",
     "output_type": "stream",
     "text": [
      "[1] 21693\r\n",
      "\n"
     ]
    }
   ],
   "source": [
    "% !comsol mphserver -silent &"
   ]
  },
  {
   "cell_type": "code",
   "execution_count": 1,
   "metadata": {},
   "outputs": [
    {
     "name": "stdout",
     "output_type": "stream",
     "text": [
      "\n",
      "MATLAB is now connected to a COMSOL Multiphysics Server at localhost:2036\n",
      "\n",
      "Run the commands below to access the COMSOL ModelUtil commands:\n",
      "import com.comsol.model.util.*\n"
     ]
    }
   ],
   "source": [
    "%\n",
    "%%  PART 0.     Opening\n",
    "%\n",
    "% fclose all; close all\n",
    "% clc\n",
    "% clear all\n",
    "tcomp = tic;\n",
    "telap = toc(tcomp);\n",
    "\n",
    "s_dir = 'git/openfoam_seo/wtt/yjn2/rib/';\n",
    "\n",
    "p_comsol = 2036;\n",
    "seo_init\n",
    "\n",
    "id_f = 1;\n",
    "% id_sv = true;\n",
    "id_sv = false;\n",
    "% id_pl = true;\n",
    "id_pl = false;"
   ]
  },
  {
   "cell_type": "markdown",
   "metadata": {},
   "source": [
    "# Pre"
   ]
  },
  {
   "cell_type": "code",
   "execution_count": 39,
   "metadata": {},
   "outputs": [
    {
     "name": "stdout",
     "output_type": "stream",
     "text": [
      "\n",
      "ans = \n",
      "\n",
      "  struct with fields:\n",
      "\n",
      "     x_c: 157.1274\n",
      "       B: 1.3396\n",
      "     y_c: -10.0502\n",
      "      B1: 1.3396\n",
      "       D: 2.7324\n",
      "      id: 2\n",
      "      B0: 12.3541\n",
      "    x_c1: 162.2902\n",
      "\n"
     ]
    }
   ],
   "source": [
    "sb.geo"
   ]
  },
  {
   "cell_type": "code",
   "execution_count": 2,
   "metadata": {},
   "outputs": [],
   "source": [
    "clear res\n",
    "res.Re_pool = [150 1000 10000 100000 200000];\n",
    "res.geo(1).s_geo = 'upper';\n",
    "res.geo(2).s_geo = 'lower';"
   ]
  },
  {
   "cell_type": "markdown",
   "metadata": {},
   "source": [
    "# Upper"
   ]
  },
  {
   "cell_type": "code",
   "execution_count": 37,
   "metadata": {},
   "outputs": [
    {
     "name": "stdout",
     "output_type": "stream",
     "text": [
      "\n",
      "ans =\n",
      "\n",
      "    1.0153   -0.2428   -0.4967    1.0182   -0.2427   -0.4945\n",
      "    1.4088   -0.2516   -0.0151    1.4098   -0.2509   -0.0148\n",
      "   -0.3934    0.0088    0.0105   -0.3916    0.0082    0.0100\n",
      "\n",
      "\n",
      "ans =\n",
      "\n",
      "    1.0560   -0.2527   -0.4895    1.0567   -0.2527   -0.4888\n",
      "    1.4375   -0.2559   -0.0144    1.4379   -0.2557   -0.0144\n",
      "   -0.3815    0.0032    0.0147   -0.3812    0.0030    0.0145\n",
      "\n",
      "\n",
      "ans =\n",
      "\n",
      "    1.0628   -0.2533   -0.4881    1.0630   -0.2533   -0.4876\n",
      "    1.4436   -0.2562   -0.0140    1.4437   -0.2561   -0.0139\n",
      "   -0.3808    0.0029    0.0155   -0.3807    0.0028    0.0154\n",
      "\n"
     ]
    }
   ],
   "source": [
    "sb.res(8).C.DLM\n",
    "sb.res(9).C.DLM\n",
    "sb.res(10).C.DLM"
   ]
  },
  {
   "cell_type": "code",
   "execution_count": 17,
   "metadata": {},
   "outputs": [
    {
     "name": "stdout",
     "output_type": "stream",
     "text": [
      "Warning: Could not find appropriate function on path loading function handle /media/sbkim/2266B8F966B8CEB3/git/openfoam_seo/wtt/yjn2/rib_turbulent_lower_200925.m>@(rey_n)(rey_n*Wind.air.mu(273.15+15)/Wind.air.rho(101325,273.15+15)/sb.B)\n",
      "Warning: Could not find appropriate function on path loading function handle /media/sbkim/2266B8F966B8CEB3/git/openfoam_seo/wtt/yjn2/rib_turbulent_lower_200925.m>@(rey_n)sb.B/sb.U(rey_n)/0.2\n",
      "Warning: Could not find appropriate function on path loading function handle /media/sbkim/2266B8F966B8CEB3/git/openfoam_seo/wtt/yjn2/rib_turbulent_lower_200925.m>@(rey_n)(rey_n*Wind.air.mu(273.15+15)/Wind.air.rho(101325,273.15+15)/sb.B)\n",
      "Warning: Could not find appropriate function on path loading function handle /media/sbkim/2266B8F966B8CEB3/git/openfoam_seo/wtt/yjn2/rib_turbulent_lower_200925.m>@(rey_n)sb.B/sb.U(rey_n)/0.2\n",
      "Warning: Could not find appropriate function on path loading function handle /media/sbkim/2266B8F966B8CEB3/git/openfoam_seo/wtt/yjn2/rib_turbulent_lower_200925.m>@(rey_n)(rey_n*Wind.air.mu(273.15+15)/Wind.air.rho(101325,273.15+15)/sb.B)\n",
      "Warning: Could not find appropriate function on path loading function handle /media/sbkim/2266B8F966B8CEB3/git/openfoam_seo/wtt/yjn2/rib_turbulent_lower_200925.m>@(rey_n)sb.B/sb.U(rey_n)/0.2\n",
      "Warning: Could not find appropriate function on path loading function handle /media/sbkim/2266B8F966B8CEB3/git/openfoam_seo/wtt/yjn2/rib_turbulent_lower_200925.m>@(rey_n)(rey_n*Wind.air.mu(273.15+15)/Wind.air.rho(101325,273.15+15)/sb.B)\n",
      "Warning: Could not find appropriate function on path loading function handle /media/sbkim/2266B8F966B8CEB3/git/openfoam_seo/wtt/yjn2/rib_turbulent_lower_200925.m>@(rey_n)sb.B/sb.U(rey_n)/0.2\n",
      "Warning: Could not find appropriate function on path loading function handle /media/sbkim/2266B8F966B8CEB3/git/openfoam_seo/wtt/yjn2/rib_turbulent_lower_200925.m>@(rey_n)(rey_n*Wind.air.mu(273.15+15)/Wind.air.rho(101325,273.15+15)/sb.B)\n",
      "Warning: Could not find appropriate function on path loading function handle /media/sbkim/2266B8F966B8CEB3/git/openfoam_seo/wtt/yjn2/rib_turbulent_lower_200925.m>@(rey_n)sb.B/sb.U(rey_n)/0.2\n",
      "Warning: Could not find appropriate function on path loading function handle /media/sbkim/2266B8F966B8CEB3/git/openfoam_seo/wtt/yjn2/rib_turbulent_lower_200925.m>@(rey_n)(rey_n*Wind.air.mu(273.15+15)/Wind.air.rho(101325,273.15+15)/sb.B)\n",
      "Warning: Could not find appropriate function on path loading function handle /media/sbkim/2266B8F966B8CEB3/git/openfoam_seo/wtt/yjn2/rib_turbulent_lower_200925.m>@(rey_n)sb.B/sb.U(rey_n)/0.2\n",
      "Warning: Could not find appropriate function on path loading function handle /media/sbkim/2266B8F966B8CEB3/git/openfoam_seo/wtt/yjn2/rib_turbulent_lower_200925.m>@(rey_n)(rey_n*Wind.air.mu(273.15+15)/Wind.air.rho(101325,273.15+15)/sb.B)\n",
      "Warning: Could not find appropriate function on path loading function handle /media/sbkim/2266B8F966B8CEB3/git/openfoam_seo/wtt/yjn2/rib_turbulent_lower_200925.m>@(rey_n)sb.B/sb.U(rey_n)/0.2\n",
      "Warning: Could not find appropriate function on path loading function handle /media/sbkim/2266B8F966B8CEB3/git/openfoam_seo/wtt/yjn2/rib_turbulent_lower_200925.m>@(rey_n)(rey_n*Wind.air.mu(273.15+15)/Wind.air.rho(101325,273.15+15)/sb.B)\n",
      "Warning: Could not find appropriate function on path loading function handle /media/sbkim/2266B8F966B8CEB3/git/openfoam_seo/wtt/yjn2/rib_turbulent_lower_200925.m>@(rey_n)sb.B/sb.U(rey_n)/0.2\n",
      "Warning: Could not find appropriate function on path loading function handle /media/sbkim/2266B8F966B8CEB3/git/openfoam_seo/wtt/yjn2/rib_turbulent_lower_200925.m>@(rey_n)(rey_n*Wind.air.mu(273.15+15)/Wind.air.rho(101325,273.15+15)/sb.B)\n",
      "Warning: Could not find appropriate function on path loading function handle /media/sbkim/2266B8F966B8CEB3/git/openfoam_seo/wtt/yjn2/rib_turbulent_lower_200925.m>@(rey_n)sb.B/sb.U(rey_n)/0.2\n",
      "Warning: Could not find appropriate function on path loading function handle /media/sbkim/2266B8F966B8CEB3/git/openfoam_seo/wtt/yjn2/rib_turbulent_lower_200925.m>@(rey_n)(rey_n*Wind.air.mu(273.15+15)/Wind.air.rho(101325,273.15+15)/sb.B)\n",
      "Warning: Could not find appropriate function on path loading function handle /media/sbkim/2266B8F966B8CEB3/git/openfoam_seo/wtt/yjn2/rib_turbulent_lower_200925.m>@(rey_n)sb.B/sb.U(rey_n)/0.2\n"
     ]
    },
    {
     "data": {
      "image/png": "[encoded data removed]",
      "text/plain": [
       "<IPython.core.display.Image object>"
      ]
     },
     "metadata": {},
     "output_type": "display_data"
    }
   ],
   "source": [
    "id_geo = 1;\n",
    "% res.geo(id_geo).al_p = [0 2.5 -2.5 5.0 -5.0];\n",
    "% res.geo(id_geo).s_al = {'000', 'm25', 'p25', 'm50', 'p50'};\n",
    "\n",
    "% res.geo(id_geo).s_c{5} = rgb('Magenta');\n",
    "% res.geo(id_geo).s_c{3} = rgb('Crimson');\n",
    "% res.geo(id_geo).s_c{1} = rgb('Yellow');\n",
    "% res.geo(id_geo).s_c{2} = rgb('Teal');\n",
    "% res.geo(id_geo).s_c{4} = rgb('Indigo');\n",
    "\n",
    "res.s_c{1} = rgb('Navy');\n",
    "res.s_c{2} = rgb('Crimson');\n",
    "\n",
    "res.s_c{3} = rgb('LightBlue');\n",
    "res.s_c{4} = rgb('LightSalmon');\n",
    "\n",
    "res.s_c{5} = rgb('Teal');\n",
    "res.s_c{6} = rgb('Gold');\n",
    "\n",
    "\n",
    "id_pause = true;\n",
    "figure(1)\n",
    "clf\n",
    "\n",
    "for id_geo = 1:2\n",
    "% for ll = [5 3 1 2 4]\n",
    "for ll = 1\n",
    "for ii = 1:5\n",
    "    res.geo(id_geo).sb(ll).Re(ii) = res.Re_pool(ii);\n",
    "    load(sprintf('rib_%s_turbulent_SST_Re%d', ...\n",
    "        res.geo(id_geo).s_geo, res.Re_pool(ii)));\n",
    "\n",
    "res.geo(id_geo).sb(ll).BD(ii,1:2) = [sb.B,sb.D];\n",
    "% res.geo(id_geo).sb(ll).res(ii,1:6) = sb.res(ii).C.DLM(1:6);\n",
    "% sc = [1 sb.D/sb.B (sb.D/sb.B)^2];\n",
    "sc = [1 1 1];\n",
    "\n",
    "for kk=1:3\n",
    "\n",
    "res.geo(id_geo).sb(kk).res(ii,1:6) = sb.res(ii+5).C.DLM(kk,1:6)*diag([sc sc]);\n",
    "\n",
    "    for jj=1:3\n",
    "        subplot(1,3,jj)\n",
    "        semilogx(sb.U(res.geo(id_geo).sb(ll).Re(ii)), ...\n",
    "            res.geo(id_geo).sb(kk).res(ii,jj), ...\n",
    "            'o', 'Color',res.s_c{id_geo+(kk-1)*2}, 'MarkerSize', 6-3)\n",
    "            % 'Color',rgb('Navy'), 'MarkerSize', res.geo(id_geo).sb(.s_mk{2})\n",
    "    end\n",
    "    if id_pause\n",
    "        gcfG;gcfH;gcfLFont;gcfS;%gcfP\n",
    "        id_pause = false;\n",
    "    end\n",
    "    for jj=1:3\n",
    "        subplot(1,3,jj)\n",
    "        h = semilogx(sb.U(res.geo(id_geo).sb(ll).Re(ii)), ...\n",
    "            res.geo(id_geo).sb(kk).res(ii,jj+3), ...\n",
    "            's', 'Color',res.s_c{id_geo+(kk-1)*2}, 'MarkerSize', 6-2);\n",
    "        h.MarkerFaceColor = h.Color;\n",
    "    end\n",
    "end\n",
    "\n",
    "end\n",
    "end\n",
    "end"
   ]
  },
  {
   "cell_type": "markdown",
   "metadata": {},
   "source": [
    "# C_DLM"
   ]
  },
  {
   "cell_type": "code",
   "execution_count": 30,
   "metadata": {},
   "outputs": [
    {
     "name": "stdout",
     "output_type": "stream",
     "text": [
      "\n",
      "C_DLM1 =\n",
      "\n",
      "    1.0221   -0.2648   -0.3467\n",
      "    1.5264   -0.2789   -0.0166\n",
      "   -0.5043    0.0141    0.0089\n",
      "\n"
     ]
    },
    {
     "data": {
      "image/png": "[encoded data removed]",
      "text/plain": [
       "<IPython.core.display.Image object>"
      ]
     },
     "metadata": {},
     "output_type": "display_data"
    }
   ],
   "source": [
    "% [res.geo(1).sb(3).res(5,4:6)\n",
    "C_DLM1 = ...\n",
    "[res.geo(1).sb(1).res(5,4:6)\n",
    "res.geo(1).sb(2).res(5,4:6)\n",
    "res.geo(1).sb(3).res(5,4:6)\n",
    "]%*diag([1 sb.D/sb.B sb.D^2/sb.B^2]) ...\n",
    "% res.geo(1).sb(2).res(5,4:6)]%*diag([1 sb.D/sb.B sb.D^2/sb.B^2])\n",
    "plot(C_DLM1*diag([1 10 10]))\n",
    "gcfG;gcfH;gcfLFont;gcfS;%gcfP"
   ]
  },
  {
   "cell_type": "code",
   "execution_count": 32,
   "metadata": {},
   "outputs": [
    {
     "name": "stdout",
     "output_type": "stream",
     "text": [
      "\n",
      "C_DLM2 =\n",
      "\n",
      "    1.0630   -0.2533   -0.4876\n",
      "    1.4437   -0.2561   -0.0139\n",
      "   -0.3807    0.0028    0.0154\n",
      "\n"
     ]
    },
    {
     "data": {
      "image/png": "[encoded data removed]",
      "text/plain": [
       "<IPython.core.display.Image object>"
      ]
     },
     "metadata": {},
     "output_type": "display_data"
    }
   ],
   "source": [
    "C_DLM2 = ...\n",
    "[res.geo(2).sb(1).res(5,4:6)\n",
    "res.geo(2).sb(2).res(5,4:6)\n",
    "res.geo(2).sb(3).res(5,4:6)]%*diag([1 sb.D/sb.B sb.D^2/sb.B^2])\n",
    "plot([-2.5 0 2.5],C_DLM2*diag([1 1 10]))\n",
    "gcfG;gcfH;gcfLFont;gcfS;%gcfP\n",
    "plot([-2.5:2.5:2.5], C_DLM1*diag([1 1 10]),'--')"
   ]
  },
  {
   "cell_type": "markdown",
   "metadata": {},
   "source": [
    "# FINE"
   ]
  }
 ],
 "metadata": {
  "jupytext": {
   "encoding": "% -*- coding: utf-8 -*-",
   "formats": "ipynb,m:percent"
  },
  "kernelspec": {
   "display_name": "Matlab",
   "language": "matlab",
   "name": "matlab"
  },
  "language_info": {
   "codemirror_mode": "octave",
   "file_extension": ".m",
   "help_links": [
    {
     "text": "MetaKernel Magics",
     "url": "https://metakernel.readthedocs.io/en/latest/source/README.html"
    }
   ],
   "mimetype": "text/x-octave",
   "name": "matlab",
   "version": "0.16.7"
  },
  "toc": {
   "base_numbering": 1,
   "nav_menu": {},
   "number_sections": true,
   "sideBar": true,
   "skip_h1_title": false,
   "title_cell": "Table of Contents",
   "title_sidebar": "Contents",
   "toc_cell": false,
   "toc_position": {
    "height": "calc(100% - 180px)",
    "left": "10px",
    "top": "150px",
    "width": "165px"
   },
   "toc_section_display": true,
   "toc_window_display": true
  }
 },
 "nbformat": 4,
 "nbformat_minor": 4
}
