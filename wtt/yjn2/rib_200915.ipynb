{
 "cells": [
  {
   "cell_type": "markdown",
   "metadata": {},
   "source": [
    "# YJN2: rib"
   ]
  },
  {
   "cell_type": "markdown",
   "metadata": {},
   "source": [
    "Saang Bum Kim <br>\n",
    "2020-07-01 17:50"
   ]
  },
  {
   "cell_type": "code",
   "execution_count": null,
   "metadata": {},
   "outputs": [],
   "source": [
    "function [model,sb] = rib_200915(varargin)\n",
    "%\n",
    "% [model,sb] = rib_200915(varargin)\n",
    "%\n",
    "% Model exported on Sep 16 2020, 18:03 by COMSOL 5.5.0.359."
   ]
  },
  {
   "cell_type": "code",
   "execution_count": 1,
   "metadata": {},
   "outputs": [
    {
     "name": "stdout",
     "output_type": "stream",
     "text": [
      "[1] 21693\r\n",
      "\n"
     ]
    }
   ],
   "source": [
    "% !comsol mphserver -silent &"
   ]
  },
  {
   "cell_type": "code",
   "execution_count": 2,
   "metadata": {},
   "outputs": [
    {
     "name": "stdout",
     "output_type": "stream",
     "text": [
      "No comsol mphserver running or already connected!\n"
     ]
    }
   ],
   "source": [
    "%\n",
    "%%  PART 0.     Opening\n",
    "%\n",
    "% fclose all; close all\n",
    "% clc\n",
    "% clear all\n",
    "tcomp = tic;\n",
    "telap = toc(tcomp);\n",
    "\n",
    "s_dir = 'git/openfoam_seo/wtt/yjn2/';\n",
    "\n",
    "p_comsol = 2036;\n",
    "seo_init\n",
    "\n",
    "id_f = 1;\n",
    "% id_sv = true;\n",
    "id_sv = false;\n",
    "% id_pl = true;\n",
    "id_pl = false;"
   ]
  },
  {
   "cell_type": "markdown",
   "metadata": {},
   "source": [
    "# Smilarity"
   ]
  },
  {
   "cell_type": "markdown",
   "metadata": {},
   "source": [
    "## Blockage ratio"
   ]
  },
  {
   "cell_type": "markdown",
   "metadata": {},
   "source": [
    "$$\\mathrm{\n",
    "% \\begin{empheq}[left=\\empheqlbrace]{align}\n",
    "\\left\\{\n",
    "aa\n",
    "\\right.\n",
    "% \\end{empheq}\n",
    "}$$"
   ]
  },
  {
   "cell_type": "markdown",
   "metadata": {},
   "source": [
    "$$\\mathrm{\n",
    "% \\begin{empheq}[left=\\empheqlbrace]{align}\n",
    "\\left\\{\n",
    "\\begin{aligned}\\mathrm{\n",
    " < 3 - 5 \\% : recommended \\\\\n",
    " < 10 \\% : Dr. Kwon, Dae \\, Kun \\\\\n",
    " > 10 \\% : correction}\n",
    "\\end{aligned}\n",
    "\\right.\n",
    "% \\end{empheq}\n",
    "}$$"
   ]
  },
  {
   "cell_type": "markdown",
   "metadata": {},
   "source": [
    "## Small wind tunnel for 2d section models"
   ]
  },
  {
   "cell_type": "markdown",
   "metadata": {},
   "source": [
    "- Wind.wtt.s.B = 4.5 m = 1.5 + 3\n",
    "- Wind.wtt.s.D = 1.5 m\n",
    "  - 5% = 0.15/2 = 0.075\n",
    "  - 3% = 0.15/2 = 0.045\n",
    "  - 2% = 0.15/2 = 0.03\n",
    "- Wind.wtt.s.d = .04 m"
   ]
  },
  {
   "cell_type": "markdown",
   "metadata": {},
   "source": [
    "## Reynold Number"
   ]
  },
  {
   "cell_type": "code",
   "execution_count": 48,
   "metadata": {},
   "outputs": [],
   "source": [
    "sb.B = 19959.15556/1000/100;\n",
    "sb.D = 0.04;"
   ]
  },
  {
   "cell_type": "markdown",
   "metadata": {},
   "source": [
    "$$\\mathrm{\n",
    "\\mathfrak{R\\!\\:\\!e} = \\frac{\\rho \\, U \\, D}{\\mu} \\\\\n",
    "\\mathfrak{S\\!\\:\\!t} = \\frac{f \\, D}{U}\n",
    "}$$"
   ]
  },
  {
   "cell_type": "code",
   "execution_count": 62,
   "metadata": {},
   "outputs": [
    {
     "name": "stdout",
     "output_type": "stream",
     "text": [
      "\n",
      "ans =\n",
      "\n",
      "    0.0548\n",
      "\n",
      "\n",
      "ans =\n",
      "\n",
      "   18.2176\n",
      "\n"
     ]
    }
   ],
   "source": [
    "Wind = m_wind;\n",
    "sb.Re = 150;\n",
    "% Wind.air.mu(273.15+15)\n",
    "% Wind.air.rho(101325, 273.15+15)\n",
    "sb.U = @(rey_n) (rey_n * Wind.air.mu(273.15+15) / Wind.air.rho(101325, 273.15+15) / sb.D);\n",
    "sb.U(sb.Re)\n",
    "sb.T_viv = @(rey_n) sb.B / sb.U(rey_n) / 0.2;\n",
    "sb.T_viv(sb.Re)"
   ]
  },
  {
   "cell_type": "markdown",
   "metadata": {},
   "source": [
    "# Turbulent model"
   ]
  },
  {
   "cell_type": "markdown",
   "metadata": {},
   "source": [
    "- $k - \\epsilon$: start\n",
    "- $k - \\epsilon$"
   ]
  },
  {
   "cell_type": "markdown",
   "metadata": {},
   "source": [
    "- y+ (wall lift off inviscous units) in a Low reynolds k-ep"
   ]
  },
  {
   "cell_type": "markdown",
   "metadata": {
    "lines_to_next_cell": 2
   },
   "source": [
    "# Parameter Setting"
   ]
  },
  {
   "cell_type": "code",
   "execution_count": null,
   "metadata": {},
   "outputs": [],
   "source": [
    "% wtt."
   ]
  },
  {
   "cell_type": "markdown",
   "metadata": {},
   "source": [
    "# COMSOL"
   ]
  },
  {
   "cell_type": "code",
   "execution_count": 3,
   "metadata": {},
   "outputs": [],
   "source": [
    "%\n",
    "%%  PART II.    COMSOL\n",
    "%\n",
    "%\n",
    "% cfd_2d_laminar_00.m\n",
    "%\n",
    "% Model exported on Sep 16 2020, 09:04 by COMSOL 5.5.0.359.\n",
    "\n",
    "import com.comsol.model.*\n",
    "import com.comsol.model.util.*\n",
    "\n",
    "model = ModelUtil.create('Model');\n",
    "\n",
    "model.modelPath('/home/sbkim/Work/git/openfoam_seo/wtt/yjn2');\n",
    "\n",
    "model.component.create('comp1', true);\n",
    "\n",
    "model.component('comp1').geom.create('geom1', 2);\n",
    "\n",
    "model.component('comp1').mesh.create('mesh1');\n",
    "\n",
    "model.component('comp1').physics.create('spf', 'LaminarFlow', 'geom1');\n",
    "\n",
    "model.study.create('std1');\n",
    "model.study('std1').create('stat', 'Stationary');\n",
    "model.study('std1').feature('stat').activate('spf', true);"
   ]
  },
  {
   "cell_type": "markdown",
   "metadata": {},
   "source": [
    "# imsi"
   ]
  },
  {
   "cell_type": "code",
   "execution_count": 5,
   "metadata": {},
   "outputs": [],
   "source": [
    "% mphsave(model,'rib_imsi')"
   ]
  },
  {
   "cell_type": "code",
   "execution_count": 4,
   "metadata": {},
   "outputs": [],
   "source": [
    "% model.component('comp1').geom('geom1').create('imp1', 'Import');\n",
    "% model.component('comp1').geom('geom1').feature('imp1').set('filename', ...\n",
    "    % '/home/sbkim/Work/git/openfoam_seo/wtt/yjn2/yjn2_cfd_deck_200915.dxf');\n",
    "% model.component('comp1').geom('geom1').runPre('fin');\n",
    "\n",
    "model.component('comp1').geom('geom1').create('imp1', 'Import');\n",
    "model.component('comp1').geom('geom1').feature('imp1').set('type', 'dxf');\n",
    "% model.component('comp1').geom('geom1').feature('imp1').set('filename', ...\n",
    "    % '/home/sbkim/Work/git/openfoam_seo/wtt/yjn2/yjn2_cfd_deck_200915.dxf');\n",
    "% model.component('comp1').geom('geom1').feature('imp1').set('alllayers', ...\n",
    "    % {'CS-DIML' 'CS-STEL-MAJR' 'dummy' '0' 'CENTER' 'CZ-SYMB' '3' '19 ' '1_CR-DEGN' '1'  ...\n",
    "% '7' '6' ''});\n",
    "model.component('comp1').geom('geom1').feature('imp1').set('filename', ...\n",
    "    '/media/sbkim/2266B8F966B8CEB3/git/openfoam_seo/wtt/yjn2/yjn2_cfd_rib_200915.dxf');\n",
    "\n",
    "model.component('comp1').geom('geom1').feature('imp1').set('knit', 'curve');\n",
    "model.component('comp1').geom('geom1').create('csol1', 'ConvertToSolid');\n",
    "% model.component('comp1').geom('geom1').feature('csol1').selection('input').set({ ...\n",
    "    % 'imp1(2)' 'imp1(3)' 'imp1(4)' 'imp1(5)'});\n",
    "model.component('comp1').geom('geom1').feature('csol1').selection('input').set({'imp1'});"
   ]
  },
  {
   "cell_type": "code",
   "execution_count": 28,
   "metadata": {},
   "outputs": [],
   "source": [
    "model.component('comp1').geom('geom1').create('del1', 'Delete');\n",
    "model.component('comp1').geom('geom1').feature('del1').selection('input').set('imp1(1)', [1 3]);\n",
    "model.component('comp1').geom('geom1').feature('del1').selection('input').set('csol1(1)', [1 2 3 4 5 6 7 19 20 21 29 30 31 32 37 38 39 40 41 42 43 51 52 53 54 55 57 58 59 62 66 70 72 75 76 78 80 83 84 85 87 89 92 93 94 96 98 101 102 104 106 109 110 112 114 115 116 117 118 125 127 128 129 130 131 132 133 134 135 136 137 138 139 140 141 142 143 145 146 158 165 171 172 174 176 179 180 182 184 187 188 190 192 195 196 198 200 203 204 206 208 211 212 214 216 219 220 222 224 227 228 230 232 235 236 238 239 241 245 246 248 250 253 254 256 258 261 262 264 266 269 270 272 274 277 278 280 282 285 286 288 290 293 294 296 298 301 302 304 306 309 310 312 313 314 315 317 318 319 320 321 322 323 324 325 326 327 329 330 331 332 333 334 335 337 338 340 341 363 364 365 366 367 368 369 370 371 372 373 374 377 389 390 391 407 408 409 411 412 413 414 415 416 417 418 419 420 421 422 423 424 425 426 427 428 429 430 431 432 433 434 435 436 439 440 443 444 459 470 473 474 477 478 481 482 485 486 489 490 493 494 495 496 497 498 499 500 501 502 503 504 505 506 511 523 524 527 528 531 532 535 536 539 540 543 544 547 548 551 552 555 556 559 560 563 564 567 568 571 572 575 576 579 580 583 584 587 588 591 592 594 595 596 597 598 599 600 601 602 603 604 605 607 608 609 610 611 612]);\n",
    "% 19959.15556 [m], (19959.15556, -8.381909993E-7) [m].\n",
    "% Point 1 (del1(2)) to 320 (del1(2)).\n",
    "% Average coordinates: (157333.0083, -1067.977166) [m].\n",
    "% Points: 1, 320 (del1(2)).\n",
    "\n",
    "\n",
    "% [Sep 17, 2020 4:20 AM] \n",
    "% Distance: 8352.385221 [m], (8352.385221, 2.328852133E-8) [m].  \n",
    "% Point 1 (del1) to 32 (del1). \n",
    "% Average coordinates: (157127.4098, 10384.96539) [m].  Points: 1, 32 (del1).\n",
    "\n",
    "% [Sep 16, 2020 10:39 PM]\n",
    "% Distance: 12347.59452 [m], (12347.59452, 4.946377885E-8) [m].\n",
    "% Point 2 (csol1) to 63 (csol1). Average coordinates: (157127.4098, -11160.59134) [m].\n",
    "% Points: 2, 63 (csol1).\n",
    "model.component('comp1').geom('geom1').create('sca1', 'Scale');\n",
    "model.component('comp1').geom('geom1').feature('sca1').set('factor', '1e-3');\n",
    "model.component('comp1').geom('geom1').feature('sca1').selection('input').set({'del1(1)' 'del1(2)'});\n",
    "model.component('comp1').geom('geom1').create('mov1', 'Move');\n",
    "model.component('comp1').geom('geom1').feature('mov1').setIndex('displx', '-157.3330083', 0);\n",
    "model.component('comp1').geom('geom1').feature('mov1').setIndex('disply', '1.067977166', 0);\n",
    "model.component('comp1').geom('geom1').feature('mov1').selection('input').set({'sca1'});\n",
    "\n",
    "% out = model;"
   ]
  },
  {
   "cell_type": "code",
   "execution_count": 29,
   "metadata": {},
   "outputs": [],
   "source": [
    "sb.scale = 100;"
   ]
  },
  {
   "cell_type": "code",
   "execution_count": 30,
   "metadata": {},
   "outputs": [],
   "source": [
    "model.component('comp1').geom('geom1').create('sca2', 'Scale');\n",
    "model.component('comp1').geom('geom1').feature('sca2').set('factor', sprintf('1/%d',sb.scale));\n",
    "model.component('comp1').geom('geom1').feature('sca2').selection('input').set({'mov1'});\n",
    "\n",
    "model.component('comp1').geom('geom1').create('mir1', 'Mirror');\n",
    "model.component('comp1').geom('geom1').feature('mir1').selection('input').set({'sca2'});\n",
    "model.component('comp1').geom('geom1').create('r1', 'Rectangle');\n",
    "model.component('comp1').geom('geom1').feature('r1').set('pos', {'-1.5' '-1.5/2'});\n",
    "model.component('comp1').geom('geom1').feature('r1').set('size', [4.5 1.5]);\n",
    "model.component('comp1').geom('geom1').create('c1', 'Circle');\n",
    "model.component('comp1').geom('geom1').feature('c1').set('pos', {'0' '.02'});\n",
    "model.component('comp1').geom('geom1').feature('c1').set('r', 0.2);\n",
    "model.component('comp1').geom('geom1').create('r2', 'Rectangle');\n",
    "model.component('comp1').geom('geom1').feature('r2').set('pos', [-0.5 -0.5]);\n",
    "model.component('comp1').geom('geom1').feature('r2').set('size', [2 1]);\n",
    "model.component('comp1').geom('geom1').create('r3', 'Rectangle');\n",
    "model.component('comp1').geom('geom1').feature('r3').set('pos', {'-.75/2' '-.75/2'});\n",
    "model.component('comp1').geom('geom1').feature('r3').set('size', [1 0.75]);"
   ]
  },
  {
   "cell_type": "code",
   "execution_count": 31,
   "metadata": {},
   "outputs": [],
   "source": [
    "model.component('comp1').geom('geom1').create('co1', 'Compose');\n",
    "model.component('comp1').geom('geom1').feature('co1').set('formula', '(r1+c1+r2+r3)-(mir1(1)+mir1(2))');\n",
    "model.component('comp1').geom('geom1').feature('co1').selection('input').set({'r1' 'c1' 'r2' 'r3' 'mir1(1)' 'mir1(2)'});\n",
    "model.component('comp1').geom('geom1').run;"
   ]
  },
  {
   "cell_type": "markdown",
   "metadata": {},
   "source": [
    "## material"
   ]
  },
  {
   "cell_type": "code",
   "execution_count": 32,
   "metadata": {},
   "outputs": [],
   "source": [
    "model.component('comp1').material.create('mat1', 'Common');"
   ]
  },
  {
   "cell_type": "code",
   "execution_count": 34,
   "metadata": {},
   "outputs": [],
   "source": [
    "model.component('comp1').material('mat1').propertyGroup('def').func.create('eta', 'Piecewise');\n",
    "model.component('comp1').material('mat1').propertyGroup('def').func.create('Cp', 'Piecewise');\n",
    "model.component('comp1').material('mat1').propertyGroup('def').func.create('rho', 'Analytic');\n",
    "model.component('comp1').material('mat1').propertyGroup('def').func.create('k', 'Piecewise');\n",
    "model.component('comp1').material('mat1').propertyGroup('def').func.create('cs', 'Analytic');\n",
    "model.component('comp1').material('mat1').propertyGroup('def').func.create('an1', 'Analytic');\n",
    "model.component('comp1').material('mat1').propertyGroup('def').func.create('an2', 'Analytic');\n",
    "model.component('comp1').material('mat1').propertyGroup.create('RefractiveIndex', 'Refractive index');\n",
    "model.component('comp1').material('mat1').propertyGroup.create('NonlinearModel', 'Nonlinear model');"
   ]
  },
  {
   "cell_type": "code",
   "execution_count": 35,
   "metadata": {},
   "outputs": [],
   "source": [
    "model.component('comp1').material('mat1').label('Air');\n",
    "model.component('comp1').material('mat1').set('family', 'air');\n",
    "\n",
    "model.component('comp1').material('mat1').propertyGroup('def').func('eta').set('arg', 'T');\n",
    "model.component('comp1').material('mat1').propertyGroup('def').func('eta').set('pieces', {'200.0' '1600.0' '-8.38278E-7+8.35717342E-8*T^1-7.69429583E-11*T^2+4.6437266E-14*T^3-1.06585607E-17*T^4'});\n",
    "model.component('comp1').material('mat1').propertyGroup('def').func('eta').set('argunit', 'K');\n",
    "model.component('comp1').material('mat1').propertyGroup('def').func('eta').set('fununit', 'Pa*s');\n",
    "\n",
    "model.component('comp1').material('mat1').propertyGroup('def').func('Cp').set('arg', 'T');\n",
    "model.component('comp1').material('mat1').propertyGroup('def').func('Cp').set('pieces', {'200.0' '1600.0' '1047.63657-0.372589265*T^1+9.45304214E-4*T^2-6.02409443E-7*T^3+1.2858961E-10*T^4'});\n",
    "model.component('comp1').material('mat1').propertyGroup('def').func('Cp').set('argunit', 'K');\n",
    "model.component('comp1').material('mat1').propertyGroup('def').func('Cp').set('fununit', 'J/(kg*K)');\n",
    "\n",
    "model.component('comp1').material('mat1').propertyGroup('def').func('rho').set('expr', 'pA*0.02897/R_const[K*mol/J]/T');\n",
    "model.component('comp1').material('mat1').propertyGroup('def').func('rho').set('args', {'pA' 'T'});\n",
    "model.component('comp1').material('mat1').propertyGroup('def').func('rho').set('dermethod', 'manual');\n",
    "model.component('comp1').material('mat1').propertyGroup('def').func('rho').set('argders', {'pA' 'd(pA*0.02897/R_const/T,pA)'; 'T' 'd(pA*0.02897/R_const/T,T)'});\n",
    "model.component('comp1').material('mat1').propertyGroup('def').func('rho').set('argunit', 'Pa,K');\n",
    "model.component('comp1').material('mat1').propertyGroup('def').func('rho').set('fununit', 'kg/m^3');\n",
    "model.component('comp1').material('mat1').propertyGroup('def').func('rho').set('plotargs', {'pA' '0' '1'; 'T' '0' '1'});\n",
    "\n",
    "model.component('comp1').material('mat1').propertyGroup('def').func('k').set('arg', 'T');\n",
    "model.component('comp1').material('mat1').propertyGroup('def').func('k').set('pieces', {'200.0' '1600.0' '-0.00227583562+1.15480022E-4*T^1-7.90252856E-8*T^2+4.11702505E-11*T^3-7.43864331E-15*T^4'});\n",
    "model.component('comp1').material('mat1').propertyGroup('def').func('k').set('argunit', 'K');\n",
    "model.component('comp1').material('mat1').propertyGroup('def').func('k').set('fununit', 'W/(m*K)');\n",
    "\n",
    "model.component('comp1').material('mat1').propertyGroup('def').func('cs').set('expr', 'sqrt(1.4*R_const[K*mol/J]/0.02897*T)');\n",
    "model.component('comp1').material('mat1').propertyGroup('def').func('cs').set('args', {'T'});\n",
    "model.component('comp1').material('mat1').propertyGroup('def').func('cs').set('dermethod', 'manual');\n",
    "model.component('comp1').material('mat1').propertyGroup('def').func('cs').set('argunit', 'K');\n",
    "model.component('comp1').material('mat1').propertyGroup('def').func('cs').set('fununit', 'm/s');\n",
    "model.component('comp1').material('mat1').propertyGroup('def').func('cs').set('plotargs', {'T' '273.15' '373.15'});\n",
    "\n",
    "model.component('comp1').material('mat1').propertyGroup('def').func('an1').set('funcname', 'alpha_p');\n",
    "model.component('comp1').material('mat1').propertyGroup('def').func('an1').set('expr', '-1/rho(pA,T)*d(rho(pA,T),T)');\n",
    "model.component('comp1').material('mat1').propertyGroup('def').func('an1').set('args', {'pA' 'T'});\n",
    "model.component('comp1').material('mat1').propertyGroup('def').func('an1').set('argunit', 'Pa,K');\n",
    "model.component('comp1').material('mat1').propertyGroup('def').func('an1').set('fununit', '1/K');\n",
    "model.component('comp1').material('mat1').propertyGroup('def').func('an1').set('plotargs', {'pA' '101325' '101325'; 'T' '273.15' '373.15'});\n",
    "\n",
    "model.component('comp1').material('mat1').propertyGroup('def').func('an2').set('funcname', 'muB');\n",
    "model.component('comp1').material('mat1').propertyGroup('def').func('an2').set('expr', '0.6*eta(T)');\n",
    "model.component('comp1').material('mat1').propertyGroup('def').func('an2').set('args', {'T'});\n",
    "model.component('comp1').material('mat1').propertyGroup('def').func('an2').set('argunit', 'K');\n",
    "model.component('comp1').material('mat1').propertyGroup('def').func('an2').set('fununit', 'Pa*s');\n",
    "model.component('comp1').material('mat1').propertyGroup('def').func('an2').set('plotargs', {'T' '200' '1600'});\n",
    "\n",
    "model.component('comp1').material('mat1').propertyGroup('def').set('thermalexpansioncoefficient', '');\n",
    "model.component('comp1').material('mat1').propertyGroup('def').set('molarmass', '');\n",
    "model.component('comp1').material('mat1').propertyGroup('def').set('bulkviscosity', '');\n",
    "model.component('comp1').material('mat1').propertyGroup('def').set('thermalexpansioncoefficient', {'alpha_p(pA,T)' '0' '0' '0' 'alpha_p(pA,T)' '0' '0' '0' 'alpha_p(pA,T)'});\n",
    "model.component('comp1').material('mat1').propertyGroup('def').set('molarmass', '0.02897[kg/mol]');\n",
    "model.component('comp1').material('mat1').propertyGroup('def').set('bulkviscosity', 'muB(T)');\n",
    "\n",
    "model.component('comp1').material('mat1').propertyGroup('def').descr('thermalexpansioncoefficient_symmetry', '');\n",
    "model.component('comp1').material('mat1').propertyGroup('def').descr('molarmass_symmetry', '');\n",
    "model.component('comp1').material('mat1').propertyGroup('def').descr('bulkviscosity_symmetry', '');\n",
    "\n",
    "model.component('comp1').material('mat1').propertyGroup('def').set('relpermeability', {'1' '0' '0' '0' '1' '0' '0' '0' '1'});\n",
    "model.component('comp1').material('mat1').propertyGroup('def').descr('relpermeability_symmetry', '');\n",
    "\n",
    "model.component('comp1').material('mat1').propertyGroup('def').set('relpermittivity', {'1' '0' '0' '0' '1' '0' '0' '0' '1'});\n",
    "model.component('comp1').material('mat1').propertyGroup('def').descr('relpermittivity_symmetry', '');\n",
    "\n",
    "model.component('comp1').material('mat1').propertyGroup('def').set('dynamicviscosity', 'eta(T)');\n",
    "model.component('comp1').material('mat1').propertyGroup('def').descr('dynamicviscosity_symmetry', '');\n",
    "\n",
    "model.component('comp1').material('mat1').propertyGroup('def').set('ratioofspecificheat', '1.4');\n",
    "model.component('comp1').material('mat1').propertyGroup('def').descr('ratioofspecificheat_symmetry', '');\n",
    "\n",
    "model.component('comp1').material('mat1').propertyGroup('def').set('electricconductivity', {'0[S/m]' '0' '0' '0' '0[S/m]' '0' '0' '0' '0[S/m]'});\n",
    "model.component('comp1').material('mat1').propertyGroup('def').descr('electricconductivity_symmetry', '');\n",
    "\n",
    "model.component('comp1').material('mat1').propertyGroup('def').set('heatcapacity', 'Cp(T)');\n",
    "model.component('comp1').material('mat1').propertyGroup('def').descr('heatcapacity_symmetry', '');\n",
    "\n",
    "model.component('comp1').material('mat1').propertyGroup('def').set('density', 'rho(pA,T)');\n",
    "model.component('comp1').material('mat1').propertyGroup('def').descr('density_symmetry', '');\n",
    "\n",
    "model.component('comp1').material('mat1').propertyGroup('def').set('thermalconductivity', {'k(T)' '0' '0' '0' 'k(T)' '0' '0' '0' 'k(T)'});\n",
    "model.component('comp1').material('mat1').propertyGroup('def').descr('thermalconductivity_symmetry', '');\n",
    "\n",
    "model.component('comp1').material('mat1').propertyGroup('def').set('soundspeed', 'cs(T)');\n",
    "model.component('comp1').material('mat1').propertyGroup('def').descr('soundspeed_symmetry', '');\n",
    "\n",
    "model.component('comp1').material('mat1').propertyGroup('def').addInput('temperature');\n",
    "model.component('comp1').material('mat1').propertyGroup('def').addInput('pressure');\n",
    "\n",
    "model.component('comp1').material('mat1').propertyGroup('RefractiveIndex').set('n', '');\n",
    "model.component('comp1').material('mat1').propertyGroup('RefractiveIndex').set('ki', '');\n",
    "model.component('comp1').material('mat1').propertyGroup('RefractiveIndex').set('n', '');\n",
    "model.component('comp1').material('mat1').propertyGroup('RefractiveIndex').set('ki', '');\n",
    "model.component('comp1').material('mat1').propertyGroup('RefractiveIndex').set('n', '');\n",
    "model.component('comp1').material('mat1').propertyGroup('RefractiveIndex').set('ki', '');\n",
    "model.component('comp1').material('mat1').propertyGroup('RefractiveIndex').set('n', {'1' '0' '0' '0' '1' '0' '0' '0' '1'});\n",
    "model.component('comp1').material('mat1').propertyGroup('RefractiveIndex').set('ki', {'0' '0' '0' '0' '0' '0' '0' '0' '0'});\n",
    "model.component('comp1').material('mat1').propertyGroup('RefractiveIndex').descr('n_symmetry', '');\n",
    "model.component('comp1').material('mat1').propertyGroup('RefractiveIndex').descr('ki_symmetry', '');\n",
    "\n",
    "model.component('comp1').material('mat1').propertyGroup('NonlinearModel').set('BA', '(def.gamma+1)/2');\n",
    "model.component('comp1').material('mat1').propertyGroup('NonlinearModel').descr('BA_symmetry', '');"
   ]
  },
  {
   "cell_type": "markdown",
   "metadata": {},
   "source": [
    "## physics"
   ]
  },
  {
   "cell_type": "code",
   "execution_count": 63,
   "metadata": {
    "lines_to_next_cell": 2
   },
   "outputs": [],
   "source": [
    "sb.U_in = sb.U(150);\n",
    "% 19959.15556 [m], (19959.15556, -8.381909993E-7) [m]."
   ]
  },
  {
   "cell_type": "code",
   "execution_count": null,
   "metadata": {},
   "outputs": [],
   "source": [
    "% model.component('comp1').physics.create('spf', 'LaminarFlow', 'geom1');"
   ]
  },
  {
   "cell_type": "code",
   "execution_count": 38,
   "metadata": {},
   "outputs": [],
   "source": [
    "model.component('comp1').physics('spf').create('inl1', 'InletBoundary', 1);\n",
    "model.component('comp1').physics('spf').feature('inl1').selection.set([1]);\n",
    "model.component('comp1').physics('spf').create('out1', 'OutletBoundary', 1);\n",
    "model.component('comp1').physics('spf').feature('out1').selection.set([229]);\n",
    "model.component('comp1').physics('spf').create('sym1', 'Symmetry', 1);\n",
    "model.component('comp1').physics('spf').feature('sym1').selection.set([2 3]);"
   ]
  },
  {
   "cell_type": "code",
   "execution_count": 64,
   "metadata": {},
   "outputs": [],
   "source": [
    "model.component('comp1').physics('spf').prop('PhysicalModelProperty').set('IncludeGravity', true);\n",
    "model.component('comp1').physics('spf').feature('inl1').set('U0in', sb.U_in);"
   ]
  },
  {
   "cell_type": "markdown",
   "metadata": {},
   "source": [
    "## mesh"
   ]
  },
  {
   "cell_type": "code",
   "execution_count": null,
   "metadata": {},
   "outputs": [],
   "source": [
    "model.component('comp1').mesh('mesh1').create('bl1', 'BndLayer');\n",
    "model.component('comp1').mesh('mesh1').create('fq2', 'FreeQuad');\n",
    "model.component('comp1').mesh('mesh1').create('fq3', 'FreeQuad');\n",
    "model.component('comp1').mesh('mesh1').create('fq1', 'FreeQuad');"
   ]
  },
  {
   "cell_type": "code",
   "execution_count": null,
   "metadata": {},
   "outputs": [],
   "source": [
    "model.component('comp1').mesh('mesh1').feature('bl1').selection.geom('geom1', 2);\n",
    "model.component('comp1').mesh('mesh1').feature('bl1').selection.set([4]);\n",
    "model.component('comp1').mesh('mesh1').feature('bl1').create('blp', 'BndLayerProp');\n",
    "model.component('comp1').mesh('mesh1').feature('bl1').feature('blp').selection.set([10 11 12 13 14 15 16 17 18 19 20 21 22 23 24 25 26 27 28 29 30 31 32 33 34 35 36 37 38 39 40 41 42 43 44 45 46 47 48 49 50 51 52 53 54 55 56 57 58 59 60 61 62 63 64 65 66 67 68 69 70 71 72 73 74 75 76 77 78 79 80 81 82 83 84 85 86 87 88 89 90 91 92 93 94 95 96 97 98 99 100 101 102 103 104 105 106 107 108 109 110 111 112 113 114 115 116 117 118 119 120 121 122 123 124 125 126 127 128 129 130 131 132 133 134 135 136 137 138 139 140 141 142 143 144 145 146 147 148 149 150 151 152 153 154 155 156 157 158 159 160 161 162 163 164 165 166 167 168 169 170 171 172 173 174 175 176 177 178 179 180 181 182 183 184 185 186 187 188 189 190 191 192 193 194 195 196 197 198 199 200 201 202 203 204 205 206 207 208 209 210 211 212 213 214 215 216 217 218 219 220 221 222 223 224 225 226 232 233 234 235 236 237 238 239 240 241 242 243 244 245 246 247 248 249 250 251 252 253 254 255 256 257 258 259 260 261 262 263 264 265 266 267 268 269 270 271 272 273 276 277 278 279 280 281 282 283 284 285 286 287 288 289 290 291 292 293 294 295 296 297 298 299 300 301 302 303 304 305 306 307 308 309 310 311 312 313 314 315 316 317 318 319 320 321 322 323 324 325 326 327 328 329 330 331 332 333 334 335 336 337 338 339 340 341]);\n",
    "\n",
    "\n",
    "model.component('comp1').mesh('mesh1').feature('fq2').selection.geom('geom1', 2);\n",
    "model.component('comp1').mesh('mesh1').feature('fq2').selection.set([3]);\n",
    "model.component('comp1').mesh('mesh1').feature('fq2').create('size1', 'Size');\n",
    "\n",
    "model.component('comp1').mesh('mesh1').feature('fq3').selection.geom('geom1', 2);\n",
    "model.component('comp1').mesh('mesh1').feature('fq3').selection.set([2]);\n",
    "model.component('comp1').mesh('mesh1').feature('fq3').create('size1', 'Size');\n",
    "\n",
    "model.component('comp1').mesh('mesh1').feature('fq1').selection.geom('geom1', 2);\n",
    "model.component('comp1').mesh('mesh1').feature('fq1').selection.set([1]);\n",
    "model.component('comp1').mesh('mesh1').feature('fq1').create('size1', 'Size');"
   ]
  },
  {
   "cell_type": "code",
   "execution_count": 82,
   "metadata": {},
   "outputs": [],
   "source": [
    "% model.component('comp1').mesh('mesh1').feature('size').set('hauto', 3);\n",
    "model.component('comp1').mesh('mesh1').feature('size').set('hauto', 2);\n",
    "model.component('comp1').mesh('mesh1').feature('fq2').feature('size1').set('hauto', 9);\n",
    "model.component('comp1').mesh('mesh1').feature('fq3').feature('size1').set('hauto', 9);\n",
    "model.component('comp1').mesh('mesh1').feature('fq1').feature('size1').set('hauto', 9);\n",
    "\n",
    "model.component('comp1').mesh('mesh1').run;"
   ]
  },
  {
   "cell_type": "code",
   "execution_count": null,
   "metadata": {},
   "outputs": [],
   "source": [
    "% model.study.create('std1');\n",
    "% model.study('std1').create('stat', 'Stationary');"
   ]
  },
  {
   "cell_type": "code",
   "execution_count": 42,
   "metadata": {},
   "outputs": [],
   "source": [
    "model.component('comp1').selection.create('box1', 'Box');\n",
    "model.component('comp1').selection('box1').set('entitydim', 1);\n",
    "model.component('comp1').selection('box1').set('xmin', -0.125);\n",
    "model.component('comp1').selection('box1').set('xmax', 0.125);\n",
    "model.component('comp1').selection('box1').set('ymin', -0.01);\n",
    "model.component('comp1').selection('box1').set('ymax', 0.05);"
   ]
  },
  {
   "cell_type": "code",
   "execution_count": null,
   "metadata": {},
   "outputs": [],
   "source": [
    "model.component('comp1').view('view1').axis.set('xmin', -1.7249999046325684);\n",
    "model.component('comp1').view('view1').axis.set('xmax', 3.2249999046325684);\n",
    "model.component('comp1').view('view1').axis.set('ymin', -1.3424468040466309);\n",
    "model.component('comp1').view('view1').axis.set('ymax', 1.3424468040466309);"
   ]
  },
  {
   "cell_type": "code",
   "execution_count": 65,
   "metadata": {},
   "outputs": [],
   "source": [
    "mphsave(model,'rib_imsi')"
   ]
  },
  {
   "cell_type": "markdown",
   "metadata": {},
   "source": [
    "## Study"
   ]
  },
  {
   "cell_type": "code",
   "execution_count": 71,
   "metadata": {},
   "outputs": [],
   "source": [
    "model.sol.create('sol1');\n",
    "model.sol('sol1').study('std1');"
   ]
  },
  {
   "cell_type": "code",
   "execution_count": 72,
   "metadata": {},
   "outputs": [],
   "source": [
    "model.study('std1').feature('stat').set('notlistsolnum', 1);\n",
    "model.study('std1').feature('stat').set('notsolnum', '1');\n",
    "model.study('std1').feature('stat').set('listsolnum', 1);\n",
    "model.study('std1').feature('stat').set('solnum', '1');"
   ]
  },
  {
   "cell_type": "code",
   "execution_count": 73,
   "metadata": {},
   "outputs": [],
   "source": [
    "model.sol('sol1').create('st1', 'StudyStep');\n",
    "model.sol('sol1').feature('st1').set('study', 'std1');\n",
    "model.sol('sol1').feature('st1').set('studystep', 'stat');\n",
    "model.sol('sol1').create('v1', 'Variables');\n",
    "model.sol('sol1').feature('v1').set('control', 'stat');"
   ]
  },
  {
   "cell_type": "code",
   "execution_count": 74,
   "metadata": {},
   "outputs": [],
   "source": [
    "model.sol('sol1').create('s1', 'Stationary');\n",
    "model.sol('sol1').feature('s1').feature('aDef').set('cachepattern', true);\n",
    "model.sol('sol1').feature('s1').create('fc1', 'FullyCoupled');\n",
    "model.sol('sol1').feature('s1').feature('fc1').set('initstep', 0.01);\n",
    "model.sol('sol1').feature('s1').feature('fc1').set('minstep', 1.0E-4);\n",
    "model.sol('sol1').feature('s1').feature('fc1').set('dtech', 'auto');\n",
    "model.sol('sol1').feature('s1').feature('fc1').set('maxiter', 100);\n",
    "model.sol('sol1').feature('s1').create('d1', 'Direct');\n",
    "model.sol('sol1').feature('s1').feature('d1').set('linsolver', 'pardiso');\n",
    "model.sol('sol1').feature('s1').feature('d1').set('pivotperturb', 1.0E-13);\n",
    "model.sol('sol1').feature('s1').feature('d1').label('Direct, fluid flow variables (spf)');\n",
    "model.sol('sol1').feature('s1').create('i1', 'Iterative');\n",
    "model.sol('sol1').feature('s1').feature('i1').set('linsolver', 'gmres');\n",
    "model.sol('sol1').feature('s1').feature('i1').set('prefuntype', 'left');\n",
    "model.sol('sol1').feature('s1').feature('i1').set('itrestart', 50);\n",
    "model.sol('sol1').feature('s1').feature('i1').set('rhob', 20);\n",
    "model.sol('sol1').feature('s1').feature('i1').set('maxlinit', 200);\n",
    "model.sol('sol1').feature('s1').feature('i1').set('nlinnormuse', 'on');\n",
    "model.sol('sol1').feature('s1').feature('i1').label('AMG, fluid flow variables (spf)');\n",
    "model.sol('sol1').feature('s1').feature('i1').create('mg1', 'Multigrid');\n",
    "model.sol('sol1').feature('s1').feature('i1').feature('mg1').set('prefun', 'saamg');\n",
    "model.sol('sol1').feature('s1').feature('i1').feature('mg1').set('mgcycle', 'v');\n",
    "model.sol('sol1').feature('s1').feature('i1').feature('mg1').set('maxcoarsedof', 80000);\n",
    "model.sol('sol1').feature('s1').feature('i1').feature('mg1').set('strconn', 0.02);\n",
    "model.sol('sol1').feature('s1').feature('i1').feature('mg1').set('usesmooth', false);\n",
    "model.sol('sol1').feature('s1').feature('i1').feature('mg1').set('saamgcompwise', true);\n",
    "model.sol('sol1').feature('s1').feature('i1').feature('mg1').feature('pr').create('sc1', 'SCGS');\n",
    "model.sol('sol1').feature('s1').feature('i1').feature('mg1').feature('pr').feature('sc1').set('linesweeptype', 'ssor');\n",
    "model.sol('sol1').feature('s1').feature('i1').feature('mg1').feature('pr').feature('sc1').set('iter', 0);\n",
    "model.sol('sol1').feature('s1').feature('i1').feature('mg1').feature('pr').feature('sc1').set('scgsrelax', 0.7);\n",
    "model.sol('sol1').feature('s1').feature('i1').feature('mg1').feature('pr').feature('sc1').set('scgsmethod', 'lines_vertices');\n",
    "model.sol('sol1').feature('s1').feature('i1').feature('mg1').feature('pr').feature('sc1').set('scgsvertexrelax', 0.7);\n",
    "model.sol('sol1').feature('s1').feature('i1').feature('mg1').feature('pr').feature('sc1').set('seconditer', 1);\n",
    "model.sol('sol1').feature('s1').feature('i1').feature('mg1').feature('pr').feature('sc1').set('relax', 0.5);\n",
    "model.sol('sol1').feature('s1').feature('i1').feature('mg1').feature('po').create('sc1', 'SCGS');\n",
    "model.sol('sol1').feature('s1').feature('i1').feature('mg1').feature('po').feature('sc1').set('linesweeptype', 'ssor');\n",
    "model.sol('sol1').feature('s1').feature('i1').feature('mg1').feature('po').feature('sc1').set('iter', 1);\n",
    "model.sol('sol1').feature('s1').feature('i1').feature('mg1').feature('po').feature('sc1').set('scgsrelax', 0.7);\n",
    "model.sol('sol1').feature('s1').feature('i1').feature('mg1').feature('po').feature('sc1').set('scgsmethod', 'lines_vertices');\n",
    "model.sol('sol1').feature('s1').feature('i1').feature('mg1').feature('po').feature('sc1').set('scgsvertexrelax', 0.7);\n",
    "model.sol('sol1').feature('s1').feature('i1').feature('mg1').feature('po').feature('sc1').set('seconditer', 1);\n",
    "model.sol('sol1').feature('s1').feature('i1').feature('mg1').feature('po').feature('sc1').set('relax', 0.5);\n",
    "model.sol('sol1').feature('s1').feature('i1').feature('mg1').feature('cs').create('d1', 'Direct');\n",
    "model.sol('sol1').feature('s1').feature('i1').feature('mg1').feature('cs').feature('d1').set('linsolver', 'pardiso');\n",
    "model.sol('sol1').feature('s1').feature('i1').feature('mg1').feature('cs').feature('d1').set('pivotperturb', 1.0E-13);\n",
    "model.sol('sol1').feature('s1').feature('fc1').set('linsolver', 'd1');\n",
    "model.sol('sol1').feature('s1').feature('fc1').set('initstep', 0.01);\n",
    "model.sol('sol1').feature('s1').feature('fc1').set('minstep', 1.0E-4);\n",
    "model.sol('sol1').feature('s1').feature('fc1').set('dtech', 'auto');\n",
    "model.sol('sol1').feature('s1').feature('fc1').set('maxiter', 100);\n",
    "model.sol('sol1').feature('s1').feature.remove('fcDef');\n",
    "model.sol('sol1').attach('std1');\n",
    "model.result.dataset('dset1').set('geom', 'geom1');"
   ]
  },
  {
   "cell_type": "code",
   "execution_count": 75,
   "metadata": {},
   "outputs": [],
   "source": [
    "model.result.create('pg1', 'PlotGroup2D');\n",
    "model.result('pg1').label('Velocity (spf)');\n",
    "model.result('pg1').set('frametype', 'spatial');\n",
    "model.result('pg1').set('data', 'dset1');\n",
    "model.result('pg1').feature.create('surf1', 'Surface');\n",
    "model.result('pg1').feature('surf1').label('Surface');\n",
    "model.result('pg1').feature('surf1').set('smooth', 'internal');\n",
    "model.result('pg1').feature('surf1').set('data', 'parent');\n",
    "model.result.create('pg2', 'PlotGroup2D');\n",
    "model.result('pg2').label('Pressure (spf)');\n",
    "model.result('pg2').set('frametype', 'spatial');\n",
    "model.result('pg2').set('data', 'dset1');\n",
    "model.result('pg2').feature.create('con1', 'Contour');\n",
    "model.result('pg2').feature('con1').label('Contour');\n",
    "model.result('pg2').feature('con1').set('expr', 'p');\n",
    "model.result('pg2').feature('con1').set('number', 40);\n",
    "model.result('pg2').feature('con1').set('levelrounding', false);\n",
    "model.result('pg2').feature('con1').set('smooth', 'internal');\n",
    "model.result('pg2').feature('con1').set('data', 'parent');"
   ]
  },
  {
   "cell_type": "code",
   "execution_count": 78,
   "metadata": {},
   "outputs": [
    {
     "name": "stdout",
     "output_type": "stream",
     "text": [
      "Total elapsed time = 10.476 s.\n"
     ]
    }
   ],
   "source": [
    "telap = toc(tcomp);\n",
    "model.sol('sol1').runAll;\n",
    "telap = toc(tcomp) - telap;\n",
    "fprintf('Total elapsed time = %.3f s.\\n',telap)"
   ]
  },
  {
   "cell_type": "code",
   "execution_count": null,
   "metadata": {},
   "outputs": [],
   "source": [
    "% model.result('pg1').run;"
   ]
  },
  {
   "cell_type": "markdown",
   "metadata": {},
   "source": [
    "## Post"
   ]
  },
  {
   "cell_type": "code",
   "execution_count": 84,
   "metadata": {},
   "outputs": [],
   "source": [
    "model.result.numerical.create('int1', 'IntLine');\n",
    "model.result.numerical('int1').set('intsurface', true);\n",
    "% model.result.numerical('int1').selection.set([10 11 12 13 14 15 16 17 18 19 20 21 22 23 24 25 26 27 28 29 30 31 32 33 34 35 36 37 38 39 40 41 42 43 44 45 46 47 48 49 50 51 52 53 54 55 56 57 58 59 60 61 62 63 64 65 66 67 68 69 70 71 72 73 74 75 76 77 78 79 80 81 82 83 84 85 86 87 88 89 90 91 92 93 94 95 96 97 98 99 100 101 102 103 104 105 106 107 108 109 110 111 112 113 114 115 116 117 118 119 120 121 122 123 124 125 126 127 128 129 130 131 132 133 134 135 136 137 138 139 140 141 142 143 144 145 146 147 148 149 150 151 152 153 154 155 156 157 158 159 160 161 162 163 164 165 166 167 168 169 170 171 172 173 174 175 176 177 178 179 180 181 182 183 184 185 186 187 188 189 190 191 192 193 194 195 196 197 198 199 200 201 202 203 204 205 206 207 208 209 210 211 212 213 214 215 216 217 218 219 220 221 222 223 224 225 226 232 233 234 235 236 237 238 239 240 241 242 243 244 245 246 247 248 249 250 251 252 253 254 255 256 257 258 259 260 261 262 263 264 265 266 267 268 269 270 271 272 273 276 277 278 279 280 281 282 283 284 285 286 287 288 289 290 291 292 293 294 295 296 297 298 299 300 301 302 303 304 305 306 307 308 309 310 311 312 313 314 315 316 317 318 319 320 321 322 323 324 325 326 327 328 329 330 331 332 333 334 335 336 337 338 339 340 341]);\n",
    "model.result.numerical('int1').selection.named('box1');\n",
    "model.result.numerical('int1').set('expr', {'spf.T_stressx'});\n",
    "model.result.numerical('int1').set('descr', {'Total stress, x component'});\n",
    "model.result.numerical('int1').set('unit', {'N/m'});\n",
    "model.result.table.create('tbl1', 'Table');\n",
    "model.result.table('tbl1').comments('Line Integration 1');\n",
    "model.result.numerical('int1').set('table', 'tbl1');\n",
    "model.result.numerical('int1').setResult;"
   ]
  },
  {
   "cell_type": "code",
   "execution_count": 88,
   "metadata": {},
   "outputs": [
    {
     "name": "stdout",
     "output_type": "stream",
     "text": [
      "\n",
      "ans =\n",
      "\n",
      "    0.2210   10.9964\n",
      "\n"
     ]
    }
   ],
   "source": [
    "s_box = ['box',num2str(1)];\n",
    "sb.res(1,1) = -mphint2(model,'spf.T_stressx / (1/2*spf.rho)','line','selection',s_box) / ((sb.U_in^2) * sb.B);\n",
    "sb.res(1,2) = -mphint2(model,'spf.T_stressy / (1/2*spf.rho)','line','selection',s_box) / ((sb.U_in^2) * sb.B);\n",
    "sb.res"
   ]
  },
  {
   "cell_type": "code",
   "execution_count": 89,
   "metadata": {},
   "outputs": [],
   "source": [
    "mphsave(model,'rib_imsi')"
   ]
  },
  {
   "cell_type": "code",
   "execution_count": 80,
   "metadata": {},
   "outputs": [
    {
     "name": "stderr",
     "output_type": "stream",
     "text": [
      "\u001b[0;31mError using mphmin\n",
      "mphnumerical (0): Java exception occurred: \n",
      "Exception:\n",
      "\tcom.comsol.util.exceptions.FlException: Unknown feature\n",
      "Messages:\n",
      "\tUnknown feature.\n",
      "\t- Tag: non\n",
      "\n",
      "\u001b[0m"
     ]
    }
   ],
   "source": [
    "sb.xL(1,1) = mphmin(model,'X','volume','selection','box1');\n",
    "sb.xL(2,1) = mphmax(model,'X','volume','selection','box1');\n",
    "sb.xL(1,2) = mphmin(model,'Y','volume','selection','box1');\n",
    "sb.xL(2,2) = mphmax(model,'Y','volume','selection','box1');\n",
    "% sb.xL(1,3) = mphmin(model,'Z','volume','selection','box1');\n",
    "% sb.xL(2,3) = mphmax(model,'Z','volume','selection','box1');\n",
    "\n",
    "sb.xL\n",
    "% model.component('comp1').selection.create('box1', 'Box');\n",
    "% model.component('comp1').selection('box1').set('condition', 'inside');\n",
    "% model.component('comp1').selection('box1').set('xmax', 0);"
   ]
  },
  {
   "cell_type": "markdown",
   "metadata": {},
   "source": [
    "# FINE"
   ]
  }
 ],
 "metadata": {
  "jupytext": {
   "formats": "ipynb,m:percent"
  },
  "kernelspec": {
   "display_name": "Matlab",
   "language": "matlab",
   "name": "matlab"
  },
  "language_info": {
   "codemirror_mode": "octave",
   "file_extension": ".m",
   "help_links": [
    {
     "text": "MetaKernel Magics",
     "url": "https://metakernel.readthedocs.io/en/latest/source/README.html"
    }
   ],
   "mimetype": "text/x-octave",
   "name": "matlab",
   "version": "0.16.7"
  },
  "toc": {
   "base_numbering": 1,
   "nav_menu": {},
   "number_sections": true,
   "sideBar": true,
   "skip_h1_title": false,
   "title_cell": "Table of Contents",
   "title_sidebar": "Contents",
   "toc_cell": false,
   "toc_position": {},
   "toc_section_display": true,
   "toc_window_display": true
  }
 },
 "nbformat": 4,
 "nbformat_minor": 4
}
