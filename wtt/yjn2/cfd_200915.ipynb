{
 "cells": [
  {
   "cell_type": "markdown",
   "metadata": {},
   "source": [
    "# YJN2: rib"
   ]
  },
  {
   "cell_type": "markdown",
   "metadata": {},
   "source": [
    "Saang Bum Kim <br>\n",
    "2020-07-01 17:50"
   ]
  },
  {
   "cell_type": "code",
   "execution_count": null,
   "metadata": {},
   "outputs": [],
   "source": [
    "function [model,sb] = rib_200915(varargin)\n",
    "%\n",
    "% [model,sb] = rib_200915(varargin)\n",
    "%\n",
    "% Model exported on Sep 16 2020, 18:03 by COMSOL 5.5.0.359."
   ]
  },
  {
   "cell_type": "code",
   "execution_count": 1,
   "metadata": {},
   "outputs": [
    {
     "name": "stdout",
     "output_type": "stream",
     "text": [
      "[1] 21693\r\n",
      "\n"
     ]
    }
   ],
   "source": [
    "% !comsol mphserver -silent &"
   ]
  },
  {
   "cell_type": "code",
   "execution_count": 1,
   "metadata": {},
   "outputs": [
    {
     "name": "stdout",
     "output_type": "stream",
     "text": [
      "\n",
      "MATLAB is now connected to a COMSOL Multiphysics Server at localhost:2036\n",
      "\n",
      "Run the commands below to access the COMSOL ModelUtil commands:\n",
      "import com.comsol.model.util.*\n"
     ]
    }
   ],
   "source": [
    "%\n",
    "%%  PART 0.     Opening\n",
    "%\n",
    "% fclose all; close all\n",
    "% clc\n",
    "% clear all\n",
    "tcomp = tic;\n",
    "telap = toc(tcomp);\n",
    "\n",
    "s_dir = 'git/openfoam_seo/wtt/yjn2/';\n",
    "\n",
    "p_comsol = 2036;\n",
    "seo_init\n",
    "\n",
    "id_f = 1;\n",
    "% id_sv = true;\n",
    "id_sv = false;\n",
    "% id_pl = true;\n",
    "id_pl = false;"
   ]
  },
  {
   "cell_type": "markdown",
   "metadata": {},
   "source": [
    "# Smilarity"
   ]
  },
  {
   "cell_type": "markdown",
   "metadata": {},
   "source": [
    "## Blockage ratio"
   ]
  },
  {
   "cell_type": "markdown",
   "metadata": {},
   "source": [
    "$$\\mathrm{\n",
    "% \\begin{empheq}[left=\\empheqlbrace]{align}\n",
    "\\left\\{\n",
    "\\begin{aligned}\\mathrm{\n",
    " < 3 - 5 \\% : recommended \\\\\n",
    " < 10 \\% : Dr. Kwon, Dae \\, Kun \\\\\n",
    " > 10 \\% : correction}\n",
    "\\end{aligned}\n",
    "\\right.\n",
    "% \\end{empheq}\n",
    "}$$"
   ]
  },
  {
   "cell_type": "markdown",
   "metadata": {},
   "source": [
    "## Small wind tunnel for 2d section models"
   ]
  },
  {
   "cell_type": "markdown",
   "metadata": {},
   "source": [
    "- Wind.wtt.s.B = 4.5 m = 1.5 + 3\n",
    "- Wind.wtt.s.D = 1.5 m\n",
    "  - 5% = 0.15/2 = 0.075\n",
    "  - 3% = 0.015*3 = 0.045\n",
    "  - 2% = 0.015*2 = 0.03\n",
    "- Wind.wtt.s.d = .04 m"
   ]
  },
  {
   "cell_type": "markdown",
   "metadata": {},
   "source": [
    "## Reynold Number"
   ]
  },
  {
   "cell_type": "code",
   "execution_count": 2,
   "metadata": {},
   "outputs": [],
   "source": [
    "% 0.04*sc = 2.5\n",
    "sb.scale = 2.5/0.04;"
   ]
  },
  {
   "cell_type": "code",
   "execution_count": 3,
   "metadata": {},
   "outputs": [],
   "source": [
    "sb.B = 8.5/sb.scale;\n",
    "sb.B = 8352.385221/1000/sb.scale;\n",
    "sb.D = 2.5/sb.scale;"
   ]
  },
  {
   "cell_type": "code",
   "execution_count": 4,
   "metadata": {},
   "outputs": [
    {
     "name": "stdout",
     "output_type": "stream",
     "text": [
      "\n",
      "sb = \n",
      "\n",
      "  struct with fields:\n",
      "\n",
      "    scale: 62.5000\n",
      "        B: 0.1336\n",
      "        D: 0.0400\n",
      "\n"
     ]
    }
   ],
   "source": [
    "sb"
   ]
  },
  {
   "cell_type": "markdown",
   "metadata": {},
   "source": [
    "$$\\mathrm{\n",
    "\\mathfrak{R\\!\\:\\!e} = \\frac{\\rho \\, U \\, D}{\\mu} \\\\\n",
    "\\mathfrak{S\\!\\:\\!t} = \\frac{f \\, D}{U}\n",
    "}$$"
   ]
  },
  {
   "cell_type": "code",
   "execution_count": 5,
   "metadata": {},
   "outputs": [
    {
     "name": "stdout",
     "output_type": "stream",
     "text": [
      "\n",
      "ans =\n",
      "\n",
      "    0.0548\n",
      "\n",
      "\n",
      "ans =\n",
      "\n",
      "   12.1977\n",
      "\n"
     ]
    }
   ],
   "source": [
    "Wind = m_wind;\n",
    "sb.Re = 150;\n",
    "% Wind.air.mu(273.15+15)\n",
    "% Wind.air.rho(101325, 273.15+15)\n",
    "sb.U = @(rey_n) (rey_n * Wind.air.mu(273.15+15) / Wind.air.rho(101325, 273.15+15) / sb.D);\n",
    "sb.U(sb.Re)\n",
    "sb.T_viv = @(rey_n) sb.B / sb.U(rey_n) / 0.2;\n",
    "sb.T_viv(sb.Re)"
   ]
  },
  {
   "cell_type": "code",
   "execution_count": 34,
   "metadata": {},
   "outputs": [
    {
     "name": "stdout",
     "output_type": "stream",
     "text": [
      "Target Reynolds number = 1.095291e+05.\n"
     ]
    }
   ],
   "source": [
    "sb.Re_target = Wind.air.rho(101325, 273.15+15) * 40 * sb.D / Wind.air.mu(273.15+15);\n",
    "fprintf('Target Reynolds number = %e.\\n',sb.Re_target)"
   ]
  },
  {
   "cell_type": "code",
   "execution_count": 35,
   "metadata": {},
   "outputs": [],
   "source": [
    "sb.Re_pool = [150, 1e3, 1e4, 1e5, 2e5];"
   ]
  },
  {
   "cell_type": "markdown",
   "metadata": {},
   "source": [
    "# Placing Inlet and Outlet Boundaries for Exterior Flow"
   ]
  },
  {
   "cell_type": "markdown",
   "metadata": {},
   "source": [
    "- In exterior flow applications, such as flow around vehicles and buildings, \n",
    "    the conditions far away from the obstacle are usually set to a constant velocity vector \n",
    "    on inlet boundaries and a constant pressure on outlet boundaries. \n",
    "- The question again arises as to what extent the distance from the obstacle \n",
    "    at which these conditions are applied influences the solution. \n",
    "- For exterior flow, it turns out that this distance varies with the spatial dimensions of the model. \n",
    "- For 2D models, the required distance is an order of magnitude larger than \n",
    "    for 3D and 2D axisymmetric models. \n",
    "- Once more, we look at ideal potential flow solutions to try to understand why this is so.\n",
    "$$$$\n",
    "- For exterior flow around an obstacle, \n",
    "    vorticity is created in boundary layers on the solid surface. \n",
    "- The boundary layers on different sides of the obstacle may merge at the trailing edge, \n",
    "    forming a thin sheet of vorticity that is advected downstream into a wake. \n",
    "- If the boundary layer on any side separates from the obstacle \n",
    "    due to an instability or the existence of a sharp convex corner, \n",
    "    the wake will be wider. \n",
    "- In either case, the vorticity that is shed downstream is confined to the wake \n",
    "    and the flow outside the wake is approximately irrotational.\n",
    "$$$$\n",
    "- A plot of the turbulent flow around an airfoil."
   ]
  },
  {
   "cell_type": "markdown",
   "metadata": {},
   "source": [
    "# Turbulent model"
   ]
  },
  {
   "cell_type": "markdown",
   "metadata": {},
   "source": [
    "- L-VEL\n",
    "- algebraic yPlus\n",
    "- Spalart-Allmaras\n",
    "- k-ε\n",
    "- k-ω\n",
    "- low Reynolds number k-ε\n",
    "- SST\n",
    "- v2-f"
   ]
  },
  {
   "cell_type": "markdown",
   "metadata": {},
   "source": [
    "- Let’s start by considering the fluid flow over a flat plate, \n",
    "    as shown in the figure below. \n",
    "- The uniform velocity profile hits the leading edge of the flat plate, \n",
    "    and a laminar boundary layer begins to develop. \n",
    "- The flow in this region is very predictable. \n",
    "- After some distance, small chaotic oscillations begin to develop in the boundary layer \n",
    "    and the flow begins to transition to turbulence, eventually becoming fully turbulent."
   ]
  },
  {
   "cell_type": "markdown",
   "metadata": {},
   "source": [
    "![Flow of a fluid over a flat plate](Flow-of-a-fluid-over-a-flat-plate.png)"
   ]
  },
  {
   "cell_type": "markdown",
   "metadata": {},
   "source": [
    "- The transition between these three regions can be defined in terms of the Reynolds number,\n",
    "    where is the fluid density; is the velocity; is the characteristic length\n",
    "    (in this case, the distance from the leading edge); and is the fluid’s dynamic viscosity. \n",
    "- We will assume that the fluid is Newtonian, \n",
    "    meaning that the viscous stress is directly proportional, \n",
    "    with the dynamic viscosity as the constant of proportionality, to the shear rate. \n",
    "- This is true, or very nearly so, for a wide range of fluids of engineering importance, \n",
    "    such as air or water. \n",
    "- Density can vary with respect to pressure, \n",
    "    although it is here assumed that the fluid is only weakly compressible, \n",
    "    meaning that the Mach number is less than about 0.3. \n",
    "- The weakly compressible flow option for the fluid flow interfaces \n",
    "    neglects the influence of pressure waves on the flow and pressure fields."
   ]
  },
  {
   "cell_type": "markdown",
   "metadata": {},
   "source": [
    "- In the laminar regime, \n",
    "    the fluid flow can be completely predicted by solving Navier-Stokes equations, \n",
    "    which gives the velocity and the pressure fields. \n",
    "- Let us first assume that the velocity field does not vary with time. \n",
    "- An example of this is outlined in The Blasius Boundary Layer tutorial model. \n",
    "- As the flow begins to transition to turbulence, \n",
    "    oscillations appear in the flow, \n",
    "    despite the fact that the inlet flow rate does not vary with time. \n",
    "- It is then no longer possible to assume that the flow is invariant with time. \n",
    "- In this case, it is necessary to solve the time-dependent Navier-Stokes equations, \n",
    "    and the mesh used must be fine enough to resolve the size of the smallest eddies in the flow. \n",
    "- Such a situation is demonstrated in the Flow Past a Cylinder tutorial model. \n",
    "- Note that the flow is unsteady, but still laminar in this model."
   ]
  },
  {
   "cell_type": "markdown",
   "metadata": {},
   "source": [
    "![Using-a-Reynolds-Averaged-Navier-Stokes-formulation](Using-a-Reynolds-Averaged-Navier-Stokes-formulation.png)"
   ]
  },
  {
   "cell_type": "markdown",
   "metadata": {},
   "source": [
    "- As the flow rate — and thus also the Reynolds number — increases, \n",
    "    the flow field exhibits small eddies and the spatial and temporal scales of the oscillations \n",
    "    become so small that it is computationally unfeasible to resolve them \n",
    "    using the Navier-Stokes equations, \n",
    "    at least for most practical cases. \n",
    "- In this flow regime, we can use a Reynolds-averaged Navier-Stokes (RANS) formulation, \n",
    "    which is based on the observation that the flow field (u) over time contains small, \n",
    "    local oscillations (u’) and can be treated in a time-averaged sense (U). \n",
    "- For one- and two-equation models, \n",
    "    additional transport equations are introduced for turbulence variables, \n",
    "    such as the turbulence kinetic energy (k in k-ε and k-ω)."
   ]
  },
  {
   "cell_type": "markdown",
   "metadata": {},
   "source": [
    "- In algebraic models, \n",
    "    algebraic equations that depend on the velocity field — and, \n",
    "- in some cases, on the distance from the walls — are introduced \n",
    "    in order to describe the <b>turbulence intensity</b>. \n",
    "- From the estimates for the turbulence variables, \n",
    "    an <b>eddy viscosity</b> that adds to the molecular viscosity of the fluid is calculated. \n",
    "- The momentum that would be transferred by the small eddies \n",
    "    is instead translated to a viscous transport. \n",
    "- Turbulence dissipation usually dominates over viscous dissipation everywhere, \n",
    "    except for in the viscous sublayer close to solid walls. \n",
    "- Here, the turbulence model has to continuously reduce the turbulence level, \n",
    "    such as in low Reynolds number models. \n",
    "- Or, new boundary conditions have to be computed using wall functions."
   ]
  },
  {
   "cell_type": "markdown",
   "metadata": {},
   "source": [
    "Low Reynolds Number Models\n",
    "\n",
    "- The term “low Reynolds number model” sounds like a contradiction, \n",
    "    since flows can only be turbulent if the Reynolds number is high enough. \n",
    "- The notation “low Reynolds number” does not refer to the flow on a global scale, \n",
    "    but to the region close to the wall where viscous effects dominate; \n",
    "    i.e., the viscous sublayer in the figure above. \n",
    "- A low Reynolds number model is a model that correctly reproduces \n",
    "    the limiting behaviors of various flow quantities \n",
    "    as the distance to the wall approaches zero. \n",
    "- So, a low Reynolds number model must, for example, \n",
    "    predict that k~$y^2$ as y→0. \n",
    "- Correct limiting behavior means that \n",
    "    the turbulence model can be used to model the whole boundary layer, \n",
    "    including the viscous sublayer and the buffer layer.\n",
    "$$$$\n",
    "- Most ω-based models are low Reynolds number models by construction. \n",
    "- But the standard k-ε model and other commonly encountered k-ε models are \n",
    "    not low Reynolds number models. \n",
    "- Some of them can, however, be supplemented with so-called damping functions \n",
    "    that give the correct limiting behavior. \n",
    "- They are then known as low Reynolds number k-ε models.\n",
    "$$$$\n",
    "- Low Reynolds number models often give a very accurate description of the boundary layer. \n",
    "- The sharp gradients close to walls do, however, require very high mesh resolutions and that, in turn, \n",
    "    means that the high accuracy comes at a high computational cost. \n",
    "- This is why alternative methods to model the flow close to walls are often employed \n",
    "    for industrial applications."
   ]
  },
  {
   "cell_type": "markdown",
   "metadata": {},
   "source": [
    "Wall Functions\n",
    "\n",
    "- The turbulent flow near a flat wall can be divided into four regions. \n",
    "- At the wall, the fluid velocity is zero, \n",
    "    and in a thin layer above this, the flow velocity is linear with distance from the wall. \n",
    "- This region is called the viscous sublayer, or laminar sublayer. \n",
    "$$$$\n",
    "- Further away from the wall is a region called the buffer layer. \n",
    "- In the buffer region, turbulence stresses begin to dominate over viscous stresses and \n",
    "    it eventually connects to a region where the flow is fully turbulent \n",
    "    and the average flow velocity is related to the log of the distance to the wall. \n",
    "- This is known as the log-law region. \n",
    "$$$$\n",
    "- Even further away from the wall, the flow transitions to the free-stream region. \n",
    "- The viscous and buffer layers are very thin and \n",
    "    if the distance to the end of the buffer layer is $\\delta$, \n",
    "    then the log-law region will extend about $100 \\delta$ away from the wall."
   ]
  },
  {
   "cell_type": "markdown",
   "metadata": {},
   "source": [
    "![Four-regimes-of-tubulent-flow](Four-regimes-of-tubulent-flow.png)"
   ]
  },
  {
   "cell_type": "markdown",
   "metadata": {},
   "source": [
    "- It is possible to use a RANS model to compute the flow field in all four of these regions. \n",
    "- However, since the thickness of the buffer layer is so small, \n",
    "    it can be advantageous to use an approximation in this region. \n",
    "- Wall functions ignore the flow field in the buffer region \n",
    "    and analytically compute a nonzero fluid velocity at the wall. \n",
    "- By using a wall function formulation, \n",
    "    you assume an analytic solution for the flow in the viscous layer \n",
    "    and the resultant models will have significantly lower computational requirements. \n",
    "- This is a very useful approach for many practical engineering applications."
   ]
  },
  {
   "cell_type": "markdown",
   "metadata": {},
   "source": [
    "![Implementing-a-wall-function-formulation](Implementing-a-wall-function-formulation.png)"
   ]
  },
  {
   "cell_type": "markdown",
   "metadata": {},
   "source": [
    "- If you need a level of accuracy beyond what the wall function formulations provide, \n",
    "    then you will want to consider a turbulence model \n",
    "    that solves the entire flow regime as described for the low Reynolds number models above. \n",
    "- For example, you may want to compute lift and drag on an object \n",
    "    or compute the heat transfer between the fluid and the wall."
   ]
  },
  {
   "cell_type": "markdown",
   "metadata": {},
   "source": [
    "Automatic Wall Treatment\n",
    "\n",
    "- The automatic wall treatment functionality, \n",
    "    combines benefits from both wall functions and low Reynolds number models. \n",
    "- Automatic wall treatment adapts the formulation to the mesh available in the model \n",
    "    so that you get both robustness and accuracy. \n",
    "- For instance, for a coarse boundary layer mesh, \n",
    "    the feature will utilize a robust wall function formulation. \n",
    "- However, for a dense boundary layer mesh, \n",
    "    the automatic wall treatment will use a low Reynolds number formulation \n",
    "    to resolve the velocity profile completely to the wall.\n",
    "$$$$\n",
    "- Going from a low Reynolds number formulation \n",
    "    to a wall function formulation is a smooth transition. \n",
    "- The software blends the two formulations in the boundary elements. \n",
    "- Then, the software calculates the wall distance of the boundary elements’ grid points \n",
    "    (this is in viscous units given by a liftoff). \n",
    "- The combined formulations are then used for the boundary conditions.\n",
    "$$$$\n",
    "- All turbulence models, except the k-ε model, \n",
    "    support automatic wall treatment. \n",
    "- This means that the low Reynolds number models can be used for industrial applications \n",
    "    and that their low Reynolds number modeling capability is only invoked \n",
    "    when the mesh is fine enough.\n",
    "\n",
    "About the Various Turbulence Models\n",
    "\n",
    "- The eight RANS turbulence models differ in how they model the flow close to walls, \n",
    "    the number of additional variables solved for, \n",
    "    and what these variables represent. \n",
    "- All of these models augment the Navier-Stokes equations \n",
    "    with an additional turbulence eddy viscosity term, \n",
    "    but they differ in how it is computed.\n",
    "\n",
    "L-VEL and yPlus\n",
    "\n",
    "- The L-VEL and algebraic yPlus turbulence models compute \n",
    "    the eddy viscosity using algebraic expressions \n",
    "    based only on the local fluid velocity and the distance to the closest wall. \n",
    "- They do not solve any additional transport equations. \n",
    "- These models solve for the flow everywhere and are the most robust \n",
    "    and least computationally intensive of the eight turbulence models. \n",
    "- While they are generally the least accurate models, \n",
    "    they do provide good approximations for internal flow, \n",
    "    especially in electronic cooling applications.\n"
   ]
  },
  {
   "cell_type": "markdown",
   "metadata": {},
   "source": [
    "Spalart-Allmaras\n",
    "\n",
    "- The Spalart-Allmaras model adds a single additional variable \n",
    "    for an undamped kinematic eddy viscosity. \n",
    "- It is a low Reynolds number model and can resolve the entire flow field down to the solid wall. \n",
    "- The model was originally developed for aerodynamics applications \n",
    "    and is advantageous in that it is relatively robust and has moderate resolution requirements. \n",
    "- Experience shows that this model does not accurately compute fields \n",
    "    that exhibit shear flow, separated flow, or decaying turbulence. \n",
    "- Its advantage is that it is quite stable and shows good convergence.\n",
    "\n",
    "k-ε\n",
    "\n",
    "- The k-ε model solves for two variables: \n",
    "    - k, the turbulence kinetic energy; and \n",
    "    - ε (epsilon), the rate of dissipation of turbulence kinetic energy. \n",
    "- Wall functions are used in this model, \n",
    "    so the flow in the buffer region is not simulated. \n",
    "- The k-ε model has historically been very popular for industrial applications \n",
    "    due to its good convergence rate and relatively low memory requirements. \n",
    "- It does not very accurately compute flow fields that exhibit adverse pressure gradients, \n",
    "    strong curvature to the flow, or jet flow. \n",
    "- It does perform well for external flow problems around complex geometries. \n",
    "- For example, the k-ε model can be used to solve for the airflow around a bluff body.\n",
    "\n",
    "$$$$\n",
    "\n",
    "- The turbulence models listed below are all more nonlinear than the k-ε model \n",
    "    and they can often be difficult to converge unless a good initial guess is provided. \n",
    "- The k-ε model can be used to provide a good initial guess. \n",
    "- Just solve the model using the k-ε model and \n",
    "    then use the new Generate New Turbulence Interface functionality.\n",
    "\n",
    "k-ω\n",
    "\n",
    "- The k-ω model is similar to the k-ε model, \n",
    "    but it solves for ω (omega) — the specific rate of dissipation of kinetic energy. \n",
    "- It is a low Reynolds number model, but it can also be used in conjunction with wall functions. \n",
    "- It is more nonlinear, and thereby more difficult to converge than the k-ε model, \n",
    "    and it is quite sensitive to the initial guess of the solution. \n",
    "- The k-ω model is useful in many cases where the k-ε model is not accurate, \n",
    "    such as internal flows, flows that exhibit strong curvature, separated flows, and jets. \n",
    "- A good example of internal flow is flow through a pipe bend."
   ]
  },
  {
   "cell_type": "markdown",
   "metadata": {},
   "source": [
    "Low Reynolds Number k-ε\n",
    "\n",
    "- The low Reynolds number k-ε model is similar to the k-ε model, \n",
    "    but does not need wall functions: it can solve for the flow everywhere. \n",
    "- It is a logical extension of the k-ε model and shares many of its advantages, \n",
    "    but generally requires a denser mesh; \n",
    "    not only at walls, but everywhere its low Reynolds number properties kick in and dampen the turbulence. \n",
    "- It can sometimes be useful to use the k-ε model \n",
    "    to first compute a good initial condition for solving the low Reynolds number k-ε model. \n",
    "- An alternative way is to use the automatic wall treatment \n",
    "    and start with a coarse boundary layer mesh to get wall functions \n",
    "    and then refine the boundary layer at the interesting walls \n",
    "    to get the low Reynolds number models.\n",
    "$$$$\n",
    "- The low Reynolds number k-ε model can compute lift and drag forces \n",
    "    and heat fluxes can be modeled with higher accuracy \n",
    "    compared to the k-ε model. \n",
    "- It has also shown to predict separation and reattachment quite well for a number of cases.\n",
    "\n",
    "SST\n",
    "\n",
    "- The SST model is a combination of the k-ε model in the free stream \n",
    "    and the k-ω model near the walls. \n",
    "- It is a low Reynolds number model and kind of the “go to” model \n",
    "    for industrial applications. \n",
    "- It has similar resolution requirements to the k-ω model \n",
    "    and the low Reynolds number k-ε model, \n",
    "    but its formulation eliminates some weaknesses displayed by pure k-ω and k-ε models. \n",
    "- In a tutorial model example, \n",
    "    the SST model solves for flow over a NACA 0012 Airfoil. \n",
    "- The results are shown to compare well with experimental data.\n",
    "\n",
    "v2-f\n",
    "\n",
    "- Close to wall boundaries, \n",
    "    the fluctuations of the velocity are usually much larger \n",
    "    in the parallel directions to the wall \n",
    "    in comparison with the direction perpendicular to the wall. \n",
    "- The velocity fluctuations are said to be anisotropic. \n",
    "- Further away from the wall, the fluctuations are of the same magnitude in all directions. \n",
    "- The velocity fluctuations become isotropic.\n",
    "$$$$\n",
    "- The v2-f turbulence model describes the anisotropy of the turbulence intensity \n",
    "    in the turbulent boundary layer using two new equations, \n",
    "    in addition to the two equations \n",
    "    for turbulence kinetic energy (k) and dissipation rate (ε). \n",
    "- The first equation describes the transport of turbulent velocity fluctuations normal to the streamlines. \n",
    "- The second equation accounts for nonlocal effects \n",
    "    such as the wall-induced damping of the redistribution of turbulence kinetic energy \n",
    "    between the normal and parallel directions.\n",
    "$$$$\n",
    "- You should use this model for enclosed flows over curved surfaces, \n",
    "    for example, to model cyclones.\n",
    "\n",
    "Meshing Considerations for CFD Problems\n",
    "\n",
    "- Solving for any kind of fluid flow problem — laminar or turbulent — is computationally intensive. \n",
    "- Relatively fine meshes are required and there are many variables to solve for. \n",
    "- Ideally, you would have a very fast computer with many gigabytes of RAM to solve such problems, \n",
    "    but simulations can still take hours or days for larger 3D models. \n",
    "- Therefore, we want to use as simple a mesh as possible, \n",
    "    while still capturing all of the details of the flow.\n",
    "$$$$\n",
    "- Referring back to the figure at the top of this blog post, \n",
    "    we can observe that for the flat plate (and for most flow problems), \n",
    "    the velocity field changes quite slowly in the direction tangential to the wall, \n",
    "    but quite rapidly in the normal direction, \n",
    "    especially if we consider the buffer layer region. \n",
    "- This observation motivates the use of a boundary layer mesh. \n",
    "- Boundary layer meshes \n",
    "    (which are the default mesh type on walls when using our physics-based meshing) \n",
    "    insert thin rectangles in 2D or triangular prisms in 3D at the walls. \n",
    "- These high-aspect-ratio elements will do a good job \n",
    "    of resolving the variations in the flow speed normal to the boundary, \n",
    "    while reducing the number of calculation points in the direction tangential to the boundary."
   ]
  },
  {
   "cell_type": "markdown",
   "metadata": {},
   "source": [
    "- The boundary layer mesh (magenta) around an airfoil \n",
    "    and the surrounding triangular mesh (cyan) for a 2D mesh.\n",
    "- The boundary layer mesh (magenta) around a bluff body \n",
    "    and the surrounding tetrahedral mesh (cyan) for a 3D volumetric mesh."
   ]
  },
  {
   "cell_type": "markdown",
   "metadata": {},
   "source": [
    "Evaluating the Results of Your Turbulence Model\n",
    "\n",
    "- Once you’ve used one of these turbulence models to solve your flow simulation, \n",
    "    you will want to verify that the solution is accurate. \n",
    "- Of course, as you do with any finite element model, \n",
    "    you can simply run it with finer and finer meshes \n",
    "    and observe how the solution changes with increasing mesh refinement. \n",
    "- Once the solution does not change to within a value you find acceptable, \n",
    "    your simulation can be considered converged with respect to the mesh. \n",
    "- However, there are additional values you need to check when modeling turbulence.\n",
    "$$$$\n",
    "- When using wall function formulations, \n",
    "    you will want to check the wall resolution viscous units \n",
    "    (this plot is generated by default). \n",
    "- This value tells you how far into the boundary layer your computational domain starts \n",
    "    and <b>should not be too large</b>. \n",
    "- You should consider refining your mesh in the wall normal direction \n",
    "    if there are regions where the wall resolution <b>exceeds several hundred</b>. \n",
    "- The second variable that you should check when using wall functions \n",
    "    is the <b>wall liftoff</b> (in length units). \n",
    "- This variable is related to the assumed thickness of the viscous layer \n",
    "    and should be small relative to the surrounding dimensions of the geometry. \n",
    "- If it is not, then you should refine the mesh in these regions as well."
   ]
  },
  {
   "cell_type": "markdown",
   "metadata": {},
   "source": [
    "- The maximum wall liftoff in viscous units is less than 100, \n",
    "    so there is no need to refine the boundary layer mesh."
   ]
  },
  {
   "cell_type": "markdown",
   "metadata": {},
   "source": [
    "- When solving a model using low Reynolds number wall treatment, \n",
    "    check the dimensionless distance to cell center (also generated by default). \n",
    "- This value should be of order unity everywhere for the algebraic models \n",
    "    and less than 0.5 for all two-equation models and the v2-f model. \n",
    "- If it is not, then refine the mesh in these regions.\n",
    "\n",
    "Concluding Thoughts\n",
    "\n",
    "- In this blog post, we have discussed the various turbulence models available in, \n",
    "    highlighting when and why you should use each one of them. \n",
    "- The real strength of the software is when you want to combine your fluid flow simulations with other physics,\n",
    "    such as finding stresses on a solar panel in high winds, \n",
    "    forced convection modeling in a heat exchanger, or mass transfer in a mixer, among other possibilities."
   ]
  },
  {
   "cell_type": "markdown",
   "metadata": {},
   "source": [
    "- $k - \\epsilon$: start\n",
    "- $k - \\epsilon$"
   ]
  },
  {
   "cell_type": "markdown",
   "metadata": {},
   "source": [
    "- A further increase of the Reynolds number will raise the frequency of the eddies \n",
    "and finally result in turbulent flow. \n",
    "- Particularly in the transition regime, \n",
    "3D instabilities arise and must be resolved with a 3D laminar flow interface. \n",
    "- Once the flow gets fully turbulent, you can switch back to 2D and use a turbulent flow interface."
   ]
  },
  {
   "cell_type": "markdown",
   "metadata": {},
   "source": [
    "- y+ (wall lift off inviscous units) in a Low reynolds k-ep"
   ]
  },
  {
   "cell_type": "markdown",
   "metadata": {},
   "source": [
    "- AMG"
   ]
  },
  {
   "cell_type": "markdown",
   "metadata": {},
   "source": [
    "## Automatic Wall Treatment "
   ]
  },
  {
   "cell_type": "markdown",
   "metadata": {},
   "source": [
    "- Wall-bounded turbulent flows display extreme gradient close to the walls. \n",
    "- The most accurate way to treat these gradients \n",
    "    is to resolve them using a low Reynolds number model, \n",
    "    which is computationally expensive. \n",
    "- Industrial applications use wall functions, \n",
    "    which model the flow closest to the wall rather than resolving it. \n",
    "- Wall functions are robust and efficient, but not particularly accurate. \n",
    "- New automatic wall treatment functionality in the software \n",
    "    combines the benefits of wall functions and the low Reynolds number model."
   ]
  },
  {
   "cell_type": "markdown",
   "metadata": {},
   "source": [
    "How Automatic Wall Treatment Works\n",
    "\n",
    "- The new automatic wall treatment functionality in \n",
    "    - combines the robustness of wall functions with the accuracy of low Reynolds number models\n",
    "        by adapting the formulation to the mesh available in the model. \n",
    "- If the boundary layer mesh is coarse, \n",
    "    a robust wall function formulation is used. \n",
    "- If the boundary layer mesh is dense, \n",
    "    a low Reynolds number formulation is used, \n",
    "    which resolves the velocity profile all the way to the wall.\n",
    "$$$$\n",
    "- The transition between the low Reynolds number formulation and the wall function formulation \n",
    "    is smooth and is done by blending the two formulations in the boundary elements. \n",
    "- By calculating the wall distance of the boundary elements’ grid points \n",
    "    in viscous units given by a liftoff, \n",
    "    the combination of the two formulations is used for the boundary conditions.\n",
    "$$$$\n",
    "- The figure below exemplifies the transition between the low Reynolds number formulation \n",
    "    and the logarithmic wall functions for the low Re k-ε turbulence model. \n",
    "- The wall distance in viscous units, y+, \n",
    "    is plotted against the turbulence dissipation rate, ε. \n",
    "- The green curve represents the low Re formulation of ε, \n",
    "    the blue curve is the wall function representation, \n",
    "    while the red curve is the Wolfshtein model that is used for the automatic wall treatment. \n",
    "- Observe the smooth transition obtained with the Wolfshtein model (red) \n",
    "    for y+ values ranging from 1 to 20; i.e., in the buffer layer."
   ]
  },
  {
   "cell_type": "markdown",
   "metadata": {},
   "source": [
    "![low-Re-number-formulation-wall-functions-and-automatic-wall-treatment](low-Re-number-formulation-wall-functions-and-automatic-wall-treatment.png)\n",
    "Low Re formulation (green), wall functions (blue), and automatic wall treatment (red)."
   ]
  },
  {
   "cell_type": "markdown",
   "metadata": {},
   "source": [
    "- In order to verify the definition of a model, \n",
    "    we can investigate how the walls are treated by plotting the y+ variable at the boundaries, \n",
    "    as shown in the figure below. \n",
    "- For this pipe elbow benchmark model, \n",
    "    we can see that the low Reynolds number formulation dominates at the inner curved surface of the bend, \n",
    "    while at the straight sections of the pipe, the wall function formulation dominates."
   ]
  },
  {
   "cell_type": "markdown",
   "metadata": {},
   "source": [
    "- The deep red regions have a value of y+, or around 20, while the blue regions are at around 1.\n",
    "- Addressing a Wide Range of Problems with Automatic Wall Treatment.\n",
    "$$$$\n",
    "- The functionality for automatic wall treatment \n",
    "    allows the use of low Reynolds number models for a wider range of problems. \n",
    "- Examples are coupled problems where certain surfaces are subjected \n",
    "    to flux of heat, chemical reactions, or fluid-structure interactions. \n",
    "- Instead of having to use a dense mesh on all surfaces, \n",
    "    which could be very computationally expensive, \n",
    "    we can apply a dense mesh only on the relevant surfaces \n",
    "    where we need to accurately resolve the boundary layer.\n",
    "$$$$\n",
    "- The figure below shows the boundary layer mesh for the solar panel model in the Application Library. \n",
    "- We can see that the mesh on the surface of the panels is dense with tight boundary elements. \n",
    "- On these surfaces, we need the forces exerted by the fluid on the structure with high accuracy \n",
    "    in order to compute the stresses and strains as well as the displacements. \n",
    "- The concrete base is not influenced by the forces of the wind and the forces on these surfaces \n",
    "    do not require the same accuracy. \n",
    "- The automatic wall treatment functionality allows for the solution of this problem \n",
    "    by just clicking the Compute button, \n",
    "    while a conventional low Reynolds number model would require a dense boundary layer mesh \n",
    "    on all boundaries in order to converge."
   ]
  },
  {
   "cell_type": "markdown",
   "metadata": {},
   "source": [
    "- In this fluid-structure interaction tutorial of a solar panel, \n",
    "    we can use a coarse boundary layer mesh for the ground and the concrete foundation \n",
    "    and a fine mesh on the surface of the panels, \n",
    "    where the forces need to be calculated with accuracy.\n",
    "\n",
    "Simplified Model Development\n",
    "\n",
    "- The new functionality is also of great use in model development. \n",
    "- In order to iron out the proper assumptions and boundary conditions, \n",
    "    we may need quick results on a coarse mesh as a first step. \n",
    "- Once we have verified our model formulation, \n",
    "    we can refine the mesh in order to obtain more accurate results. \n",
    "- The automatic wall treatment functionality allows for this type of model development \n",
    "    with a minimum number of obstacles and operations: \n",
    "    the “only” thing we need to do is to refine the mesh.\n",
    "$$$$\n",
    "- The robustness that this new functionality provides also simplifies \n",
    "    the use of low Reynolds number turbulence models in general. \n",
    "- A common procedure is to solve the model equations \n",
    "    using wall functions with high Reynolds number models \n",
    "    and then use this solution as the starting guess in the low Reynolds number models. \n",
    "- The adaptive wall treatment reduces this procedure \n",
    "    to the sequential solution of the model equations for a coarse and fine mesh; \n",
    "    i.e., it eliminates the need for the formulation \n",
    "    and solution of a high Reynolds number model as a first step.\n",
    "\n",
    "Turbulent Flow Interfaces"
   ]
  },
  {
   "cell_type": "markdown",
   "metadata": {},
   "source": [
    "Automatic wall treatment is available for all low Reynolds number turbulence model interfaces in the latest version of the CFD Module:\n",
    "\n",
    "    k-ω\n",
    "    Low Reynolds k-ε\n",
    "    SST\n",
    "    v2-f\n",
    "    Spalart-Allmaras\n",
    "    L-VEL\n",
    "    Algebraic y+\n",
    "\n",
    "The automatic wall treatment functionality is available in the Settings windows for all of the above-mentioned flow interfaces. The figure below shows the selection for the Turbulent Flow, k-ω interface. In this flow interface, we can select from three different wall treatment options: automatic, wall functions, and low Reynolds number."
   ]
  },
  {
   "cell_type": "code",
   "execution_count": null,
   "metadata": {},
   "outputs": [],
   "source": [
    "The three available options for the Turbulent Flow, k-ω interface: automatic, wall functions, and low Reynolds number."
   ]
  },
  {
   "cell_type": "code",
   "execution_count": null,
   "metadata": {},
   "outputs": [],
   "source": [
    "ahmed body"
   ]
  },
  {
   "cell_type": "markdown",
   "metadata": {},
   "source": [
    "# Drag and Lift"
   ]
  },
  {
   "cell_type": "markdown",
   "metadata": {},
   "source": [
    "- In fluid flow simulations, it is often important to evaluate the forces that the fluid exerts onto the body \n",
    "    — for example, \n",
    "    lift and drag forces on an airfoil or a car. \n",
    "- Engineers can use these body forces to quantify the efficiency and aerodynamic performance of designs. \n",
    "- Today, we will discuss different ways to compute lift and drag in.\n",
    "\n",
    "Defining Lift and Drag\n",
    "\n",
    "- When fluid flow passes a body, it will exert a force on the surface. \n",
    "- As shown in the figure below, \n",
    "    the force component that is perpendicular to the flow direction is called lift. \n",
    "- The force component that is parallel to the flow direction is called drag. \n",
    "- For simplicity, let’s assume that the flow direction is aligned with the coordinate system of the model. \n",
    "- Later on, we will show you how to compute the lift and drag forces in a direction \n",
    "    that is not aligned with the model coordinate system. "
   ]
  },
  {
   "cell_type": "markdown",
   "metadata": {},
   "source": [
    "- There are two distinct contributors to lift and drag forces \n",
    "    — pressure force and viscous force. \n",
    "- The pressure force, often referred to as pressure-gradient force, \n",
    "    is the force due to the pressure difference across the surface. \n",
    "- The viscous force is the force due to friction that acts in the opposite direction of the flow. \n",
    "- The magnitudes of pressure force and viscous force can vary significantly, depending on the type of flow. \n",
    "- The flow around a moving car, for instance, is often dominated by the pressure force."
   ]
  },
  {
   "cell_type": "markdown",
   "metadata": {},
   "source": [
    "- Simulation of airflow over an Ahmed body. \n",
    "- The surface plot shows the pressure distribution, \n",
    "- and the streamlines are colored by the velocity magnitude. \n",
    "- The arrow surface behind the Ahmed body shows the circulation in the wake zone."
   ]
  },
  {
   "cell_type": "code",
   "execution_count": null,
   "metadata": {},
   "outputs": [],
   "source": [
    "% Pressure Force \tspf.nymesh*p \tspf.nymesh*p\n",
    "% Viscous Force \t-spf.K_stressy \tspf.rho*spf.u_tau*spf.u_tangy/spf.uPlus\n",
    "% Total Force \t-spf.T_stressy \tspf.nymesh*p + spf.rho*spf.u_tau*spf.u_tangy/spf.uPlus"
   ]
  },
  {
   "cell_type": "markdown",
   "metadata": {
    "lines_to_next_cell": 2
   },
   "source": [
    "# Parameter Setting"
   ]
  },
  {
   "cell_type": "code",
   "execution_count": null,
   "metadata": {},
   "outputs": [],
   "source": [
    "% wtt."
   ]
  },
  {
   "cell_type": "markdown",
   "metadata": {},
   "source": [
    "# Laminar"
   ]
  },
  {
   "cell_type": "code",
   "execution_count": 6,
   "metadata": {},
   "outputs": [],
   "source": [
    "%\n",
    "%%  PART II.    COMSOL\n",
    "%\n",
    "%\n",
    "% cfd_2d_laminar_00.m\n",
    "%\n",
    "% Model exported on Sep 16 2020, 09:04 by COMSOL 5.5.0.359.\n",
    "\n",
    "import com.comsol.model.*\n",
    "import com.comsol.model.util.*\n",
    "\n",
    "model = ModelUtil.create('Model');\n",
    "\n",
    "model.modelPath('/home/sbkim/Work/git/openfoam_seo/wtt/yjn2');\n",
    "\n",
    "model.component.create('comp1', true);\n",
    "\n",
    "model.component('comp1').geom.create('geom1', 2);\n",
    "\n",
    "model.component('comp1').mesh.create('mesh1');\n",
    "\n",
    "model.component('comp1').physics.create('spf', 'LaminarFlow', 'geom1');\n",
    "\n",
    "model.study.create('std1');\n",
    "model.study('std1').create('stat', 'Stationary');\n",
    "model.study('std1').feature('stat').activate('spf', true);"
   ]
  },
  {
   "cell_type": "code",
   "execution_count": 8,
   "metadata": {},
   "outputs": [],
   "source": [
    "% mphsave(model,'rib_imsi')"
   ]
  },
  {
   "cell_type": "code",
   "execution_count": 7,
   "metadata": {},
   "outputs": [],
   "source": [
    "% model.component('comp1').geom('geom1').create('imp1', 'Import');\n",
    "% model.component('comp1').geom('geom1').feature('imp1').set('filename', ...\n",
    "    % '/home/sbkim/Work/git/openfoam_seo/wtt/yjn2/yjn2_cfd_deck_200915.dxf');\n",
    "% model.component('comp1').geom('geom1').runPre('fin');\n",
    "\n",
    "model.component('comp1').geom('geom1').create('imp1', 'Import');\n",
    "model.component('comp1').geom('geom1').feature('imp1').set('type', 'dxf');\n",
    "% model.component('comp1').geom('geom1').feature('imp1').set('filename', ...\n",
    "    % '/home/sbkim/Work/git/openfoam_seo/wtt/yjn2/yjn2_cfd_deck_200915.dxf');\n",
    "% model.component('comp1').geom('geom1').feature('imp1').set('alllayers', ...\n",
    "    % {'CS-DIML' 'CS-STEL-MAJR' 'dummy' '0' 'CENTER' 'CZ-SYMB' '3' '19 ' '1_CR-DEGN' '1'  ...\n",
    "% '7' '6' ''});\n",
    "model.component('comp1').geom('geom1').feature('imp1').set('filename', ...\n",
    "    '/media/sbkim/2266B8F966B8CEB3/git/openfoam_seo/wtt/yjn2/yjn2_cfd_rib_200915.dxf');\n",
    "\n",
    "model.component('comp1').geom('geom1').feature('imp1').set('knit', 'curve');\n",
    "model.component('comp1').geom('geom1').create('csol1', 'ConvertToSolid');\n",
    "% model.component('comp1').geom('geom1').feature('csol1').selection('input').set({ ...\n",
    "    % 'imp1(2)' 'imp1(3)' 'imp1(4)' 'imp1(5)'});\n",
    "model.component('comp1').geom('geom1').feature('csol1').selection('input').set({'imp1'});"
   ]
  },
  {
   "cell_type": "code",
   "execution_count": 8,
   "metadata": {},
   "outputs": [],
   "source": [
    "model.component('comp1').geom('geom1').create('del1', 'Delete');\n",
    "% model.component('comp1').geom('geom1').feature('del1').selection('input').set('imp1(1)', [1 3]);\n",
    "% model.component('comp1').geom('geom1').feature('del1').selection('input').set('csol1(1)', [1 2 3 4 5 6 7 19 20 21 29 30 31 32 37 38 39 40 41 42 43 51 52 53 54 55 57 58 59 62 66 70 72 75 76 78 80 83 84 85 87 89 92 93 94 96 98 101 102 104 106 109 110 112 114 115 116 117 118 125 127 128 129 130 131 132 133 134 135 136 137 138 139 140 141 142 143 145 146 158 165 171 172 174 176 179 180 182 184 187 188 190 192 195 196 198 200 203 204 206 208 211 212 214 216 219 220 222 224 227 228 230 232 235 236 238 239 241 245 246 248 250 253 254 256 258 261 262 264 266 269 270 272 274 277 278 280 282 285 286 288 290 293 294 296 298 301 302 304 306 309 310 312 313 314 315 317 318 319 320 321 322 323 324 325 326 327 329 330 331 332 333 334 335 337 338 340 341 363 364 365 366 367 368 369 370 371 372 373 374 377 389 390 391 407 408 409 411 412 413 414 415 416 417 418 419 420 421 422 423 424 425 426 427 428 429 430 431 432 433 434 435 436 439 440 443 444 459 470 473 474 477 478 481 482 485 486 489 490 493 494 495 496 497 498 499 500 501 502 503 504 505 506 511 523 524 527 528 531 532 535 536 539 540 543 544 547 548 551 552 555 556 559 560 563 564 567 568 571 572 575 576 579 580 583 584 587 588 591 592 594 595 596 597 598 599 600 601 602 603 604 605 607 608 609 610 611 612]);\n",
    "\n",
    "model.component('comp1').geom('geom1').feature('del1').selection('input').init(2);\n",
    "model.component('comp1').geom('geom1').feature('del1').selection('input').set('csol1', [1 2 3 4 5 16 17 18 19 20]);\n",
    "model.component('comp1').geom('geom1').run('del1');\n",
    "\n",
    "% model.component('comp1').geom('geom1').measure.selection.init(2);\n",
    "% model.component('comp1').geom('geom1').measure.selection.all('del1(1)');\n",
    "\n",
    "model.component('comp1').geom('geom1').measure.selection.init(0);\n",
    "model.component('comp1').geom('geom1').measure.selection.set('del1', [1 32]);\n",
    "\n",
    "% 19959.15556 [m], (19959.15556, -8.381909993E-7) [m].\n",
    "% Point 1 (del1(2)) to 320 (del1(2)).\n",
    "% Average coordinates: (157333.0083, -1067.977166) [m].\n",
    "% Points: 1, 320 (del1(2)).\n",
    "\n",
    "% [Sep 17, 2020 4:20 AM]\n",
    "% Distance: 8352.385221 [m], (8352.385221, 2.328852133E-8) [m].\n",
    "% Point 1 (del1) to 32 (del1).\n",
    "% Average coordinates: (157127.4098, 10384.96539) [m].  Points: 1, 32 (del1).\n",
    "\n",
    "% [Sep 16, 2020 10:39 PM]\n",
    "% Distance: 12347.59452 [m], (12347.59452, 4.946377885E-8) [m].\n",
    "% Point 2 (csol1) to 63 (csol1). Average coordinates: (157127.4098, -11160.59134) [m].\n",
    "% Points: 2, 63 (csol1)."
   ]
  },
  {
   "cell_type": "code",
   "execution_count": 9,
   "metadata": {},
   "outputs": [],
   "source": [
    "model.component('comp1').geom('geom1').create('sca1', 'Scale');\n",
    "model.component('comp1').geom('geom1').feature('sca1').set('factor', '1e-3');\n",
    "% model.component('comp1').geom('geom1').feature('sca1').selection('input').set({'del1(1)' 'del1(2)'});\n",
    "model.component('comp1').geom('geom1').feature('sca1').selection('input').set({'del1'});\n",
    "\n",
    "model.component('comp1').geom('geom1').create('mov1', 'Move');\n",
    "model.component('comp1').geom('geom1').feature('mov1').setIndex('displx', '-157.1274098', 0);\n",
    "model.component('comp1').geom('geom1').feature('mov1').setIndex('disply', '-10.38496539', 0);\n",
    "model.component('comp1').geom('geom1').feature('mov1').selection('input').set({'sca1'});\n",
    "\n",
    "% out = model;"
   ]
  },
  {
   "cell_type": "code",
   "execution_count": 10,
   "metadata": {},
   "outputs": [],
   "source": [
    "model.component('comp1').geom('geom1').create('sca2', 'Scale');\n",
    "model.component('comp1').geom('geom1').feature('sca2').set('factor', sprintf('1/%d',sb.scale));\n",
    "model.component('comp1').geom('geom1').feature('sca2').selection('input').set({'mov1'});\n",
    "\n",
    "model.component('comp1').geom('geom1').create('mir1', 'Mirror');\n",
    "model.component('comp1').geom('geom1').feature('mir1').selection('input').set({'sca2'});\n",
    "model.component('comp1').geom('geom1').create('r1', 'Rectangle');\n",
    "model.component('comp1').geom('geom1').feature('r1').set('pos', {'-1.5' '-1.5/2'});\n",
    "model.component('comp1').geom('geom1').feature('r1').set('size', [4.5 1.5]);\n",
    "model.component('comp1').geom('geom1').create('c1', 'Circle');\n",
    "model.component('comp1').geom('geom1').feature('c1').set('pos', {'0' '.02'});\n",
    "model.component('comp1').geom('geom1').feature('c1').set('r', 0.2);\n",
    "model.component('comp1').geom('geom1').create('r2', 'Rectangle');\n",
    "model.component('comp1').geom('geom1').feature('r2').set('pos', [-0.5 -0.5]);\n",
    "model.component('comp1').geom('geom1').feature('r2').set('size', [2 1]);\n",
    "model.component('comp1').geom('geom1').create('r3', 'Rectangle');\n",
    "model.component('comp1').geom('geom1').feature('r3').set('pos', {'-.75/2' '-.75/2'});\n",
    "model.component('comp1').geom('geom1').feature('r3').set('size', [1 0.75]);"
   ]
  },
  {
   "cell_type": "code",
   "execution_count": 26,
   "metadata": {},
   "outputs": [],
   "source": [
    "% mphsave(model,'rib_imsi')"
   ]
  },
  {
   "cell_type": "code",
   "execution_count": 11,
   "metadata": {},
   "outputs": [],
   "source": [
    "model.component('comp1').geom('geom1').create('co1', 'Compose');\n",
    "% model.component('comp1').geom('geom1').feature('co1').set('formula', '(r1+c1+r2+r3)-(mir1(1)+mir1(2))');\n",
    "% model.component('comp1').geom('geom1').feature('co1').selection('input').set({'r1' 'c1' 'r2' 'r3' 'mir1(1)' 'mir1(2)'});\n",
    "model.component('comp1').geom('geom1').feature('co1').set('formula', '(r1+c1+r2+r3)-(mir1)');\n",
    "model.component('comp1').geom('geom1').feature('co1').selection('input').set({'r1' 'c1' 'r2' 'r3' 'mir1'});\n",
    "\n",
    "model.component('comp1').geom('geom1').run;"
   ]
  },
  {
   "cell_type": "markdown",
   "metadata": {},
   "source": [
    "## material"
   ]
  },
  {
   "cell_type": "code",
   "execution_count": 12,
   "metadata": {},
   "outputs": [],
   "source": [
    "model.component('comp1').material.create('mat1', 'Common');"
   ]
  },
  {
   "cell_type": "code",
   "execution_count": 13,
   "metadata": {},
   "outputs": [],
   "source": [
    "model.component('comp1').material('mat1').propertyGroup('def').func.create('eta', 'Piecewise');\n",
    "model.component('comp1').material('mat1').propertyGroup('def').func.create('Cp', 'Piecewise');\n",
    "model.component('comp1').material('mat1').propertyGroup('def').func.create('rho', 'Analytic');\n",
    "model.component('comp1').material('mat1').propertyGroup('def').func.create('k', 'Piecewise');\n",
    "model.component('comp1').material('mat1').propertyGroup('def').func.create('cs', 'Analytic');\n",
    "model.component('comp1').material('mat1').propertyGroup('def').func.create('an1', 'Analytic');\n",
    "model.component('comp1').material('mat1').propertyGroup('def').func.create('an2', 'Analytic');\n",
    "model.component('comp1').material('mat1').propertyGroup.create('RefractiveIndex', 'Refractive index');\n",
    "model.component('comp1').material('mat1').propertyGroup.create('NonlinearModel', 'Nonlinear model');"
   ]
  },
  {
   "cell_type": "code",
   "execution_count": 14,
   "metadata": {},
   "outputs": [],
   "source": [
    "model.component('comp1').material('mat1').label('Air');\n",
    "model.component('comp1').material('mat1').set('family', 'air');\n",
    "\n",
    "model.component('comp1').material('mat1').propertyGroup('def').func('eta').set('arg', 'T');\n",
    "model.component('comp1').material('mat1').propertyGroup('def').func('eta').set('pieces', {'200.0' '1600.0' '-8.38278E-7+8.35717342E-8*T^1-7.69429583E-11*T^2+4.6437266E-14*T^3-1.06585607E-17*T^4'});\n",
    "model.component('comp1').material('mat1').propertyGroup('def').func('eta').set('argunit', 'K');\n",
    "model.component('comp1').material('mat1').propertyGroup('def').func('eta').set('fununit', 'Pa*s');\n",
    "\n",
    "model.component('comp1').material('mat1').propertyGroup('def').func('Cp').set('arg', 'T');\n",
    "model.component('comp1').material('mat1').propertyGroup('def').func('Cp').set('pieces', {'200.0' '1600.0' '1047.63657-0.372589265*T^1+9.45304214E-4*T^2-6.02409443E-7*T^3+1.2858961E-10*T^4'});\n",
    "model.component('comp1').material('mat1').propertyGroup('def').func('Cp').set('argunit', 'K');\n",
    "model.component('comp1').material('mat1').propertyGroup('def').func('Cp').set('fununit', 'J/(kg*K)');\n",
    "\n",
    "model.component('comp1').material('mat1').propertyGroup('def').func('rho').set('expr', 'pA*0.02897/R_const[K*mol/J]/T');\n",
    "model.component('comp1').material('mat1').propertyGroup('def').func('rho').set('args', {'pA' 'T'});\n",
    "model.component('comp1').material('mat1').propertyGroup('def').func('rho').set('dermethod', 'manual');\n",
    "model.component('comp1').material('mat1').propertyGroup('def').func('rho').set('argders', {'pA' 'd(pA*0.02897/R_const/T,pA)'; 'T' 'd(pA*0.02897/R_const/T,T)'});\n",
    "model.component('comp1').material('mat1').propertyGroup('def').func('rho').set('argunit', 'Pa,K');\n",
    "model.component('comp1').material('mat1').propertyGroup('def').func('rho').set('fununit', 'kg/m^3');\n",
    "model.component('comp1').material('mat1').propertyGroup('def').func('rho').set('plotargs', {'pA' '0' '1'; 'T' '0' '1'});\n",
    "\n",
    "model.component('comp1').material('mat1').propertyGroup('def').func('k').set('arg', 'T');\n",
    "model.component('comp1').material('mat1').propertyGroup('def').func('k').set('pieces', {'200.0' '1600.0' '-0.00227583562+1.15480022E-4*T^1-7.90252856E-8*T^2+4.11702505E-11*T^3-7.43864331E-15*T^4'});\n",
    "model.component('comp1').material('mat1').propertyGroup('def').func('k').set('argunit', 'K');\n",
    "model.component('comp1').material('mat1').propertyGroup('def').func('k').set('fununit', 'W/(m*K)');\n",
    "\n",
    "model.component('comp1').material('mat1').propertyGroup('def').func('cs').set('expr', 'sqrt(1.4*R_const[K*mol/J]/0.02897*T)');\n",
    "model.component('comp1').material('mat1').propertyGroup('def').func('cs').set('args', {'T'});\n",
    "model.component('comp1').material('mat1').propertyGroup('def').func('cs').set('dermethod', 'manual');\n",
    "model.component('comp1').material('mat1').propertyGroup('def').func('cs').set('argunit', 'K');\n",
    "model.component('comp1').material('mat1').propertyGroup('def').func('cs').set('fununit', 'm/s');\n",
    "model.component('comp1').material('mat1').propertyGroup('def').func('cs').set('plotargs', {'T' '273.15' '373.15'});\n",
    "\n",
    "model.component('comp1').material('mat1').propertyGroup('def').func('an1').set('funcname', 'alpha_p');\n",
    "model.component('comp1').material('mat1').propertyGroup('def').func('an1').set('expr', '-1/rho(pA,T)*d(rho(pA,T),T)');\n",
    "model.component('comp1').material('mat1').propertyGroup('def').func('an1').set('args', {'pA' 'T'});\n",
    "model.component('comp1').material('mat1').propertyGroup('def').func('an1').set('argunit', 'Pa,K');\n",
    "model.component('comp1').material('mat1').propertyGroup('def').func('an1').set('fununit', '1/K');\n",
    "model.component('comp1').material('mat1').propertyGroup('def').func('an1').set('plotargs', {'pA' '101325' '101325'; 'T' '273.15' '373.15'});\n",
    "\n",
    "model.component('comp1').material('mat1').propertyGroup('def').func('an2').set('funcname', 'muB');\n",
    "model.component('comp1').material('mat1').propertyGroup('def').func('an2').set('expr', '0.6*eta(T)');\n",
    "model.component('comp1').material('mat1').propertyGroup('def').func('an2').set('args', {'T'});\n",
    "model.component('comp1').material('mat1').propertyGroup('def').func('an2').set('argunit', 'K');\n",
    "model.component('comp1').material('mat1').propertyGroup('def').func('an2').set('fununit', 'Pa*s');\n",
    "model.component('comp1').material('mat1').propertyGroup('def').func('an2').set('plotargs', {'T' '200' '1600'});\n",
    "\n",
    "model.component('comp1').material('mat1').propertyGroup('def').set('thermalexpansioncoefficient', '');\n",
    "model.component('comp1').material('mat1').propertyGroup('def').set('molarmass', '');\n",
    "model.component('comp1').material('mat1').propertyGroup('def').set('bulkviscosity', '');\n",
    "model.component('comp1').material('mat1').propertyGroup('def').set('thermalexpansioncoefficient', {'alpha_p(pA,T)' '0' '0' '0' 'alpha_p(pA,T)' '0' '0' '0' 'alpha_p(pA,T)'});\n",
    "model.component('comp1').material('mat1').propertyGroup('def').set('molarmass', '0.02897[kg/mol]');\n",
    "model.component('comp1').material('mat1').propertyGroup('def').set('bulkviscosity', 'muB(T)');\n",
    "\n",
    "model.component('comp1').material('mat1').propertyGroup('def').descr('thermalexpansioncoefficient_symmetry', '');\n",
    "model.component('comp1').material('mat1').propertyGroup('def').descr('molarmass_symmetry', '');\n",
    "model.component('comp1').material('mat1').propertyGroup('def').descr('bulkviscosity_symmetry', '');\n",
    "\n",
    "model.component('comp1').material('mat1').propertyGroup('def').set('relpermeability', {'1' '0' '0' '0' '1' '0' '0' '0' '1'});\n",
    "model.component('comp1').material('mat1').propertyGroup('def').descr('relpermeability_symmetry', '');\n",
    "\n",
    "model.component('comp1').material('mat1').propertyGroup('def').set('relpermittivity', {'1' '0' '0' '0' '1' '0' '0' '0' '1'});\n",
    "model.component('comp1').material('mat1').propertyGroup('def').descr('relpermittivity_symmetry', '');\n",
    "\n",
    "model.component('comp1').material('mat1').propertyGroup('def').set('dynamicviscosity', 'eta(T)');\n",
    "model.component('comp1').material('mat1').propertyGroup('def').descr('dynamicviscosity_symmetry', '');\n",
    "\n",
    "model.component('comp1').material('mat1').propertyGroup('def').set('ratioofspecificheat', '1.4');\n",
    "model.component('comp1').material('mat1').propertyGroup('def').descr('ratioofspecificheat_symmetry', '');\n",
    "\n",
    "model.component('comp1').material('mat1').propertyGroup('def').set('electricconductivity', {'0[S/m]' '0' '0' '0' '0[S/m]' '0' '0' '0' '0[S/m]'});\n",
    "model.component('comp1').material('mat1').propertyGroup('def').descr('electricconductivity_symmetry', '');\n",
    "\n",
    "model.component('comp1').material('mat1').propertyGroup('def').set('heatcapacity', 'Cp(T)');\n",
    "model.component('comp1').material('mat1').propertyGroup('def').descr('heatcapacity_symmetry', '');\n",
    "\n",
    "model.component('comp1').material('mat1').propertyGroup('def').set('density', 'rho(pA,T)');\n",
    "model.component('comp1').material('mat1').propertyGroup('def').descr('density_symmetry', '');\n",
    "\n",
    "model.component('comp1').material('mat1').propertyGroup('def').set('thermalconductivity', {'k(T)' '0' '0' '0' 'k(T)' '0' '0' '0' 'k(T)'});\n",
    "model.component('comp1').material('mat1').propertyGroup('def').descr('thermalconductivity_symmetry', '');\n",
    "\n",
    "model.component('comp1').material('mat1').propertyGroup('def').set('soundspeed', 'cs(T)');\n",
    "model.component('comp1').material('mat1').propertyGroup('def').descr('soundspeed_symmetry', '');\n",
    "\n",
    "model.component('comp1').material('mat1').propertyGroup('def').addInput('temperature');\n",
    "model.component('comp1').material('mat1').propertyGroup('def').addInput('pressure');\n",
    "\n",
    "model.component('comp1').material('mat1').propertyGroup('RefractiveIndex').set('n', '');\n",
    "model.component('comp1').material('mat1').propertyGroup('RefractiveIndex').set('ki', '');\n",
    "model.component('comp1').material('mat1').propertyGroup('RefractiveIndex').set('n', '');\n",
    "model.component('comp1').material('mat1').propertyGroup('RefractiveIndex').set('ki', '');\n",
    "model.component('comp1').material('mat1').propertyGroup('RefractiveIndex').set('n', '');\n",
    "model.component('comp1').material('mat1').propertyGroup('RefractiveIndex').set('ki', '');\n",
    "model.component('comp1').material('mat1').propertyGroup('RefractiveIndex').set('n', {'1' '0' '0' '0' '1' '0' '0' '0' '1'});\n",
    "model.component('comp1').material('mat1').propertyGroup('RefractiveIndex').set('ki', {'0' '0' '0' '0' '0' '0' '0' '0' '0'});\n",
    "model.component('comp1').material('mat1').propertyGroup('RefractiveIndex').descr('n_symmetry', '');\n",
    "model.component('comp1').material('mat1').propertyGroup('RefractiveIndex').descr('ki_symmetry', '');\n",
    "\n",
    "model.component('comp1').material('mat1').propertyGroup('NonlinearModel').set('BA', '(def.gamma+1)/2');\n",
    "model.component('comp1').material('mat1').propertyGroup('NonlinearModel').descr('BA_symmetry', '');"
   ]
  },
  {
   "cell_type": "markdown",
   "metadata": {},
   "source": [
    "## physics"
   ]
  },
  {
   "cell_type": "code",
   "execution_count": 130,
   "metadata": {},
   "outputs": [],
   "source": [
    "model.component('comp1').selection.create('box1', 'Box');\n",
    "model.component('comp1').selection('box1').set('entitydim', 1);\n",
    "model.component('comp1').selection('box1').set('xmin', -0.15);\n",
    "model.component('comp1').selection('box1').set('xmax', 0.15);\n",
    "model.component('comp1').selection('box1').set('ymin', -0.1);\n",
    "model.component('comp1').selection('box1').set('ymax', 0.12);"
   ]
  },
  {
   "cell_type": "code",
   "execution_count": 131,
   "metadata": {},
   "outputs": [],
   "source": [
    "model.component('comp1').selection.create('box2', 'Box');\n",
    "model.component('comp1').selection('box2').set('entitydim', 1);\n",
    "model.component('comp1').selection('box2').set('xmin', -0.15);\n",
    "model.component('comp1').selection('box2').set('xmax', 0);\n",
    "model.component('comp1').selection('box2').set('ymin', -0.1);\n",
    "model.component('comp1').selection('box2').set('ymax', 0.12);\n",
    "\n",
    "model.component('comp1').selection.create('box3', 'Box');\n",
    "model.component('comp1').selection('box3').set('entitydim', 1);\n",
    "model.component('comp1').selection('box3').set('xmin', 0);\n",
    "model.component('comp1').selection('box3').set('xmax', 0.15);\n",
    "model.component('comp1').selection('box3').set('ymin', -0.1);\n",
    "model.component('comp1').selection('box3').set('ymax', 0.12);\n",
    "\n",
    "% model.component('comp1').physics.create('spf', 'LaminarFlow', 'geom1');"
   ]
  },
  {
   "cell_type": "code",
   "execution_count": 17,
   "metadata": {},
   "outputs": [],
   "source": [
    "model.component('comp1').physics('spf').create('inl1', 'InletBoundary', 1);\n",
    "model.component('comp1').physics('spf').feature('inl1').selection.set([1]);\n",
    "model.component('comp1').physics('spf').create('out1', 'OutletBoundary', 1);\n",
    "% model.component('comp1').physics('spf').feature('out1').selection.set([229]);\n",
    "model.component('comp1').physics('spf').feature('out1').selection.set([36]);\n",
    "model.component('comp1').physics('spf').create('sym1', 'Symmetry', 1);\n",
    "model.component('comp1').physics('spf').feature('sym1').selection.set([2 3]);"
   ]
  },
  {
   "cell_type": "code",
   "execution_count": 18,
   "metadata": {},
   "outputs": [],
   "source": [
    "sb.U_in = sb.U(150);"
   ]
  },
  {
   "cell_type": "code",
   "execution_count": 19,
   "metadata": {},
   "outputs": [],
   "source": [
    "% model.component('comp1').physics('spf').prop('PhysicalModelProperty').set('IncludeGravity', true);\n",
    "model.component('comp1').physics('spf').feature('inl1').set('U0in', sb.U_in);"
   ]
  },
  {
   "cell_type": "markdown",
   "metadata": {},
   "source": [
    "## mesh"
   ]
  },
  {
   "cell_type": "code",
   "execution_count": 20,
   "metadata": {},
   "outputs": [],
   "source": [
    "model.component('comp1').mesh('mesh1').create('bl1', 'BndLayer');\n",
    "model.component('comp1').mesh('mesh1').create('fq2', 'FreeQuad');\n",
    "model.component('comp1').mesh('mesh1').create('fq3', 'FreeQuad');\n",
    "model.component('comp1').mesh('mesh1').create('fq1', 'FreeQuad');"
   ]
  },
  {
   "cell_type": "code",
   "execution_count": 21,
   "metadata": {},
   "outputs": [],
   "source": [
    "model.component('comp1').mesh('mesh1').feature('bl1').selection.geom('geom1', 2);\n",
    "model.component('comp1').mesh('mesh1').feature('bl1').selection.set([4]);\n",
    "model.component('comp1').mesh('mesh1').feature('bl1').create('blp', 'BndLayerProp');\n",
    "% model.component('comp1').mesh('mesh1').feature('bl1').feature('blp').selection.set([10 11 12 13 14 15 16 17 18 19 20 21 22 23 24 25 26 27 28 29 30 31 32 33 34 35 36 37 38 39 40 41 42 43 44 45 46 47 48 49 50 51 52 53 54 55 56 57 58 59 60 61 62 63 64 65 66 67 68 69 70 71 72 73 74 75 76 77 78 79 80 81 82 83 84 85 86 87 88 89 90 91 92 93 94 95 96 97 98 99 100 101 102 103 104 105 106 107 108 109 110 111 112 113 114 115 116 117 118 119 120 121 122 123 124 125 126 127 128 129 130 131 132 133 134 135 136 137 138 139 140 141 142 143 144 145 146 147 148 149 150 151 152 153 154 155 156 157 158 159 160 161 162 163 164 165 166 167 168 169 170 171 172 173 174 175 176 177 178 179 180 181 182 183 184 185 186 187 188 189 190 191 192 193 194 195 196 197 198 199 200 201 202 203 204 205 206 207 208 209 210 211 212 213 214 215 216 217 218 219 220 221 222 223 224 225 226 232 233 234 235 236 237 238 239 240 241 242 243 244 245 246 247 248 249 250 251 252 253 254 255 256 257 258 259 260 261 262 263 264 265 266 267 268 269 270 271 272 273 276 277 278 279 280 281 282 283 284 285 286 287 288 289 290 291 292 293 294 295 296 297 298 299 300 301 302 303 304 305 306 307 308 309 310 311 312 313 314 315 316 317 318 319 320 321 322 323 324 325 326 327 328 329 330 331 332 333 334 335 336 337 338 339 340 341]);"
   ]
  },
  {
   "cell_type": "code",
   "execution_count": 22,
   "metadata": {},
   "outputs": [],
   "source": [
    "model.component('comp1').mesh('mesh1').feature('bl1').feature('blp').selection.named('box1');\n",
    "\n",
    "model.component('comp1').mesh('mesh1').feature('fq2').selection.geom('geom1', 2);\n",
    "model.component('comp1').mesh('mesh1').feature('fq2').selection.set([3]);\n",
    "model.component('comp1').mesh('mesh1').feature('fq2').create('size1', 'Size');\n",
    "model.component('comp1').mesh('mesh1').feature('fq2').feature('size1').set('table', 'cfd');\n",
    "\n",
    "model.component('comp1').mesh('mesh1').feature('fq3').selection.geom('geom1', 2);\n",
    "model.component('comp1').mesh('mesh1').feature('fq3').selection.set([2]);\n",
    "model.component('comp1').mesh('mesh1').feature('fq3').create('size1', 'Size');\n",
    "model.component('comp1').mesh('mesh1').feature('fq3').feature('size1').set('table', 'cfd');\n",
    "\n",
    "model.component('comp1').mesh('mesh1').feature('fq1').selection.geom('geom1', 2);\n",
    "model.component('comp1').mesh('mesh1').feature('fq1').selection.set([1]);\n",
    "model.component('comp1').mesh('mesh1').feature('fq1').create('size1', 'Size');\n",
    "model.component('comp1').mesh('mesh1').feature('fq1').feature('size1').set('table', 'cfd');"
   ]
  },
  {
   "cell_type": "code",
   "execution_count": 23,
   "metadata": {},
   "outputs": [],
   "source": [
    "model.component('comp1').mesh('mesh1').feature('size').set('table', 'cfd');\n",
    "% model.component('comp1').mesh('mesh1').feature('size').set('hauto', 3);\n",
    "% model.component('comp1').mesh('mesh1').feature('size').set('hauto', 2);\n",
    "model.component('comp1').mesh('mesh1').feature('size').set('hauto', 4);\n",
    "model.component('comp1').mesh('mesh1').feature('fq2').feature('size1').set('hauto', 9);\n",
    "model.component('comp1').mesh('mesh1').feature('fq3').feature('size1').set('hauto', 9);\n",
    "model.component('comp1').mesh('mesh1').feature('fq1').feature('size1').set('hauto', 9);\n",
    "\n",
    "model.component('comp1').mesh('mesh1').run;"
   ]
  },
  {
   "cell_type": "code",
   "execution_count": null,
   "metadata": {},
   "outputs": [],
   "source": [
    "% model.study.create('std1');\n",
    "% model.study('std1').create('stat', 'Stationary');"
   ]
  },
  {
   "cell_type": "code",
   "execution_count": null,
   "metadata": {},
   "outputs": [],
   "source": [
    "% model.component('comp1').view('view1').axis.set('xmin', -1.7249999046325684);\n",
    "% model.component('comp1').view('view1').axis.set('xmax', 3.2249999046325684);\n",
    "% model.component('comp1').view('view1').axis.set('ymin', -1.3424468040466309);\n",
    "% model.component('comp1').view('view1').axis.set('ymax', 1.3424468040466309);"
   ]
  },
  {
   "cell_type": "code",
   "execution_count": 31,
   "metadata": {},
   "outputs": [],
   "source": [
    "% mphsave(model,'rib_imsi')"
   ]
  },
  {
   "cell_type": "markdown",
   "metadata": {},
   "source": [
    "## Study"
   ]
  },
  {
   "cell_type": "code",
   "execution_count": 24,
   "metadata": {},
   "outputs": [],
   "source": [
    "model.sol.create('sol1');\n",
    "model.sol('sol1').study('std1');"
   ]
  },
  {
   "cell_type": "code",
   "execution_count": 25,
   "metadata": {},
   "outputs": [],
   "source": [
    "model.study('std1').feature('stat').set('notlistsolnum', 1);\n",
    "model.study('std1').feature('stat').set('notsolnum', '1');\n",
    "model.study('std1').feature('stat').set('listsolnum', 1);\n",
    "model.study('std1').feature('stat').set('solnum', '1');"
   ]
  },
  {
   "cell_type": "code",
   "execution_count": 26,
   "metadata": {},
   "outputs": [],
   "source": [
    "model.sol('sol1').create('st1', 'StudyStep');\n",
    "model.sol('sol1').feature('st1').set('study', 'std1');\n",
    "model.sol('sol1').feature('st1').set('studystep', 'stat');\n",
    "model.sol('sol1').create('v1', 'Variables');\n",
    "model.sol('sol1').feature('v1').set('control', 'stat');"
   ]
  },
  {
   "cell_type": "code",
   "execution_count": 27,
   "metadata": {},
   "outputs": [],
   "source": [
    "model.sol('sol1').create('s1', 'Stationary');\n",
    "model.sol('sol1').feature('s1').feature('aDef').set('cachepattern', true);\n",
    "model.sol('sol1').feature('s1').create('fc1', 'FullyCoupled');\n",
    "model.sol('sol1').feature('s1').feature('fc1').set('initstep', 0.01);\n",
    "model.sol('sol1').feature('s1').feature('fc1').set('minstep', 1.0E-4);\n",
    "model.sol('sol1').feature('s1').feature('fc1').set('dtech', 'auto');\n",
    "model.sol('sol1').feature('s1').feature('fc1').set('maxiter', 100);\n",
    "model.sol('sol1').feature('s1').create('d1', 'Direct');\n",
    "model.sol('sol1').feature('s1').feature('d1').set('linsolver', 'pardiso');\n",
    "model.sol('sol1').feature('s1').feature('d1').set('pivotperturb', 1.0E-13);\n",
    "model.sol('sol1').feature('s1').feature('d1').label('Direct, fluid flow variables (spf)');\n",
    "model.sol('sol1').feature('s1').create('i1', 'Iterative');\n",
    "model.sol('sol1').feature('s1').feature('i1').set('linsolver', 'gmres');\n",
    "model.sol('sol1').feature('s1').feature('i1').set('prefuntype', 'left');\n",
    "model.sol('sol1').feature('s1').feature('i1').set('itrestart', 50);\n",
    "model.sol('sol1').feature('s1').feature('i1').set('rhob', 20);\n",
    "model.sol('sol1').feature('s1').feature('i1').set('maxlinit', 200);\n",
    "model.sol('sol1').feature('s1').feature('i1').set('nlinnormuse', 'on');\n",
    "model.sol('sol1').feature('s1').feature('i1').label('AMG, fluid flow variables (spf)');\n",
    "model.sol('sol1').feature('s1').feature('i1').create('mg1', 'Multigrid');\n",
    "model.sol('sol1').feature('s1').feature('i1').feature('mg1').set('prefun', 'saamg');\n",
    "model.sol('sol1').feature('s1').feature('i1').feature('mg1').set('mgcycle', 'v');\n",
    "model.sol('sol1').feature('s1').feature('i1').feature('mg1').set('maxcoarsedof', 80000);\n",
    "model.sol('sol1').feature('s1').feature('i1').feature('mg1').set('strconn', 0.02);\n",
    "model.sol('sol1').feature('s1').feature('i1').feature('mg1').set('usesmooth', false);\n",
    "model.sol('sol1').feature('s1').feature('i1').feature('mg1').set('saamgcompwise', true);\n",
    "model.sol('sol1').feature('s1').feature('i1').feature('mg1').feature('pr').create('sc1', 'SCGS');\n",
    "model.sol('sol1').feature('s1').feature('i1').feature('mg1').feature('pr').feature('sc1').set('linesweeptype', 'ssor');\n",
    "model.sol('sol1').feature('s1').feature('i1').feature('mg1').feature('pr').feature('sc1').set('iter', 0);\n",
    "model.sol('sol1').feature('s1').feature('i1').feature('mg1').feature('pr').feature('sc1').set('scgsrelax', 0.7);\n",
    "model.sol('sol1').feature('s1').feature('i1').feature('mg1').feature('pr').feature('sc1').set('scgsmethod', 'lines_vertices');\n",
    "model.sol('sol1').feature('s1').feature('i1').feature('mg1').feature('pr').feature('sc1').set('scgsvertexrelax', 0.7);\n",
    "model.sol('sol1').feature('s1').feature('i1').feature('mg1').feature('pr').feature('sc1').set('seconditer', 1);\n",
    "model.sol('sol1').feature('s1').feature('i1').feature('mg1').feature('pr').feature('sc1').set('relax', 0.5);\n",
    "model.sol('sol1').feature('s1').feature('i1').feature('mg1').feature('po').create('sc1', 'SCGS');\n",
    "model.sol('sol1').feature('s1').feature('i1').feature('mg1').feature('po').feature('sc1').set('linesweeptype', 'ssor');\n",
    "model.sol('sol1').feature('s1').feature('i1').feature('mg1').feature('po').feature('sc1').set('iter', 1);\n",
    "model.sol('sol1').feature('s1').feature('i1').feature('mg1').feature('po').feature('sc1').set('scgsrelax', 0.7);\n",
    "model.sol('sol1').feature('s1').feature('i1').feature('mg1').feature('po').feature('sc1').set('scgsmethod', 'lines_vertices');\n",
    "model.sol('sol1').feature('s1').feature('i1').feature('mg1').feature('po').feature('sc1').set('scgsvertexrelax', 0.7);\n",
    "model.sol('sol1').feature('s1').feature('i1').feature('mg1').feature('po').feature('sc1').set('seconditer', 1);\n",
    "model.sol('sol1').feature('s1').feature('i1').feature('mg1').feature('po').feature('sc1').set('relax', 0.5);\n",
    "model.sol('sol1').feature('s1').feature('i1').feature('mg1').feature('cs').create('d1', 'Direct');\n",
    "model.sol('sol1').feature('s1').feature('i1').feature('mg1').feature('cs').feature('d1').set('linsolver', 'pardiso');\n",
    "model.sol('sol1').feature('s1').feature('i1').feature('mg1').feature('cs').feature('d1').set('pivotperturb', 1.0E-13);\n",
    "model.sol('sol1').feature('s1').feature('fc1').set('linsolver', 'd1');\n",
    "model.sol('sol1').feature('s1').feature('fc1').set('initstep', 0.01);\n",
    "model.sol('sol1').feature('s1').feature('fc1').set('minstep', 1.0E-4);\n",
    "model.sol('sol1').feature('s1').feature('fc1').set('dtech', 'auto');\n",
    "model.sol('sol1').feature('s1').feature('fc1').set('maxiter', 100);\n",
    "model.sol('sol1').feature('s1').feature.remove('fcDef');\n",
    "model.sol('sol1').attach('std1');\n",
    "model.result.dataset('dset1').set('geom', 'geom1');"
   ]
  },
  {
   "cell_type": "code",
   "execution_count": 75,
   "metadata": {},
   "outputs": [],
   "source": [
    "if 0\n",
    "model.result.create('pg1', 'PlotGroup2D');\n",
    "model.result('pg1').label('Velocity (spf)');\n",
    "model.result('pg1').set('frametype', 'spatial');\n",
    "model.result('pg1').set('data', 'dset1');\n",
    "model.result('pg1').feature.create('surf1', 'Surface');\n",
    "model.result('pg1').feature('surf1').label('Surface');\n",
    "model.result('pg1').feature('surf1').set('smooth', 'internal');\n",
    "model.result('pg1').feature('surf1').set('data', 'parent');\n",
    "model.result.create('pg2', 'PlotGroup2D');\n",
    "model.result('pg2').label('Pressure (spf)');\n",
    "model.result('pg2').set('frametype', 'spatial');\n",
    "model.result('pg2').set('data', 'dset1');\n",
    "model.result('pg2').feature.create('con1', 'Contour');\n",
    "model.result('pg2').feature('con1').label('Contour');\n",
    "model.result('pg2').feature('con1').set('expr', 'p');\n",
    "model.result('pg2').feature('con1').set('number', 40);\n",
    "model.result('pg2').feature('con1').set('levelrounding', false);\n",
    "model.result('pg2').feature('con1').set('smooth', 'internal');\n",
    "model.result('pg2').feature('con1').set('data', 'parent');\n",
    "end"
   ]
  },
  {
   "cell_type": "code",
   "execution_count": 28,
   "metadata": {},
   "outputs": [
    {
     "name": "stdout",
     "output_type": "stream",
     "text": [
      "Total elapsed time = 4.772 s.\n"
     ]
    }
   ],
   "source": [
    "telap = toc(tcomp);\n",
    "model.sol('sol1').runAll;\n",
    "telap = toc(tcomp) - telap;\n",
    "fprintf('Total elapsed time = %.3f s.\\n',telap)"
   ]
  },
  {
   "cell_type": "code",
   "execution_count": null,
   "metadata": {},
   "outputs": [],
   "source": [
    "% model.result('pg1').run;"
   ]
  },
  {
   "cell_type": "markdown",
   "metadata": {},
   "source": [
    "## Post"
   ]
  },
  {
   "cell_type": "code",
   "execution_count": 84,
   "metadata": {},
   "outputs": [],
   "source": [
    "if 0\n",
    "model.result.numerical.create('int1', 'IntLine');\n",
    "model.result.numerical('int1').set('intsurface', true);\n",
    "% model.result.numerical('int1').selection.set([10 11 12 13 14 15 16 17 18 19 20 21 22 23 24 25 26 27 28 29 30 31 32 33 34 35 36 37 38 39 40 41 42 43 44 45 46 47 48 49 50 51 52 53 54 55 56 57 58 59 60 61 62 63 64 65 66 67 68 69 70 71 72 73 74 75 76 77 78 79 80 81 82 83 84 85 86 87 88 89 90 91 92 93 94 95 96 97 98 99 100 101 102 103 104 105 106 107 108 109 110 111 112 113 114 115 116 117 118 119 120 121 122 123 124 125 126 127 128 129 130 131 132 133 134 135 136 137 138 139 140 141 142 143 144 145 146 147 148 149 150 151 152 153 154 155 156 157 158 159 160 161 162 163 164 165 166 167 168 169 170 171 172 173 174 175 176 177 178 179 180 181 182 183 184 185 186 187 188 189 190 191 192 193 194 195 196 197 198 199 200 201 202 203 204 205 206 207 208 209 210 211 212 213 214 215 216 217 218 219 220 221 222 223 224 225 226 232 233 234 235 236 237 238 239 240 241 242 243 244 245 246 247 248 249 250 251 252 253 254 255 256 257 258 259 260 261 262 263 264 265 266 267 268 269 270 271 272 273 276 277 278 279 280 281 282 283 284 285 286 287 288 289 290 291 292 293 294 295 296 297 298 299 300 301 302 303 304 305 306 307 308 309 310 311 312 313 314 315 316 317 318 319 320 321 322 323 324 325 326 327 328 329 330 331 332 333 334 335 336 337 338 339 340 341]);\n",
    "model.result.numerical('int1').selection.named('box1');\n",
    "model.result.numerical('int1').set('expr', {'spf.T_stressx'});\n",
    "model.result.numerical('int1').set('descr', {'Total stress, x component'});\n",
    "model.result.numerical('int1').set('unit', {'N/m'});\n",
    "model.result.table.create('tbl1', 'Table');\n",
    "model.result.table('tbl1').comments('Line Integration 1');\n",
    "model.result.numerical('int1').set('table', 'tbl1');\n",
    "model.result.numerical('int1').setResult;\n",
    "end"
   ]
  },
  {
   "cell_type": "code",
   "execution_count": 37,
   "metadata": {},
   "outputs": [
    {
     "name": "stdout",
     "output_type": "stream",
     "text": [
      "1.051423, -0.241753, 0.055838\n"
     ]
    }
   ],
   "source": [
    "s_box = ['box',num2str(1)];\n",
    "sb.res(1,1) = mphint2(model,'-spf.T_stressx / (1/2*spf.rho)','line','selection',s_box) / ((sb.U_in^2) * sb.D);\n",
    "sb.res(1,2) = mphint2(model,'-spf.T_stressy / (1/2*spf.rho)','line','selection',s_box) / ((sb.U_in^2) * sb.D);\n",
    "sb.res(1,3) = mphint2(model,'(-spf.T_stressx*y + -spf.T_stressy*-x) / (1/2*spf.rho)','line','selection',s_box) / ((sb.U_in^2) * sb.D^2);\n",
    "fprintf('%f, %f, %f\\n',sb.res(1,:))"
   ]
  },
  {
   "cell_type": "code",
   "execution_count": 40,
   "metadata": {},
   "outputs": [],
   "source": [
    "mphsave(model,sprintf('rib_upper_laminar_Re%d',sb.Re))\n",
    "save(sprintf('rib_upper_laminar_Re%d',sb.Re),'sb')"
   ]
  },
  {
   "cell_type": "markdown",
   "metadata": {},
   "source": [
    "# Laminar: Transient"
   ]
  },
  {
   "cell_type": "code",
   "execution_count": 42,
   "metadata": {},
   "outputs": [],
   "source": [
    "model.study.create('std2');\n",
    "model.study('std2').create('time', 'Transient');\n",
    "model.study('std2').feature('time').activate('spf', true);\n",
    "model.study('std2').feature('time').set('tlist', ...\n",
    "    sprintf('range(0,0.1,.9)*%.2e range(1,1/2^6,2^4)*%.2e', sb.T_viv(150)*[1 1]));\n",
    "\n",
    "model.sol.create('sol2');\n",
    "model.sol('sol2').study('std2');\n",
    "\n",
    "model.study('std2').feature('time').set('notlistsolnum', 1);\n",
    "model.study('std2').feature('time').set('notsolnum', '1');\n",
    "model.study('std2').feature('time').set('listsolnum', 1);\n",
    "model.study('std2').feature('time').set('solnum', '1');\n",
    "\n",
    "model.sol('sol2').create('st1', 'StudyStep');\n",
    "model.sol('sol2').feature('st1').set('study', 'std2');\n",
    "model.sol('sol2').feature('st1').set('studystep', 'time');\n",
    "model.sol('sol2').create('v1', 'Variables');\n",
    "model.sol('sol2').feature('v1').set('control', 'time');\n",
    "model.sol('sol2').create('t1', 'Time');\n",
    "\n",
    "model.sol('sol2').feature('t1').set('tlist', ...\n",
    "    sprintf('range(0,0.1,.9)*%.2e range(1,1/2^6,2^4)*%.2e', sb.T_viv(150)*[1 1]));\n",
    "\n",
    "model.sol('sol2').feature('t1').set('plot', 'off');\n",
    "model.sol('sol2').feature('t1').set('plotgroup', 'Default');\n",
    "model.sol('sol2').feature('t1').set('plotfreq', 'tout');\n",
    "model.sol('sol2').feature('t1').set('probesel', 'all');\n",
    "model.sol('sol2').feature('t1').set('probes', {});\n",
    "model.sol('sol2').feature('t1').set('probefreq', 'tsteps');\n",
    "model.sol('sol2').feature('t1').set('rtol', 0.005);\n",
    "model.sol('sol2').feature('t1').set('atolglobalmethod', 'scaled');\n",
    "model.sol('sol2').feature('t1').set('atolglobalfactor', 0.05);\n",
    "model.sol('sol2').feature('t1').set('atolglobalvaluemethod', 'factor');\n",
    "model.sol('sol2').feature('t1').set('atolmethod', {'comp1_p' 'scaled' 'comp1_u' 'global'});\n",
    "model.sol('sol2').feature('t1').set('atolvaluemethod', {'comp1_p' 'factor' 'comp1_u' 'factor'});\n",
    "model.sol('sol2').feature('t1').set('atolfactor', {'comp1_p' '1' 'comp1_u' '0.1'});\n",
    "model.sol('sol2').feature('t1').set('estrat', 'exclude');\n",
    "model.sol('sol2').feature('t1').set('rhoinf', 0.5);\n",
    "model.sol('sol2').feature('t1').set('predictor', 'constant');\n",
    "model.sol('sol2').feature('t1').set('maxorder', 2);\n",
    "model.sol('sol2').feature('t1').set('stabcntrl', true);\n",
    "model.sol('sol2').feature('t1').set('bwinitstepfrac', '0.01');\n",
    "model.sol('sol2').feature('t1').set('control', 'time');\n",
    "\n",
    "model.sol('sol2').feature('t1').feature('aDef').set('cachepattern', true);\n",
    "model.sol('sol2').feature('t1').create('fc1', 'FullyCoupled');\n",
    "model.sol('sol2').feature('t1').feature('fc1').set('jtech', 'once');\n",
    "model.sol('sol2').feature('t1').feature('fc1').set('damp', 0.9);\n",
    "model.sol('sol2').feature('t1').feature('fc1').set('stabacc', 'aacc');\n",
    "model.sol('sol2').feature('t1').feature('fc1').set('aaccdim', 5);\n",
    "model.sol('sol2').feature('t1').feature('fc1').set('aaccmix', 0.9);\n",
    "model.sol('sol2').feature('t1').feature('fc1').set('aaccdelay', 1);\n",
    "model.sol('sol2').feature('t1').feature('fc1').set('ntolfact', 0.5);\n",
    "model.sol('sol2').feature('t1').feature('fc1').set('maxiter', 8);\n",
    "model.sol('sol2').feature('t1').create('d1', 'Direct');\n",
    "model.sol('sol2').feature('t1').feature('d1').set('linsolver', 'pardiso');\n",
    "model.sol('sol2').feature('t1').feature('d1').set('pivotperturb', 1.0E-13);\n",
    "model.sol('sol2').feature('t1').feature('d1').label('Direct, fluid flow variables (spf)');\n",
    "model.sol('sol2').feature('t1').create('i1', 'Iterative');\n",
    "model.sol('sol2').feature('t1').feature('i1').set('linsolver', 'gmres');\n",
    "model.sol('sol2').feature('t1').feature('i1').set('prefuntype', 'left');\n",
    "model.sol('sol2').feature('t1').feature('i1').set('itrestart', 50);\n",
    "model.sol('sol2').feature('t1').feature('i1').set('rhob', 20);\n",
    "model.sol('sol2').feature('t1').feature('i1').set('maxlinit', 50);\n",
    "model.sol('sol2').feature('t1').feature('i1').set('nlinnormuse', 'on');\n",
    "model.sol('sol2').feature('t1').feature('i1').label('AMG, fluid flow variables (spf)');\n",
    "model.sol('sol2').feature('t1').feature('i1').create('mg1', 'Multigrid');\n",
    "model.sol('sol2').feature('t1').feature('i1').feature('mg1').set('prefun', 'saamg');\n",
    "model.sol('sol2').feature('t1').feature('i1').feature('mg1').set('mgcycle', 'v');\n",
    "model.sol('sol2').feature('t1').feature('i1').feature('mg1').set('maxcoarsedof', 80000);\n",
    "model.sol('sol2').feature('t1').feature('i1').feature('mg1').set('strconn', 0.02);\n",
    "model.sol('sol2').feature('t1').feature('i1').feature('mg1').set('usesmooth', false);\n",
    "model.sol('sol2').feature('t1').feature('i1').feature('mg1').set('saamgcompwise', true);\n",
    "model.sol('sol2').feature('t1').feature('i1').feature('mg1').feature('pr').create('sc1', 'SCGS');\n",
    "model.sol('sol2').feature('t1').feature('i1').feature('mg1').feature('pr').feature('sc1').set('linesweeptype', 'ssor');\n",
    "model.sol('sol2').feature('t1').feature('i1').feature('mg1').feature('pr').feature('sc1').set('iter', 0);\n",
    "model.sol('sol2').feature('t1').feature('i1').feature('mg1').feature('pr').feature('sc1').set('scgsrelax', 0.7);\n",
    "model.sol('sol2').feature('t1').feature('i1').feature('mg1').feature('pr').feature('sc1').set('scgsmethod', 'lines_vertices');\n",
    "model.sol('sol2').feature('t1').feature('i1').feature('mg1').feature('pr').feature('sc1').set('scgsvertexrelax', 0.7);\n",
    "model.sol('sol2').feature('t1').feature('i1').feature('mg1').feature('pr').feature('sc1').set('seconditer', 1);\n",
    "model.sol('sol2').feature('t1').feature('i1').feature('mg1').feature('pr').feature('sc1').set('relax', 0.5);\n",
    "model.sol('sol2').feature('t1').feature('i1').feature('mg1').feature('po').create('sc1', 'SCGS');\n",
    "model.sol('sol2').feature('t1').feature('i1').feature('mg1').feature('po').feature('sc1').set('linesweeptype', 'ssor');\n",
    "model.sol('sol2').feature('t1').feature('i1').feature('mg1').feature('po').feature('sc1').set('iter', 1);\n",
    "model.sol('sol2').feature('t1').feature('i1').feature('mg1').feature('po').feature('sc1').set('scgsrelax', 0.7);\n",
    "model.sol('sol2').feature('t1').feature('i1').feature('mg1').feature('po').feature('sc1').set('scgsmethod', 'lines_vertices');\n",
    "model.sol('sol2').feature('t1').feature('i1').feature('mg1').feature('po').feature('sc1').set('scgsvertexrelax', 0.7);\n",
    "model.sol('sol2').feature('t1').feature('i1').feature('mg1').feature('po').feature('sc1').set('seconditer', 1);\n",
    "model.sol('sol2').feature('t1').feature('i1').feature('mg1').feature('po').feature('sc1').set('relax', 0.5);\n",
    "model.sol('sol2').feature('t1').feature('i1').feature('mg1').feature('cs').create('d1', 'Direct');\n",
    "model.sol('sol2').feature('t1').feature('i1').feature('mg1').feature('cs').feature('d1').set('linsolver', 'pardiso');\n",
    "model.sol('sol2').feature('t1').feature('i1').feature('mg1').feature('cs').feature('d1').set('pivotperturb', 1.0E-13);\n",
    "model.sol('sol2').feature('t1').feature('fc1').set('linsolver', 'd1');\n",
    "model.sol('sol2').feature('t1').feature('fc1').set('jtech', 'once');\n",
    "model.sol('sol2').feature('t1').feature('fc1').set('damp', 0.9);\n",
    "model.sol('sol2').feature('t1').feature('fc1').set('stabacc', 'aacc');\n",
    "model.sol('sol2').feature('t1').feature('fc1').set('aaccdim', 5);\n",
    "model.sol('sol2').feature('t1').feature('fc1').set('aaccmix', 0.9);\n",
    "model.sol('sol2').feature('t1').feature('fc1').set('aaccdelay', 1);\n",
    "model.sol('sol2').feature('t1').feature('fc1').set('ntolfact', 0.5);\n",
    "model.sol('sol2').feature('t1').feature('fc1').set('maxiter', 8);\n",
    "model.sol('sol2').feature('t1').feature.remove('fcDef');\n",
    "model.sol('sol2').attach('std2');\n",
    "model.result.dataset('dset2').set('geom', 'geom1');"
   ]
  },
  {
   "cell_type": "code",
   "execution_count": null,
   "metadata": {},
   "outputs": [],
   "source": [
    "if 0\n",
    "model.result.create('pg1', 'PlotGroup2D');\n",
    "model.result('pg1').label('Velocity (spf)');\n",
    "model.result('pg1').set('frametype', 'spatial');\n",
    "model.result('pg1').set('data', 'dset2');\n",
    "model.result('pg1').feature.create('surf1', 'Surface');\n",
    "model.result('pg1').feature('surf1').label('Surface');\n",
    "model.result('pg1').feature('surf1').set('smooth', 'internal');\n",
    "model.result('pg1').feature('surf1').set('data', 'parent');\n",
    "model.result.create('pg2', 'PlotGroup2D');\n",
    "model.result('pg2').label('Pressure (spf)');\n",
    "model.result('pg2').set('frametype', 'spatial');\n",
    "model.result('pg2').set('data', 'dset2');\n",
    "model.result('pg2').feature.create('con1', 'Contour');\n",
    "model.result('pg2').feature('con1').label('Contour');\n",
    "model.result('pg2').feature('con1').set('expr', 'p');\n",
    "model.result('pg2').feature('con1').set('number', 40);\n",
    "model.result('pg2').feature('con1').set('levelrounding', false);\n",
    "model.result('pg2').feature('con1').set('smooth', 'internal');\n",
    "model.result('pg2').feature('con1').set('data', 'parent');\n",
    "end"
   ]
  },
  {
   "cell_type": "code",
   "execution_count": 43,
   "metadata": {},
   "outputs": [
    {
     "name": "stdout",
     "output_type": "stream",
     "text": [
      "Total elapsed time = 196.036 s.\n"
     ]
    }
   ],
   "source": [
    "telap = toc(tcomp);\n",
    "% model.sol('sol1').runAll;\n",
    "model.sol('sol2').runAll;\n",
    "telap = toc(tcomp) - telap;\n",
    "fprintf('Total elapsed time = %.3f s.\\n',telap)"
   ]
  },
  {
   "cell_type": "code",
   "execution_count": 68,
   "metadata": {},
   "outputs": [],
   "source": [
    "t = [[0:0.1:.9]*sb.T_viv(150), [1:1/2^6:2^4]*sb.T_viv(150)]';"
   ]
  },
  {
   "cell_type": "code",
   "execution_count": 148,
   "metadata": {},
   "outputs": [],
   "source": [
    "for ii=1:3\n",
    "s_box = ['box',num2str(ii)];\n",
    "y(1+(ii-1)*3,:) = mphint2(model, ...\n",
    "    '-spf.T_stressx / (1/2*spf.rho)','line','selection',s_box, 'dataset','dset2') / ((sb.U_in^2) * sb.D);\n",
    "y(2+(ii-1)*3,:) = mphint2(model, ...\n",
    "    '-spf.T_stressy / (1/2*spf.rho)','line','selection',s_box, 'dataset','dset2') / ((sb.U_in^2) * sb.D);\n",
    "y(3+(ii-1)*3,:) = mphint2(model, ...\n",
    "    '(-spf.T_stressx*y + -spf.T_stressy*-x) / (1/2*spf.rho)','line','selection',s_box, ...\n",
    "    'dataset','dset2') / ((sb.U_in^2) * sb.D);\n",
    "end"
   ]
  },
  {
   "cell_type": "code",
   "execution_count": 82,
   "metadata": {},
   "outputs": [
    {
     "name": "stdout",
     "output_type": "stream",
     "text": [
      "\n",
      "d_t =\n",
      "\n",
      "    0.1906\n",
      "\n",
      "\n",
      "ans =\n",
      "\n",
      "   3.1377e-15\n",
      "\n"
     ]
    }
   ],
   "source": [
    "n_t = floor(length(t)/2);\n",
    "lc = n_t:n_t*2;\n",
    "tn = t(lc);\n",
    "d_t = mean(diff(tn))\n",
    "std(diff(tn))"
   ]
  },
  {
   "cell_type": "code",
   "execution_count": 149,
   "metadata": {},
   "outputs": [],
   "source": [
    "d_f = 1/n_t/d_t;\n",
    "n_f = floor(n_t/2+1);\n",
    "f = [0:n_f-1]*d_f;\n",
    "yf = fft(y(:,lc)');"
   ]
  },
  {
   "cell_type": "code",
   "execution_count": 150,
   "metadata": {},
   "outputs": [],
   "source": [
    "lc_fN_m = output(@() max(abs(yf(2:end,:))), 2)+1;"
   ]
  },
  {
   "cell_type": "code",
   "execution_count": 151,
   "metadata": {},
   "outputs": [
    {
     "name": "stdout",
     "output_type": "stream",
     "text": [
      "\n",
      "ans =\n",
      "\n",
      "  Columns 1 through 7\n",
      "\n",
      "    1.0514   -0.2418    0.0558         0         0         0         0\n",
      "    1.2206   -0.2494    0.0044    1.4405   -0.2741    0.0103   -0.2199\n",
      "    1.2206   -0.2494    0.0044    1.4405   -0.2741    0.0103   -0.2199\n",
      "\n",
      "  Columns 8 through 12\n",
      "\n",
      "         0         0         0         0         0\n",
      "    0.0247   -0.0059    0.1185    0.1185    0.1185\n",
      "    0.0247   -0.0059    0.1185    0.1185    0.1185\n",
      "\n"
     ]
    }
   ],
   "source": [
    "sb.res(3,1:9) = mean(y(:,lc)');\n",
    "sb.res(3,10) = f(lc_fN_m(2))*sb.D/sb.U(150);\n",
    "sb.res(3,11) = f(lc_fN_m(5))*sb.D/sb.U(150);\n",
    "sb.res(3,12) = f(lc_fN_m(8))*sb.D/sb.U(150);\n",
    "sb.res"
   ]
  },
  {
   "cell_type": "code",
   "execution_count": 136,
   "metadata": {},
   "outputs": [
    {
     "data": {
      "image/png": "[encoded data removed]",
      "text/plain": [
       "<IPython.core.display.Image object>"
      ]
     },
     "metadata": {},
     "output_type": "display_data"
    }
   ],
   "source": [
    "id_pause = true;\n",
    "figure(1)\n",
    "clf\n",
    "for jj=[2,3,1]\n",
    "for ii = 1:3\n",
    "subplot(1,3,ii)\n",
    "% plot(t*f(lc_fN_m(ii+(jj-1)*3)),y(ii+(jj-1)*3,:),'Color',rgb('Navy'))\n",
    "if jj == 1\n",
    "    plot(t*f(lc_fN_m(ii+(jj-1)*3)),y(ii+(jj-1)*3,:),'Color',rgb('Navy'))\n",
    "else\n",
    "    plot(t*f(lc_fN_m(ii+(jj-1)*3)),y(ii+(jj-1)*3,:))\n",
    "end\n",
    "if id_pause\n",
    "xlabel('Time [s]')\n",
    "end\n",
    "end\n",
    "if id_pause\n",
    "gcfG;gcfH;gcfLFont;gcfS;%gcfP\n",
    "ylabel('$\\mathrm{C_D}$')\n",
    "% gcfX([1,2^4]*sb.T_viv(150)*f(lc_fN_m(2)))\n",
    "gcfX([2^3,2^4]*sb.T_viv(150)*f(lc_fN_m(2)))\n",
    "% end\n",
    "% if id_pause\n",
    "id_pause = false;\n",
    "for ii = 1:3\n",
    "subplot(1,3,ii)\n",
    "yl = ylim;\n",
    "plot([1 1]*tn(1)*f(lc_fN_m(ii+(jj-1)*3)), yl, 'r:')\n",
    "% ylim(yl)\n",
    "end\n",
    "end\n",
    "end"
   ]
  },
  {
   "cell_type": "code",
   "execution_count": 138,
   "metadata": {},
   "outputs": [
    {
     "data": {
      "image/png": "[encoded data removed]",
      "text/plain": [
       "<IPython.core.display.Image object>"
      ]
     },
     "metadata": {},
     "output_type": "display_data"
    }
   ],
   "source": [
    "id_pause = true;\n",
    "figure(2)\n",
    "clf\n",
    "for jj=[2,3,1]\n",
    "for ii = 1:3\n",
    "subplot(1,3,ii)\n",
    "% plot(t*f(lc_fN_m(ii+(jj-1)*3)),y(ii+(jj-1)*3,:),'Color',rgb('Navy'))\n",
    "if jj == 1\n",
    "    loglog(f/f(lc_fN_m(ii+(jj-1)*3)),abs(yf(1:n_f,ii+(jj-1)*3) ),'Color',rgb('Navy'))\n",
    "else\n",
    "    loglog(f/f(lc_fN_m(ii+(jj-1)*3)),abs(yf(1:n_f,ii+(jj-1)*3) ))\n",
    "end\n",
    "if id_pause\n",
    "xlabel('Frequency [Hz]')\n",
    "end\n",
    "end\n",
    "if id_pause\n",
    "gcfG;gcfH;gcfLFont;gcfS;%gcfP\n",
    "ylabel('$\\mathrm{C_D}$')\n",
    "% gcfX([1,2^4]*sb.T_viv(150)*f(lc_fN_m(2)))\n",
    "% gcfX([2^3,2^4]*sb.T_viv(150)*f(lc_fN_m(2)))\n",
    "% end\n",
    "% if id_pause\n",
    "id_pause = false;\n",
    "for ii = 1:3\n",
    "subplot(1,3,ii)\n",
    "loglog(f(lc_fN_m(ii+(jj-1)*3))/f(lc_fN_m(ii+(jj-1)*3)), ...\n",
    "    abs(yf(lc_fN_m(ii+(jj-1)*3),ii+(jj-1)*3)),'ro','MarkerSize',6-3)\n",
    "end\n",
    "end\n",
    "end"
   ]
  },
  {
   "cell_type": "code",
   "execution_count": 143,
   "metadata": {},
   "outputs": [],
   "source": [
    "mphsave(model,sprintf('rib_upper_laminarT_Re%d',sb.Re))\n",
    "save(sprintf('rib_upper_laminarT_Re%d',sb.Re),'sb')"
   ]
  },
  {
   "cell_type": "code",
   "execution_count": 2,
   "metadata": {},
   "outputs": [
    {
     "name": "stdout",
     "output_type": "stream",
     "text": [
      "No comsol mphserver running or already connected!\n",
      "\n",
      "sb = \n",
      "\n",
      "  struct with fields:\n",
      "\n",
      "    scale: 62.5000\n",
      "        B: 0.1336\n",
      "        D: 0.0400\n",
      "\n",
      "\n",
      "ans =\n",
      "\n",
      "    0.0548\n",
      "\n",
      "\n",
      "ans =\n",
      "\n",
      "   12.1977\n",
      "\n",
      "Target Reynolds number = 1.095291e+05.\n",
      "Total elapsed time = 3.669 s.\n",
      "1.051423, -0.241753, 0.055838\n",
      "Total elapsed time = 197.324 s.\n",
      "\n",
      "d_t =\n",
      "\n",
      "    0.1906\n",
      "\n",
      "\n",
      "ans =\n",
      "\n",
      "   3.1377e-15\n",
      "\n",
      "\n",
      "ans =\n",
      "\n",
      "  Columns 1 through 7\n",
      "\n",
      "    1.0514   -0.2418    0.0558         0         0         0         0\n",
      "    1.2206   -0.2494    0.0044    1.4405   -0.2741    0.0103   -0.2199\n",
      "\n",
      "  Columns 8 through 12\n",
      "\n",
      "         0         0         0         0         0\n",
      "    0.0247   -0.0059    0.1185    0.1185    0.1185\n",
      "\n"
     ]
    },
    {
     "name": "stderr",
     "output_type": "stream",
     "text": [
      "\u001b[0;31mError using rib_laminar_200917 (line 908)\n",
      "Java exception occurred: \n",
      "Exception:\n",
      "\tcom.comsol.util.exceptions.FlException: Unknown solution\n",
      "Messages:\n",
      "\tUnknown solution.\n",
      "\t- Tag: sol3\n",
      "\n",
      "Stack trace:\n",
      "\tat com.comsol.model.dbmodel.ModelEntityListDb.findObject(SourceFile:365)\n",
      "\tat com.comsol.model.dbmodel.ModelEntityDb.a(SourceFile:595)\n",
      "\tat com.comsol.model.dbmodel.ModelDb.sol(SourceFile:1720)\n",
      "\tat sun.reflect.GeneratedMethodAccessor44.invoke(Unknown Source)\n",
      "\tat sun.reflect.DelegatingMethodAccessorImpl.invoke(DelegatingMethodAccessorImpl.java:43)\n",
      "\tat java.lang.reflect.Method.invoke(Method.java:498)\n",
      "\tat com.comsol.bridge.command.b.a(SourceFile:145)\n",
      "\tat com.comsol.bridge.command.b.run(SourceFile:90)\n",
      "\tat com.comsol.bridge.command.i.execute(SourceFile:46)\n",
      "\tat com.comsol.bridge.command.j.d(SourceFile:719)\n",
      "\tat com.comsol.bridge.command.j.a(SourceFile:707)\n",
      "\tat com.comsol.bridge.command.j$3.a(SourceFile:608)\n",
      "\tat com.comsol.bridge.command.j$3.call(SourceFile:1)\n",
      "\tat java.util.concurrent.FutureTask.run(FutureTask.java:266)\n",
      "\tat java\u001b[0m\u001b[0;31m.util.concurrent.ThreadPoolExecutor.runWorker(ThreadPoolExecutor.java:1149)\n",
      "\tat java.util.concurrent.ThreadPoolExecutor$Worker.run(ThreadPoolExecutor.java:624)\n",
      "\tat java.lang.Thread.run(Thread.java:748)\n",
      "\n",
      "\u001b[0m"
     ]
    },
    {
     "data": {
      "image/png": "[encoded data removed]",
      "text/plain": [
       "<IPython.core.display.Image object>"
      ]
     },
     "metadata": {},
     "output_type": "display_data"
    },
    {
     "data": {
      "image/png": "[encoded data removed]",
      "text/plain": [
       "<IPython.core.display.Image object>"
      ]
     },
     "metadata": {},
     "output_type": "display_data"
    }
   ],
   "source": [
    "[model,sb] = rib_laminar_200917;\n",
    "% model = mphload('rib_upper_laminarT_Re150n.mph');"
   ]
  },
  {
   "cell_type": "code",
   "execution_count": null,
   "metadata": {
    "lines_to_next_cell": 2
   },
   "outputs": [],
   "source": [
    "% init: Physics \n",
    "%   991      195.32     0.20997     2018  995 2018     2     0      0  3.8e-14  6.4e-16\n",
    "% Time-stepping completed.\n",
    "% Solution time: 198 s. (3 minutes, 18 seconds)\n",
    "% Physical memory: 2.13 GB\n",
    "% Virtual memory: 8.94 GB\n",
    "% Ended at Sep 17, 2020 3:04:35 PM.\n",
    "% ----- Time-Dependent Solver 1 in Study 2/Solution 2 (sol2) -------------------->\n",
    "\n",
    "% init: from stationary\n",
    "%  991      195.32     0.20997     2018  995 2018     2     0      0  3.4e-15  5.7e-16\n",
    "% Time-stepping completed.\n",
    "% Solution time: 203 s. (3 minutes, 23 seconds)\n",
    "% Physical memory: 4.09 GB\n",
    "% Virtual memory: 10.91 GB\n",
    "% Ended at Sep 17, 2020 3:11:58 PM.\n",
    "% ----- Time-Dependent Solver 1 in Study 2/Solution 2 (sol2) -------------------->"
   ]
  },
  {
   "cell_type": "markdown",
   "metadata": {},
   "source": [
    "# Laminar: Transient: Velocity iteration"
   ]
  },
  {
   "cell_type": "code",
   "execution_count": 152,
   "metadata": {
    "lines_to_next_cell": 2
   },
   "outputs": [],
   "source": [
    "model.param.set('seo_U_in', '0.05[m/s]');\n",
    "model.component('comp1').physics('spf').feature('inl1').set('U0in', 'seo_U_in');\n",
    "\n",
    "model.study.create('std3');\n",
    "model.study('std3').create('time', 'Transient');\n",
    "model.study('std3').feature('time').activate('spf', true);\n",
    "model.study('std3').feature('time').set('tlist', 'range(0,0.1,.9)*1.22e+01 range(1,1/2^6,2^4)*1.22e+01');\n",
    "\n",
    "model.study('std3').feature('time').set('useinitsol', true);\n",
    "model.study('std3').feature('time').set('initstudy', 'std2');\n",
    "model.study('std3').feature('time').set('usesol', true);\n",
    "model.study('std3').feature('time').set('notstudy', 'std2');\n",
    "model.study('std3').feature('time').set('useparam', true);\n",
    "model.study('std3').feature('time').setIndex('pname', 'seo_U_in', 0);\n",
    "model.study('std3').feature('time').setIndex('plistarr', '', 0);\n",
    "model.study('std3').feature('time').setIndex('punit', 'm/s', 0);\n",
    "model.study('std3').feature('time').setIndex('pname', 'seo_U_in', 0);\n",
    "model.study('std3').feature('time').setIndex('plistarr', '', 0);\n",
    "model.study('std3').feature('time').setIndex('punit', 'm/s', 0);\n",
    "model.study('std3').feature('time').setIndex('plistarr', '0.1 0.2', 0);"
   ]
  },
  {
   "cell_type": "code",
   "execution_count": null,
   "metadata": {
    "lines_to_next_cell": 2
   },
   "outputs": [],
   "source": [
    "model.sol('sol3').create('st1', 'StudyStep');\n",
    "model.sol('sol3').feature('st1').set('study', 'std3');\n",
    "model.sol('sol3').feature('st1').set('studystep', 'time');\n",
    "model.sol('sol3').create('v1', 'Variables');\n",
    "model.sol('sol3').feature('v1').set('control', 'time');\n",
    "model.sol('sol3').create('t1', 'Time');\n",
    "model.sol('sol3').feature('t1').set('tlist', 'range(0,0.1,.9)*1.22e+01 range(1,1/2^6,2^4)*1.22e+01');\n",
    "model.sol('sol3').feature('t1').set('plot', 'off');\n",
    "model.sol('sol3').feature('t1').set('plotgroup', 'pg1');\n",
    "model.sol('sol3').feature('t1').set('plotfreq', 'tout');\n",
    "model.sol('sol3').feature('t1').set('probesel', 'all');\n",
    "model.sol('sol3').feature('t1').set('probes', {});\n",
    "model.sol('sol3').feature('t1').set('probefreq', 'tsteps');\n",
    "model.sol('sol3').feature('t1').set('rtol', 0.005);\n",
    "model.sol('sol3').feature('t1').set('atolglobalmethod', 'scaled');\n",
    "model.sol('sol3').feature('t1').set('atolglobalfactor', 0.05);\n",
    "model.sol('sol3').feature('t1').set('atolglobalvaluemethod', 'factor');\n",
    "model.sol('sol3').feature('t1').set('atolmethod', {'comp1_p' 'scaled' 'comp1_u' 'global'});\n",
    "model.sol('sol3').feature('t1').set('atolvaluemethod', {'comp1_p' 'factor' 'comp1_u' 'factor'});\n",
    "model.sol('sol3').feature('t1').set('atolfactor', {'comp1_p' '1' 'comp1_u' '0.1'});\n",
    "model.sol('sol3').feature('t1').set('estrat', 'exclude');\n",
    "model.sol('sol3').feature('t1').set('rhoinf', 0.5);\n",
    "model.sol('sol3').feature('t1').set('predictor', 'constant');\n",
    "model.sol('sol3').feature('t1').set('maxorder', 2);\n",
    "model.sol('sol3').feature('t1').set('stabcntrl', true);\n",
    "model.sol('sol3').feature('t1').set('bwinitstepfrac', '0.01');\n",
    "model.sol('sol3').feature('t1').create('tp1', 'TimeParametric');\n",
    "model.sol('sol3').feature('t1').feature.remove('tpDef');\n",
    "model.sol('sol3').feature('t1').feature('tp1').set('control', 'time');\n",
    "model.sol('sol3').feature('t1').set('control', 'time');\n",
    "model.sol('sol3').feature('t1').feature('aDef').set('cachepattern', true);\n",
    "model.sol('sol3').feature('t1').create('fc1', 'FullyCoupled');\n",
    "model.sol('sol3').feature('t1').feature('fc1').set('jtech', 'once');\n",
    "model.sol('sol3').feature('t1').feature('fc1').set('damp', 0.9);\n",
    "model.sol('sol3').feature('t1').feature('fc1').set('stabacc', 'aacc');\n",
    "model.sol('sol3').feature('t1').feature('fc1').set('aaccdim', 5);\n",
    "model.sol('sol3').feature('t1').feature('fc1').set('aaccmix', 0.9);\n",
    "model.sol('sol3').feature('t1').feature('fc1').set('aaccdelay', 1);\n",
    "model.sol('sol3').feature('t1').feature('fc1').set('ntolfact', 0.5);\n",
    "model.sol('sol3').feature('t1').feature('fc1').set('maxiter', 8);\n",
    "model.sol('sol3').feature('t1').create('d1', 'Direct');\n",
    "model.sol('sol3').feature('t1').feature('d1').set('linsolver', 'pardiso');\n",
    "model.sol('sol3').feature('t1').feature('d1').set('pivotperturb', 1.0E-13);\n",
    "model.sol('sol3').feature('t1').feature('d1').label('Direct, fluid flow variables (spf)');\n",
    "model.sol('sol3').feature('t1').create('i1', 'Iterative');\n",
    "model.sol('sol3').feature('t1').feature('i1').set('linsolver', 'gmres');\n",
    "model.sol('sol3').feature('t1').feature('i1').set('prefuntype', 'left');\n",
    "model.sol('sol3').feature('t1').feature('i1').set('itrestart', 50);\n",
    "model.sol('sol3').feature('t1').feature('i1').set('rhob', 20);\n",
    "model.sol('sol3').feature('t1').feature('i1').set('maxlinit', 50);\n",
    "model.sol('sol3').feature('t1').feature('i1').set('nlinnormuse', 'on');\n",
    "model.sol('sol3').feature('t1').feature('i1').label('AMG, fluid flow variables (spf)');\n",
    "model.sol('sol3').feature('t1').feature('i1').create('mg1', 'Multigrid');\n",
    "model.sol('sol3').feature('t1').feature('i1').feature('mg1').set('prefun', 'saamg');\n",
    "model.sol('sol3').feature('t1').feature('i1').feature('mg1').set('mgcycle', 'v');\n",
    "model.sol('sol3').feature('t1').feature('i1').feature('mg1').set('maxcoarsedof', 80000);\n",
    "model.sol('sol3').feature('t1').feature('i1').feature('mg1').set('strconn', 0.02);\n",
    "model.sol('sol3').feature('t1').feature('i1').feature('mg1').set('usesmooth', false);\n",
    "model.sol('sol3').feature('t1').feature('i1').feature('mg1').set('saamgcompwise', true);\n",
    "model.sol('sol3').feature('t1').feature('i1').feature('mg1').feature('pr').create('sc1', 'SCGS');\n",
    "model.sol('sol3').feature('t1').feature('i1').feature('mg1').feature('pr').feature('sc1').set('linesweeptype', 'ssor');\n",
    "model.sol('sol3').feature('t1').feature('i1').feature('mg1').feature('pr').feature('sc1').set('iter', 0);\n",
    "model.sol('sol3').feature('t1').feature('i1').feature('mg1').feature('pr').feature('sc1').set('scgsrelax', 0.7);\n",
    "model.sol('sol3').feature('t1').feature('i1').feature('mg1').feature('pr').feature('sc1').set('scgsmethod', 'lines_vertices');\n",
    "model.sol('sol3').feature('t1').feature('i1').feature('mg1').feature('pr').feature('sc1').set('scgsvertexrelax', 0.7);\n",
    "model.sol('sol3').feature('t1').feature('i1').feature('mg1').feature('pr').feature('sc1').set('seconditer', 1);\n",
    "model.sol('sol3').feature('t1').feature('i1').feature('mg1').feature('pr').feature('sc1').set('relax', 0.5);\n",
    "model.sol('sol3').feature('t1').feature('i1').feature('mg1').feature('po').create('sc1', 'SCGS');\n",
    "model.sol('sol3').feature('t1').feature('i1').feature('mg1').feature('po').feature('sc1').set('linesweeptype', 'ssor');\n",
    "model.sol('sol3').feature('t1').feature('i1').feature('mg1').feature('po').feature('sc1').set('iter', 1);\n",
    "model.sol('sol3').feature('t1').feature('i1').feature('mg1').feature('po').feature('sc1').set('scgsrelax', 0.7);\n",
    "model.sol('sol3').feature('t1').feature('i1').feature('mg1').feature('po').feature('sc1').set('scgsmethod', 'lines_vertices');\n",
    "model.sol('sol3').feature('t1').feature('i1').feature('mg1').feature('po').feature('sc1').set('scgsvertexrelax', 0.7);\n",
    "model.sol('sol3').feature('t1').feature('i1').feature('mg1').feature('po').feature('sc1').set('seconditer', 1);\n",
    "model.sol('sol3').feature('t1').feature('i1').feature('mg1').feature('po').feature('sc1').set('relax', 0.5);\n",
    "model.sol('sol3').feature('t1').feature('i1').feature('mg1').feature('cs').create('d1', 'Direct');\n",
    "model.sol('sol3').feature('t1').feature('i1').feature('mg1').feature('cs').feature('d1').set('linsolver', 'pardiso');\n",
    "model.sol('sol3').feature('t1').feature('i1').feature('mg1').feature('cs').feature('d1').set('pivotperturb', 1.0E-13);\n",
    "model.sol('sol3').feature('t1').feature('fc1').set('linsolver', 'd1');\n",
    "model.sol('sol3').feature('t1').feature('fc1').set('jtech', 'once');\n",
    "model.sol('sol3').feature('t1').feature('fc1').set('damp', 0.9);\n",
    "model.sol('sol3').feature('t1').feature('fc1').set('stabacc', 'aacc');\n",
    "model.sol('sol3').feature('t1').feature('fc1').set('aaccdim', 5);\n",
    "model.sol('sol3').feature('t1').feature('fc1').set('aaccmix', 0.9);\n",
    "model.sol('sol3').feature('t1').feature('fc1').set('aaccdelay', 1);\n",
    "model.sol('sol3').feature('t1').feature('fc1').set('ntolfact', 0.5);\n",
    "model.sol('sol3').feature('t1').feature('fc1').set('maxiter', 8);\n",
    "model.sol('sol3').feature('t1').feature.remove('fcDef');\n",
    "model.sol('sol3').attach('std3');"
   ]
  },
  {
   "cell_type": "code",
   "execution_count": 153,
   "metadata": {},
   "outputs": [],
   "source": [
    "mphsave(model,sprintf('rib_upper_laminarTa_Re%d',sb.Re))\n",
    "save(sprintf('rib_upper_laminarTa_Re%d',sb.Re),'sb')"
   ]
  },
  {
   "cell_type": "markdown",
   "metadata": {},
   "source": [
    "# FINE"
   ]
  }
 ],
 "metadata": {
  "jupytext": {
   "encoding": "% -*- coding: utf-8 -*-",
   "formats": "ipynb,m:percent"
  },
  "kernelspec": {
   "display_name": "Matlab",
   "language": "matlab",
   "name": "matlab"
  },
  "language_info": {
   "codemirror_mode": "octave",
   "file_extension": ".m",
   "help_links": [
    {
     "text": "MetaKernel Magics",
     "url": "https://metakernel.readthedocs.io/en/latest/source/README.html"
    }
   ],
   "mimetype": "text/x-octave",
   "name": "matlab",
   "version": "0.16.7"
  },
  "toc": {
   "base_numbering": 1,
   "nav_menu": {},
   "number_sections": true,
   "sideBar": true,
   "skip_h1_title": false,
   "title_cell": "Table of Contents",
   "title_sidebar": "Contents",
   "toc_cell": false,
   "toc_position": {
    "height": "calc(100% - 180px)",
    "left": "10px",
    "top": "150px",
    "width": "419.867px"
   },
   "toc_section_display": true,
   "toc_window_display": true
  }
 },
 "nbformat": 4,
 "nbformat_minor": 4
}
