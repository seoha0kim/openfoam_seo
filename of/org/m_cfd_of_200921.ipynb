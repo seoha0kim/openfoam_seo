{
 "cells": [
  {
   "cell_type": "markdown",
   "metadata": {},
   "source": [
    "# m_cfd_of"
   ]
  },
  {
   "cell_type": "markdown",
   "metadata": {},
   "source": [
    "Saang Bum Kim <br>\n",
    "2020-09-21 08:30:46 "
   ]
  },
  {
   "cell_type": "code",
   "execution_count": null,
   "metadata": {},
   "outputs": [],
   "source": [
    "%\n",
    "%%  PART 0.     Opening\n",
    "%\n",
    "fclose all; close all\n",
    "clc\n",
    "clear all\n",
    "tcomp = tic;\n",
    "telap = toc(tcomp);\n",
    "\n",
    "s_dir = 'git/openfoam_seo/of/org/Mauritius';\n",
    "\n",
    "seo_init\n",
    "\n",
    "id_f = 1;\n",
    "% id_sv = true;\n",
    "id_sv = false;\n",
    "% id_pl = true;\n",
    "id_pl = false;\n",
    "\n",
    "% id_jupyter = false;\n",
    "id_jupyter = true;"
   ]
  },
  {
   "cell_type": "code",
   "execution_count": 1,
   "metadata": {},
   "outputs": [
    {
     "name": "stdout",
     "output_type": "stream",
     "text": [
      "No port asigned (no p_comsol) !\n",
      "No comsol mphserver running or already connected!\n"
     ]
    }
   ],
   "source": [
    "clear seo"
   ]
  },
  {
   "cell_type": "markdown",
   "metadata": {},
   "source": [
    "# Pre Process"
   ]
  },
  {
   "cell_type": "code",
   "execution_count": 2,
   "metadata": {},
   "outputs": [],
   "source": [
    "s_angle_p = {'00','02','m2','04','m4','06','m6'};\n",
    "angle_p   = [  0 ,  2 , -2 ,  4 , -4 ,  6 , -6];"
   ]
  },
  {
   "cell_type": "code",
   "execution_count": 4,
   "metadata": {},
   "outputs": [],
   "source": [
    "id_angle = 5;"
   ]
  },
  {
   "cell_type": "code",
   "execution_count": 7,
   "metadata": {},
   "outputs": [
    {
     "name": "stdout",
     "output_type": "stream",
     "text": [
      "Angle of attack: 4\n",
      "s_angle =\n",
      "\n",
      "  1x1 cell array\n",
      "\n",
      "    {'m4'}\n",
      "\n"
     ]
    }
   ],
   "source": [
    "al = -angle_p(id_angle)*pi/180;\n",
    "fprintf('Angle of attack: %d',(al*180/pi))\n",
    "s_angle = s_angle_p(id_angle)"
   ]
  },
  {
   "cell_type": "markdown",
   "metadata": {},
   "source": [
    "## from CSL: YJN2, rib"
   ]
  },
  {
   "cell_type": "code",
   "execution_count": 1,
   "metadata": {},
   "outputs": [],
   "source": [
    "cd ~/Work/git/openfoam_seo/wtt/yjn2/"
   ]
  },
  {
   "cell_type": "code",
   "execution_count": 2,
   "metadata": {},
   "outputs": [],
   "source": [
    "load rib_upper_laminarTa_Re150.mat"
   ]
  },
  {
   "cell_type": "code",
   "execution_count": 3,
   "metadata": {},
   "outputs": [
    {
     "name": "stderr",
     "output_type": "stream",
     "text": [
      "\u001b[0;31mError using eval\n",
      "Unrecognized function or variable 'mphload'.\n",
      "\n",
      "\u001b[0m"
     ]
    }
   ],
   "source": [
    "model = mphload('rib_upper_laminar_Re150.mph')"
   ]
  },
  {
   "cell_type": "code",
   "execution_count": 4,
   "metadata": {},
   "outputs": [
    {
     "name": "stderr",
     "output_type": "stream",
     "text": [
      "\u001b[0;31mError using eval\n",
      "Unrecognized function or variable 'model'.\n",
      "\n",
      "\u001b[0m"
     ]
    }
   ],
   "source": [
    "% mphmesh(model)\n",
    "% x = model.mesh(\"mesh1\").getVertex();"
   ]
  },
  {
   "cell_type": "code",
   "execution_count": 6,
   "metadata": {},
   "outputs": [
    {
     "name": "stderr",
     "output_type": "stream",
     "text": [
      "\u001b[0;31mError using eval\n",
      "Unrecognized function or variable 'model'.\n",
      "\n",
      "\u001b[0m"
     ]
    }
   ],
   "source": [
    "[meshstats,meshdata] = mphmeshstats(model);"
   ]
  },
  {
   "cell_type": "code",
   "execution_count": 8,
   "metadata": {},
   "outputs": [
    {
     "name": "stderr",
     "output_type": "stream",
     "text": [
      "\u001b[0;31mError using eval\n",
      "Unrecognized function or variable 'model'.\n",
      "\n",
      "\u001b[0m"
     ]
    }
   ],
   "source": [
    "c_box1 = mpheval(model,'X','selection','box1')\n",
    "c_box2 = mpheval(model,'X','selection','box2')\n",
    "c_box3 = mpheval(model,'X','selection','box3')"
   ]
  },
  {
   "cell_type": "code",
   "execution_count": null,
   "metadata": {},
   "outputs": [],
   "source": [
    "% save imsi200921 x meshdata c_box1 c_box2 c_box3"
   ]
  },
  {
   "cell_type": "code",
   "execution_count": 9,
   "metadata": {},
   "outputs": [
    {
     "name": "stdout",
     "output_type": "stream",
     "text": [
      "  Name          Size               Bytes  Class     Attributes\n",
      "\n",
      "  c_box1        1x1                10868  struct              \n",
      "  c_box2        1x1                 6044  struct              \n",
      "  c_box3        1x1                 6044  struct              \n",
      "  meshdata      1x1               432478  struct              \n",
      "  x             2x9868            157888  double              \n",
      "\n"
     ]
    }
   ],
   "source": [
    "whos -file imsi200921 \n",
    "load imsi200921 "
   ]
  },
  {
   "cell_type": "code",
   "execution_count": 11,
   "metadata": {},
   "outputs": [
    {
     "name": "stdout",
     "output_type": "stream",
     "text": [
      "\n",
      "c_box1 = \n",
      "\n",
      "  struct with fields:\n",
      "\n",
      "    expr: {'X'}\n",
      "      d1: [1x268 double]\n",
      "       p: [2x268 double]\n",
      "       t: [2x268 int32]\n",
      "      ve: [268x1 int32]\n",
      "    unit: {'m'}\n",
      "\n",
      "\n",
      "ans =\n",
      "\n",
      "   -0.0668   -0.0668   -0.0405\n",
      "\n",
      "\n",
      "ans =\n",
      "\n",
      "   -0.0668   -0.0668   -0.0405\n",
      "    0.0004   -0.0000   -0.0036\n",
      "\n",
      "\n",
      "ans =\n",
      "\n",
      "  2x3 int32 matrix\n",
      "\n",
      "   0   2   4\n",
      "   1   3   2\n",
      "\n",
      "\n",
      "ans =\n",
      "\n",
      "  3x1 int32 column vector\n",
      "\n",
      "   1\n",
      "   1\n",
      "   2\n",
      "\n"
     ]
    }
   ],
   "source": [
    "c_box1\n",
    "c_box1.d1(1:3)\n",
    "c_box1.p(:,1:3)\n",
    "c_box1.t(:,1:3)\n",
    "c_box1.ve(1:3,:)"
   ]
  },
  {
   "cell_type": "code",
   "execution_count": 16,
   "metadata": {},
   "outputs": [
    {
     "data": {
      "image/png": "[encoded data removed]",
      "text/plain": [
       "<IPython.core.display.Image object>"
      ]
     },
     "metadata": {},
     "output_type": "display_data"
    },
    {
     "data": {
      "image/png": "[encoded data removed]",
      "text/plain": [
       "<IPython.core.display.Image object>"
      ]
     },
     "metadata": {},
     "output_type": "display_data"
    }
   ],
   "source": [
    "id_pause = true;\n",
    "figure(1)\n",
    "for ii=1:size(c_box2.t,2)\n",
    "    id = c_box2.t(:,ii)+1;\n",
    "    x_id = c_box2.p(:,id);\n",
    "% plot(c_box1.p(1,ii),c_box1.p(2,ii),'o','MarkerSize',6-4)\n",
    "plot(x_id(1,:),x_id(2,:),'-o','MarkerSize',6-4,'Color',rgb('Navy'))\n",
    "    if id_pause\n",
    "        gcfG;gcfH;gcfLFont;gcfS;%gcfP\n",
    "        id_pause = false;\n",
    "    end\n",
    "end\n",
    "figure(2)\n",
    "plot(c_box2.ve)"
   ]
  },
  {
   "cell_type": "code",
   "execution_count": null,
   "metadata": {},
   "outputs": [],
   "source": [
    "fid = fopen(sprintf('blockMeshDict_%s.foam',datestr(now,'yymmdd')),'w+');\n",
    "f_bl.write('#\\n')\n",
    "f_bl.write('#   d_openFoam\\n')\n",
    "f_bl.write('#   Author: Saang Bum Kim, sbkim1601@gmail.com\\n')\n",
    "f_bl.write('#   Date  : 2017-08-25T16:55:40+09:00\\n')\n",
    "f_bl.write('#\\n')\n",
    "\n",
    "for ii=1:size(meshdata.vertex,2)\n",
    "    meshdata.vertex\n",
    "    fprintf(fid,'',meshdata.vertex(:,ii))\n",
    "end"
   ]
  },
  {
   "cell_type": "markdown",
   "metadata": {},
   "source": [
    "# Main Process"
   ]
  },
  {
   "cell_type": "markdown",
   "metadata": {},
   "source": [
    "# Post Process"
   ]
  },
  {
   "cell_type": "markdown",
   "metadata": {},
   "source": [
    "# FINE"
   ]
  }
 ],
 "metadata": {
  "jupytext": {
   "formats": "ipynb,m:percent"
  },
  "kernelspec": {
   "display_name": "Matlab",
   "language": "matlab",
   "name": "matlab"
  },
  "language_info": {
   "codemirror_mode": "octave",
   "file_extension": ".m",
   "help_links": [
    {
     "text": "MetaKernel Magics",
     "url": "https://metakernel.readthedocs.io/en/latest/source/README.html"
    }
   ],
   "mimetype": "text/x-octave",
   "name": "matlab",
   "version": "0.16.7"
  },
  "toc": {
   "base_numbering": 1,
   "nav_menu": {},
   "number_sections": true,
   "sideBar": true,
   "skip_h1_title": false,
   "title_cell": "Table of Contents",
   "title_sidebar": "Contents",
   "toc_cell": false,
   "toc_position": {
    "height": "calc(100% - 180px)",
    "left": "10px",
    "top": "150px",
    "width": "165px"
   },
   "toc_section_display": true,
   "toc_window_display": true
  }
 },
 "nbformat": 4,
 "nbformat_minor": 4
}
