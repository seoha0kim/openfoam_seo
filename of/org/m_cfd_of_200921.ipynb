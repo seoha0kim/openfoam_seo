{
 "cells": [
  {
   "cell_type": "markdown",
   "metadata": {},
   "source": [
    "# m_cfd_of"
   ]
  },
  {
   "cell_type": "markdown",
   "metadata": {},
   "source": [
    "Saang Bum Kim <br>\n",
    "2020-09-21 08:30:46 "
   ]
  },
  {
   "cell_type": "code",
   "execution_count": 1,
   "metadata": {},
   "outputs": [
    {
     "name": "stdout",
     "output_type": "stream",
     "text": [
      "No port asigned (no p_comsol) !\n",
      "No comsol mphserver running or already connected!\n"
     ]
    }
   ],
   "source": [
    "%\n",
    "%%  PART 0.     Opening\n",
    "%\n",
    "fclose all; close all\n",
    "clc\n",
    "clear all\n",
    "tcomp = tic;\n",
    "telap = toc(tcomp);\n",
    "\n",
    "s_dir = 'git/openfoam_seo/of/org/Mauritius';\n",
    "\n",
    "seo_init\n",
    "\n",
    "id_f = 1;\n",
    "% id_sv = true;\n",
    "id_sv = false;\n",
    "% id_pl = true;\n",
    "id_pl = false;\n",
    "\n",
    "% id_jupyter = false;\n",
    "id_jupyter = true;\n",
    "\n",
    "% %%\n",
    "clear seo"
   ]
  },
  {
   "cell_type": "markdown",
   "metadata": {},
   "source": [
    "# Pre Process"
   ]
  },
  {
   "cell_type": "code",
   "execution_count": 2,
   "metadata": {},
   "outputs": [],
   "source": [
    "s_angle_p = {'00','02','m2','04','m4','06','m6'};\n",
    "angle_p   = [  0 ,  2 , -2 ,  4 , -4 ,  6 , -6];"
   ]
  },
  {
   "cell_type": "code",
   "execution_count": 4,
   "metadata": {},
   "outputs": [],
   "source": [
    "id_angle = 5;"
   ]
  },
  {
   "cell_type": "code",
   "execution_count": 7,
   "metadata": {},
   "outputs": [
    {
     "name": "stdout",
     "output_type": "stream",
     "text": [
      "Angle of attack: 4\n",
      "s_angle =\n",
      "\n",
      "  1x1 cell array\n",
      "\n",
      "    {'m4'}\n",
      "\n"
     ]
    }
   ],
   "source": [
    "al = -angle_p(id_angle)*pi/180;\n",
    "fprintf('Angle of attack: %d',(al*180/pi))\n",
    "s_angle = s_angle_p(id_angle)"
   ]
  },
  {
   "cell_type": "markdown",
   "metadata": {},
   "source": [
    "# Main Process"
   ]
  },
  {
   "cell_type": "markdown",
   "metadata": {},
   "source": [
    "# Post Process"
   ]
  },
  {
   "cell_type": "markdown",
   "metadata": {},
   "source": [
    "# FINE"
   ]
  }
 ],
 "metadata": {
  "jupytext": {
   "formats": "ipynb,m:percent"
  },
  "kernelspec": {
   "display_name": "Matlab",
   "language": "matlab",
   "name": "matlab"
  },
  "language_info": {
   "codemirror_mode": "octave",
   "file_extension": ".m",
   "help_links": [
    {
     "text": "MetaKernel Magics",
     "url": "https://metakernel.readthedocs.io/en/latest/source/README.html"
    }
   ],
   "mimetype": "text/x-octave",
   "name": "matlab",
   "version": "0.16.7"
  },
  "toc": {
   "base_numbering": 1,
   "nav_menu": {},
   "number_sections": true,
   "sideBar": true,
   "skip_h1_title": false,
   "title_cell": "Table of Contents",
   "title_sidebar": "Contents",
   "toc_cell": false,
   "toc_position": {
    "height": "calc(100% - 180px)",
    "left": "10px",
    "top": "150px",
    "width": "419.867px"
   },
   "toc_section_display": true,
   "toc_window_display": true
  }
 },
 "nbformat": 4,
 "nbformat_minor": 4
}
