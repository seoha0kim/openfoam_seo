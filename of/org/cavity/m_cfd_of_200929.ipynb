{
 "cells": [
  {
   "cell_type": "markdown",
   "metadata": {},
   "source": [
    "# m_cfd_of"
   ]
  },
  {
   "cell_type": "markdown",
   "metadata": {},
   "source": [
    "Saang Bum Kim <br>\n",
    "2020-09-21 08:30:46"
   ]
  },
  {
   "cell_type": "code",
   "execution_count": null,
   "metadata": {},
   "outputs": [],
   "source": [
    "%\n",
    "%%  PART 0.     Opening\n",
    "%\n",
    "fclose all; close all\n",
    "clc\n",
    "clear all\n",
    "tcomp = tic;\n",
    "telap = toc(tcomp);\n",
    "\n",
    "s_dir = 'git/openfoam_seo/of/org/cavity/';\n",
    "% s_dir = 'git/openfoam_seo/wtt/jbk/';\n",
    "\n",
    "seo_init\n",
    "\n",
    "id_f = 1;\n",
    "% id_sv = true;\n",
    "id_sv = false;\n",
    "% id_pl = true;\n",
    "id_pl = false;\n",
    "\n",
    "% id_jupyter = false;\n",
    "id_jupyter = true;"
   ]
  },
  {
   "cell_type": "code",
   "execution_count": null,
   "metadata": {},
   "outputs": [],
   "source": [
    "clear sb"
   ]
  },
  {
   "cell_type": "markdown",
   "metadata": {},
   "source": [
    "# Pre Process"
   ]
  },
  {
   "cell_type": "markdown",
   "metadata": {},
   "source": [
    "## from CSL: rid"
   ]
  },
  {
   "cell_type": "code",
   "execution_count": null,
   "metadata": {},
   "outputs": [],
   "source": [
    "% cd ~/Work/git/openfoam_seo/wtt/jbk/"
   ]
  },
  {
   "cell_type": "code",
   "execution_count": null,
   "metadata": {},
   "outputs": [],
   "source": [
    "% model = mphload('cavity_01.mph')\n",
    "model = mphload('cavity_02.mph')"
   ]
  },
  {
   "cell_type": "code",
   "execution_count": null,
   "metadata": {},
   "outputs": [],
   "source": [
    "% mphmesh(model)\n",
    "% x = model.mesh(\"mesh1\").getVertex();"
   ]
  },
  {
   "cell_type": "code",
   "execution_count": null,
   "metadata": {},
   "outputs": [],
   "source": [
    "[meshstats,meshdata] = mphmeshstats(model);"
   ]
  },
  {
   "cell_type": "markdown",
   "metadata": {},
   "source": [
    "### sb"
   ]
  },
  {
   "cell_type": "code",
   "execution_count": null,
   "metadata": {},
   "outputs": [],
   "source": [
    "sb.v.n = size(meshdata.vertex,2);\n",
    "sb.v.x = meshdata.vertex;\n",
    "sb.v.xn = [[sb.v.x;zeros(1,sb.v.n)],[sb.v.x;ones(1,sb.v.n)]];\n",
    "sb.b4.n = size(meshdata.elem{2},2);\n",
    "sb.b4.id = meshdata.elem{2}+1;\n",
    "sb.b3.n = size(meshdata.elem{3},2);\n",
    "sb.b3.id = meshdata.elem{3}+1;"
   ]
  },
  {
   "cell_type": "code",
   "execution_count": null,
   "metadata": {},
   "outputs": [],
   "source": [
    "sb.box_ids = model.selection.tags();\n",
    "sb.box_n = length(sb.box_ids);\n",
    "% for ii=1:7\n",
    "% for ii=[1 4:7]\n",
    "for ii=1:sb.box_n\n",
    "    % sb.box(ii) = mpheval(model,'X','selection',sprintf('box%d',ii));\n",
    "    sb.box(ii) = mpheval(model,'X','selection',sb.box_ids(ii));\n",
    "end"
   ]
  },
  {
   "cell_type": "code",
   "execution_count": null,
   "metadata": {},
   "outputs": [],
   "source": [
    "% for ii=1:7\n",
    "% for ii=[1 4:7]\n",
    "for ii=1:sb.box_n\n",
    "    % ii = 1;\n",
    "    sb.box(ii).n = size(sb.box(ii).t,2);\n",
    "    for jj = 1:size(sb.box(ii).p,2)\n",
    "        % jj = 1;\n",
    "        x_ii = sb.box(ii).p(:,jj);\n",
    "        lc1 = find(sb.v.x(1,:) == x_ii(1));\n",
    "        lc2 = find(sb.v.x(2,lc1) == x_ii(2));\n",
    "        lc = lc1(lc2);\n",
    "        sb.box(ii).id(jj) = lc;\n",
    "        if any(size(lc) ~= [1,1])\n",
    "            fprintf('Error: %d %d', ii, jj)\n",
    "        end\n",
    "    end\n",
    "    for jj = 1:sb.box(ii).n\n",
    "        sb.box(ii).lc(:,jj) = sb.box(ii).id( sb.box(ii).t(:,jj)+1 );\n",
    "    end\n",
    "end"
   ]
  },
  {
   "cell_type": "code",
   "execution_count": null,
   "metadata": {},
   "outputs": [],
   "source": [
    "% save imsi_tower_200923 meshdata sb\n",
    "% save res_cfd_200930 meshdata sb"
   ]
  },
  {
   "cell_type": "markdown",
   "metadata": {},
   "source": [
    "### data load"
   ]
  },
  {
   "cell_type": "code",
   "execution_count": 1,
   "metadata": {},
   "outputs": [],
   "source": [
    "% whos -file imsi_tower_200923\n",
    "% load imsi_tower_200923\n",
    "% eval(sprintf('whos -file res_cfd_%s', datestr(now(),'yymmdd')))\n",
    "% load(sprintf('res_cfd_%s', datestr(now(),'yymmdd')))\n",
    "load res_cfd_200930 meshdata sb"
   ]
  },
  {
   "cell_type": "code",
   "execution_count": null,
   "metadata": {},
   "outputs": [],
   "source": [
    "% meshdata"
   ]
  },
  {
   "cell_type": "code",
   "execution_count": 2,
   "metadata": {},
   "outputs": [
    {
     "data": {
      "image/png": "[encoded data removed]",
      "text/plain": [
       "<IPython.core.display.Image object>"
      ]
     },
     "metadata": {},
     "output_type": "display_data"
    }
   ],
   "source": [
    "% if id_pl\n",
    "if 1\n",
    "lc = meshdata.elem{find(cellfun(@(x) strcmpi(x,'vtx'), meshdata.types))}+1;\n",
    "id_pause = true;\n",
    "figure(1)\n",
    "for ii=1:length(lc)-1\n",
    "    plot(meshdata.vertex(1,lc(ii+[0,1])),meshdata.vertex(2,lc(ii+[0,1])), ...\n",
    "        'o-','Color',rgb('Navy'),'MarkerSize',6-3)\n",
    "    if id_pause\n",
    "        gcfG;gcfH;gcfLFont;gcfS;%gcfP\n",
    "        id_pause = false;\n",
    "    end\n",
    "end\n",
    "end"
   ]
  },
  {
   "cell_type": "code",
   "execution_count": null,
   "metadata": {},
   "outputs": [],
   "source": [
    "if id_pl\n",
    "sb.box(1)\n",
    "sb.box(1).d1(1:3)\n",
    "sb.box(1).p(:,1:3)\n",
    "sb.box(1).t(:,1:3)\n",
    "sb.box(1).ve(1:3,:)\n",
    "end"
   ]
  },
  {
   "cell_type": "markdown",
   "metadata": {},
   "source": [
    "### c_box"
   ]
  },
  {
   "cell_type": "code",
   "execution_count": 13,
   "metadata": {},
   "outputs": [
    {
     "data": {
      "image/png": "[encoded data removed]",
      "text/plain": [
       "<IPython.core.display.Image object>"
      ]
     },
     "metadata": {},
     "output_type": "display_data"
    }
   ],
   "source": [
    "% if id_pl\n",
    "if 1\n",
    "id_pause = true;\n",
    "figure(1)\n",
    "clf\n",
    "for jj=1:sb.box_n\n",
    "for ii=1:size(sb.box(jj).t,2)\n",
    "%     id = sb.box(jj).t(:,ii)+1;\n",
    "%     x_id = sb.box(jj).p(:,id);\n",
    "\n",
    "x_id = sb.v.x(:,sb.box(jj).lc(:,ii));    \n",
    "\n",
    "% plot(sb.box(1).p(1,ii),sb.box(1).p(2,ii),'o','MarkerSize',6-4)\n",
    "plot(x_id(1,:),x_id(2,:),'-o','MarkerSize',6-4,'Color',rgb('Navy'))\n",
    "    if id_pause\n",
    "        gcfG;gcfH;gcfLFont;gcfS;%gcfP\n",
    "        id_pause = false;\n",
    "    end\n",
    "\n",
    "map({mean(x_id')}, {@(x) text(x(1),x(2),sprintf('%d',ii))})\n",
    "\n",
    "x1 = x_id(:,1)';\n",
    "x2 = x_id(:,2)';\n",
    "xm = mean(x_id');\n",
    "x1m = (x1+xm)/2;\n",
    "x2m = (x2+xm)/2;\n",
    "text(x1m(1),x1m(2),sprintf('%d',1),'FontSize',9,'Color',rgb('Crimson'))\n",
    "text(x2m(1),x2m(2),sprintf('%d',2),'FontSize',9,'Color',rgb('Crimson'))\n",
    "\n",
    "end\n",
    "end\n",
    "end\n",
    "% figure(2)\n",
    "% plot(sb.box(2).ve)\n",
    "% if 0\n",
    "if 1\n",
    "jj = 3;\n",
    "for ii=1:size(sb.box(jj).t,2)\n",
    "    id = sb.box(jj).t(:,ii)+1;\n",
    "    x_id = sb.box(jj).p(:,id);\n",
    "% plot(sb.box(1).p(1,ii),sb.box(1).p(2,ii),'o','MarkerSize',6-4)\n",
    "plot(x_id(1,:),x_id(2,:),'-s','MarkerSize',6-4,'Color',rgb('Orange'))\n",
    "    if id_pause\n",
    "        gcfG;gcfH;gcfLFont;gcfS;%gcfP\n",
    "        id_pause = false;\n",
    "    end\n",
    "x_id = sb.v.x(:,sb.box(jj).lc(:,ii));    \n",
    "plot(x_id(1,:),x_id(2,:),'-d','MarkerSize',6-1,'Color',rgb('Crimson'))    \n",
    "end\n",
    "end"
   ]
  },
  {
   "cell_type": "markdown",
   "metadata": {},
   "source": [
    "### triangular"
   ]
  },
  {
   "cell_type": "code",
   "execution_count": null,
   "metadata": {},
   "outputs": [],
   "source": [
    "if id_pl\n",
    "i_34 = 'b3';\n",
    "% i_34 = 'b4';\n",
    "id_pause = true;\n",
    "figure(1)\n",
    "clf\n",
    "for ii=1:sb.(i_34).n\n",
    "% for ii=1:2^0\n",
    "% for ii=1:2^2\n",
    "% for ii=1:2^4\n",
    "    plot(sb.v.x(1,sb.(i_34).id(:,ii)), sb.v.x(2,sb.(i_34).id(:,ii)), '-o', 'MarkerSize', 6-3)\n",
    "    for jj=1:length(sb.(i_34).id(:,ii))\n",
    "        text(sb.v.x(1,sb.(i_34).id(jj,ii)), sb.v.x(2,sb.(i_34).id(jj,ii)), sprintf('%d',jj))\n",
    "    end\n",
    "    if id_pause\n",
    "        gcfG;gcfH;gcfLFont;gcfS;%gcfP\n",
    "        id_pause = false;\n",
    "    end\n",
    "end\n",
    "end"
   ]
  },
  {
   "cell_type": "markdown",
   "metadata": {},
   "source": [
    "### quad"
   ]
  },
  {
   "cell_type": "code",
   "execution_count": null,
   "metadata": {},
   "outputs": [],
   "source": [
    "if id_pl\n",
    "% i_34 = 'b3';\n",
    "i_34 = 'b4';\n",
    "id_pause = true;\n",
    "figure(1)\n",
    "clf\n",
    "% for ii=1:sb.(i_34).n\n",
    "% for ii=1:2^0\n",
    "for ii=1:2^2\n",
    "% for ii=1:2^4\n",
    "    plot(sb.v.x(1,sb.(i_34).id(:,ii)), sb.v.x(2,sb.(i_34).id(:,ii)), '-o', 'MarkerSize', 6-3)\n",
    "    for jj=1:length(sb.(i_34).id(:,ii))\n",
    "        text(sb.v.x(1,sb.(i_34).id(jj,ii)), sb.v.x(2,sb.(i_34).id(jj,ii)), sprintf('%d',jj))\n",
    "    end\n",
    "    if id_pause\n",
    "        gcfG;gcfH;gcfLFont;gcfS;%gcfP\n",
    "        id_pause = false;\n",
    "    end\n",
    "end\n",
    "end"
   ]
  },
  {
   "cell_type": "markdown",
   "metadata": {},
   "source": [
    "### Whole"
   ]
  },
  {
   "cell_type": "code",
   "execution_count": null,
   "metadata": {},
   "outputs": [],
   "source": [
    "if id_pl\n",
    "% i_34 = 'b3';\n",
    "i_34 = 'b4';\n",
    "id_pause = true;\n",
    "figure(1)\n",
    "clf\n",
    "for ii=1:sb.(i_34).n\n",
    "% for ii=1:2^0\n",
    "% for ii=1:2^2\n",
    "% for ii=1:2^10\n",
    "    plot(sb.v.x(1,sb.(i_34).id(:,ii)), sb.v.x(2,sb.(i_34).id(:,ii)), '-o', 'MarkerSize', 6-3)\n",
    "    for jj=1:length(sb.(i_34).id(:,ii))\n",
    "        text(sb.v.x(1,sb.(i_34).id(jj,ii)), sb.v.x(2,sb.(i_34).id(jj,ii)), sprintf('%d',jj))\n",
    "    end\n",
    "    if id_pause\n",
    "        gcfG;gcfH;gcfLFont;gcfS;%gcfP\n",
    "        id_pause = false;\n",
    "    end\n",
    "end\n",
    "i_34 = 'b3';\n",
    "% for ii=1:2^2\n",
    "for ii=1:2^8\n",
    "    plot(sb.v.x(1,sb.(i_34).id(:,ii)), sb.v.x(2,sb.(i_34).id(:,ii)), '-o', 'MarkerSize', 6-3)\n",
    "    for jj=1:length(sb.(i_34).id(:,ii))\n",
    "        text(sb.v.x(1,sb.(i_34).id(jj,ii)), sb.v.x(2,sb.(i_34).id(jj,ii)), sprintf('%d',jj))\n",
    "    end\n",
    "%     if id_pause\n",
    "%         gcfG;gcfH;gcfLFont;gcfS;%gcfP\n",
    "%         id_pause = false;\n",
    "%     end\n",
    "end\n",
    "end"
   ]
  },
  {
   "cell_type": "markdown",
   "metadata": {},
   "source": [
    "### openFoam"
   ]
  },
  {
   "cell_type": "code",
   "execution_count": 14,
   "metadata": {},
   "outputs": [],
   "source": [
    "fid = fopen(sprintf('blockMeshDict_cfd_s%s.foam',datestr(now,'yymmdd')),'w+');\n",
    "\n",
    "fprintf(fid,'/*--------------------------------*- C++ -*----------------------------------*\\\\\\n');\n",
    "fprintf(fid,'| =========                 |                                                 |\\n');\n",
    "fprintf(fid,'| \\\\\\\\      /  F ield         | OpenFOAM: The Open Source CFD Toolbox           |\\n');\n",
    "fprintf(fid,'|   \\\\\\\\  /    O peration     | Web:      https://www.OpenFOAM.org              |\\n');\n",
    "fprintf(fid,'|  \\\\\\\\    /   A nd           | Version:  8                                     |\\n');\n",
    "fprintf(fid,'|    \\\\\\\\/     M anipulation  |                                                 |\\n');\n",
    "fprintf(fid,'\\\\*---------------------------------------------------------------------------*/\\n');\n",
    "fprintf(fid,'FoamFile\\n');\n",
    "fprintf(fid,'{\\n');\n",
    "fprintf(fid,'    version     2.0;\\n');\n",
    "fprintf(fid,'    format      ascii;\\n');\n",
    "fprintf(fid,'    class       dictionary;\\n');\n",
    "fprintf(fid,'    object      blockMeshDict;\\n');\n",
    "fprintf(fid,'}\\n');\n",
    "fprintf(fid,'// * * * * * * * * * * * * * * * * * * * * * * * * * * * * * * * * * * * * * //\\n');\n",
    "fprintf(fid,'\\n');\n",
    "fprintf(fid,'convertToMeters 1;\\n');\n",
    "fprintf(fid,'\\n');\n",
    "fprintf(fid,'vertices\\n');\n",
    "fprintf(fid,'(\\n');\n",
    "\n",
    "for ii=1:size(meshdata.vertex,2)\n",
    "% for ii=1:2^4\n",
    "    fprintf(fid,'(%f %f 0)\\n',meshdata.vertex(:,ii) );\n",
    "    % fprintf(fid,'(%.56f %.56f)\\n',meshdata.vertex(:,ii) );\n",
    "end\n",
    "\n",
    "for ii=1:size(meshdata.vertex,2)\n",
    "% for ii=1:2^4\n",
    "    fprintf(fid,'(%f %f 1)\\n',meshdata.vertex(:,ii) );\n",
    "    % fprintf(fid,'(%.56f %.56f)\\n',meshdata.vertex(:,ii) );\n",
    "end\n",
    "\n",
    "% fprintf(fid,'vertices #codeStream\\n');\n",
    "% fprintf(fid,'{\\n');\n",
    "% fprintf(fid,'    codeInclude\\n');\n",
    "% fprintf(fid,'    #{\\n');\n",
    "% fprintf(fid,'        #include \"pointField.H\"\\n');\n",
    "% fprintf(fid,'    #};\\n');\n",
    "% fprintf(fid,'\\n');\n",
    "% fprintf(fid,'    code\\n');\n",
    "% fprintf(fid,'    #{\\n');\n",
    "% fprintf(fid,'        pointField points(%d);\\n'%int(np.shape(of_xyz)[1]/2));\n",
    "% % for ii in range(len(of_xyz[0])):\n",
    "% for ii in range(int(np.shape(of_xyz)[1]/2)):\n",
    "%     fprintf(fid,'        points[%d] = point(%f, %f, %f);\\n'%(ii,of_xyz[0][ii],of_xyz[1][ii],of_xyz[2][ii]));\n",
    "% fprintf(fid,'\\n');\n",
    "% fprintf(fid,'        // Duplicate z points\\n');\n",
    "% fprintf(fid,'        label sz = points.size();\\n');\n",
    "% fprintf(fid,'        points.setSize(2*sz);\\n');\n",
    "% fprintf(fid,'        for (label i = 0; i < sz; i++)\\n');\n",
    "% fprintf(fid,'        {\\n');\n",
    "% fprintf(fid,'            const point& pt = points[i];\\n');\n",
    "% fprintf(fid,'            points[i+sz] = point(pt.x(), pt.y(), -pt.z());\\n');\n",
    "% % fprintf(fid,'            points[i+sz] = point(pt.x(), pt.y(), 1);\\n');\n",
    "% fprintf(fid,'        }\\n');\n",
    "% fprintf(fid,'\\n');\n",
    "% fprintf(fid,'        os << points;\\n');\n",
    "% fprintf(fid,'    #};\\n');\n",
    "% fprintf(fid,'};\\n');\n",
    "\n",
    "fprintf(fid,');\\n');\n",
    "fprintf(fid,'\\n');\n",
    "fprintf(fid,'blocks\\n');\n",
    "fprintf(fid,'(\\n');\n",
    "% fprintf(fid,'    hex (0 1 2 3 4 5 6 7) (20 20 1) simpleGrading (1 1 1)\\n');\n",
    "\n",
    "% if 0\n",
    "i_34 = 'b4';\n",
    "for ii=1:sb.(i_34).n\n",
    "    % ii = 1;\n",
    "    lc = sb.(i_34).id(:,ii);\n",
    "    % if 0\n",
    "    %     id_pause = true;\n",
    "    %     figure(1)\n",
    "    %     plot(sb.v.x(1,lc),sb.v.x(2,lc))\n",
    "    %     for jj=1:length(sb.(i_34).id(:,ii))\n",
    "    %         text(sb.v.x(1,sb.(i_34).id(jj,ii)), sb.v.x(2,sb.(i_34).id(jj,ii)), sprintf('%d',jj))\n",
    "    %     end\n",
    "    %     if id_pause\n",
    "    %         gcfG;gcfH;gcfLFont;gcfS;%gcfP\n",
    "    %         id_pause = false;\n",
    "    %     end\n",
    "    % end\n",
    "    % s_lc = [lc(1:2)+sb.v.n;lc([2,1]);lc(3:4)+sb.v.n;lc([4,3])];\n",
    "    s_lc = [lc(1) lc(1)+sb.v.n lc(2)+sb.v.n lc(2) lc(3) lc(3)+sb.v.n lc(4)+sb.v.n lc(4)];\n",
    "    fprintf(fid, '    hex (%d %d %d %d %d %d %d %d) (1 1 1) simpleGrading (1 1 1)\\n', s_lc-1);\n",
    "    % if 0\n",
    "    %     i_34 = 'b4';\n",
    "    %     ii = 1;\n",
    "    %     ii = 2;\n",
    "    %     ii = 4;\n",
    "    %     lc = sb.(i_34).id(:,ii);\n",
    "    %     s_lc = [lc(1) lc(1)+sb.v.n lc(2)+sb.v.n lc(2) lc(3) lc(3)+sb.v.n lc(4)+sb.v.n lc(4)];\n",
    "\n",
    "    %     id_pause = true;\n",
    "    %     figure(1)\n",
    "    %     % clf\n",
    "    %     plot3(sb.v.xn(1,s_lc),sb.v.xn(2,s_lc),sb.v.xn(3,s_lc),'-o', ...\n",
    "    %         'MarkerSize',6-3)\n",
    "    %         % 'MarkerSize',6-3,'Color',rgb('Navy'))\n",
    "    %     for jj=1:length(sb.(i_34).id(:,ii))\n",
    "    %         text(sb.v.x(1,sb.(i_34).id(jj,ii)), sb.v.x(2,sb.(i_34).id(jj,ii)), sprintf('%d',jj))\n",
    "    %     end\n",
    "    %     if id_pause\n",
    "    %         gcfG;gcfH;gcfLFont;gcfS;%gcfP\n",
    "    %         id_pause = false;\n",
    "    %     end\n",
    "    % end\n",
    "end\n",
    "% end\n",
    "i_34 = 'b3';\n",
    "for ii=1:sb.(i_34).n\n",
    "    lc = sb.(i_34).id(:,ii);\n",
    "    s_lc = [lc(1) lc(1)+sb.v.n lc(2)+sb.v.n lc(2) lc(3) lc(3)+sb.v.n lc(3)+sb.v.n lc(3)];\n",
    "    fprintf(fid, '    hex (%d %d %d %d %d %d %d %d) (1 1 1) simpleGrading (1 1 1)\\n', s_lc-1);\n",
    "end\n",
    "\n",
    "fprintf(fid,');\\n');\n",
    "fprintf(fid,'\\n');\n",
    "fprintf(fid,'edges\\n');\n",
    "fprintf(fid,'(\\n');\n",
    "fprintf(fid,');\\n');\n",
    "fprintf(fid,'\\n');\n",
    "fprintf(fid,'boundary\\n');\n",
    "fprintf(fid,'(\\n');\n",
    "fprintf(fid,'    movingWall\\n');\n",
    "% fprintf(fid,'    top\\n');\n",
    "fprintf(fid,'    {\\n');\n",
    "fprintf(fid,'        type wall;\\n');\n",
    "% fprintf(fid,'        type symmetryPlane;\\n');\n",
    "fprintf(fid,'        faces\\n');\n",
    "fprintf(fid,'        (\\n');\n",
    "% fprintf(fid,'            (3 7 6 2)\\n');\n",
    "% if 0\n",
    "%     id_pause = true;\n",
    "%     figure(1)\n",
    "%     clf\n",
    "%     for ii=1:size(sb.box(4).t,2)\n",
    "%         id = sb.box(4).t(:,ii)+1;\n",
    "%         x_id = sb.box(4).p(:,id);\n",
    "%     % plot(sb.box(1).p(1,ii),sb.box(1).p(2,ii),'o','MarkerSize',6-4)\n",
    "%     plot(x_id(1,:),x_id(2,:),'-o','MarkerSize',6-4,'Color',rgb('Navy'))\n",
    "%         if id_pause\n",
    "%             gcfG;gcfH;gcfLFont;gcfS;%gcfP\n",
    "%             id_pause = false;\n",
    "%         end\n",
    "%     end\n",
    "% end\n",
    "    % id_bd = 7;\n",
    "    id_bd = 4;\n",
    "    for ii=1:sb.box(id_bd).n\n",
    "        id = sb.box(id_bd).lc(:,ii);\n",
    "        ids = [id+sb.v.n;id([2,1])];\n",
    "        % x_id = sb.v.x(:,id);\n",
    "        fprintf(fid,'            (%d %d %d %d)\\n', ids-1 );\n",
    "    end\n",
    "fprintf(fid,'        );\\n');\n",
    "fprintf(fid,'    }\\n');\n",
    "\n",
    "if 1\n",
    "    fprintf(fid,'    fixedWalls\\n');\n",
    "    fprintf(fid,'    {\\n');\n",
    "    fprintf(fid,'        type wall;\\n');\n",
    "    % fprintf(fid,'        type symmetryPlane;\\n');\n",
    "    fprintf(fid,'        faces\\n');\n",
    "    fprintf(fid,'        (\\n');\n",
    "    % fprintf(fid,'            (1 5 4 0)\\n');\n",
    "        % for id_bd = 2:6\n",
    "        % for id_bd = [1 4 5 6]\n",
    "        % for id_bd = 1:4\n",
    "        for id_bd = [1 2 3 5 6 7 8]\n",
    "            for ii=1:sb.box(id_bd).n\n",
    "                id = sb.box(id_bd).lc(:,ii);\n",
    "                ids = [id+sb.v.n;id([2,1])];\n",
    "%                 ids = [id;id([2,1])+sb.v.n];\n",
    "                % x_id = sb.v.x(:,id);\n",
    "                fprintf(fid,'            (%d %d %d %d)\\n', ids-1 );\n",
    "            end\n",
    "        end\n",
    "        fprintf(fid,'        );\\n');\n",
    "        fprintf(fid,'    }\\n');\n",
    "else\n",
    "\n",
    "    fprintf(fid,'    bottom\\n');\n",
    "    fprintf(fid,'    {\\n');\n",
    "    fprintf(fid,'        type wall;\\n');\n",
    "    % fprintf(fid,'        type symmetryPlane;\\n');\n",
    "    fprintf(fid,'        faces\\n');\n",
    "    fprintf(fid,'        (\\n');\n",
    "    % fprintf(fid,'            (3 7 6 2)\\n');\n",
    "    % if 0\n",
    "    %     id_pause = true;\n",
    "    %     figure(1)\n",
    "    %     clf\n",
    "    %     for ii=1:size(sb.box(4).t,2)\n",
    "    %         id = sb.box(4).t(:,ii)+1;\n",
    "    %         x_id = sb.box(4).p(:,id);\n",
    "    %     % plot(sb.box(1).p(1,ii),sb.box(1).p(2,ii),'o','MarkerSize',6-4)\n",
    "    %     plot(x_id(1,:),x_id(2,:),'-o','MarkerSize',6-4,'Color',rgb('Navy'))\n",
    "    %         if id_pause\n",
    "    %             gcfG;gcfH;gcfLFont;gcfS;%gcfP\n",
    "    %             id_pause = false;\n",
    "    %         end\n",
    "    %     end\n",
    "    % end\n",
    "        id_bd = 6;\n",
    "        for ii=1:sb.box(id_bd).n\n",
    "            id = sb.box(id_bd).lc(:,ii);\n",
    "            ids = [id+sb.v.n;id([2,1])];\n",
    "            % x_id = sb.v.x(:,id);\n",
    "            fprintf(fid,'            (%d %d %d %d)\\n', ids-1 );\n",
    "        end\n",
    "    fprintf(fid,'        );\\n');\n",
    "    fprintf(fid,'    }\\n');\n",
    "\n",
    "    fprintf(fid,'    inlet\\n');\n",
    "    fprintf(fid,'    {\\n');\n",
    "    % fprintf(fid,'        type wall;\\n');\n",
    "    fprintf(fid,'        type patch;\\n');\n",
    "    fprintf(fid,'        faces\\n');\n",
    "    fprintf(fid,'        (\\n');\n",
    "    % fprintf(fid,'            (3 7 6 2)\\n');\n",
    "    % if 0\n",
    "    %     id_pause = true;\n",
    "    %     figure(1)\n",
    "    %     clf\n",
    "    %     for ii=1:size(sb.box(4).t,2)\n",
    "    %         id = sb.box(4).t(:,ii)+1;\n",
    "    %         x_id = sb.box(4).p(:,id);\n",
    "    %     % plot(sb.box(1).p(1,ii),sb.box(1).p(2,ii),'o','MarkerSize',6-4)\n",
    "    %     plot(x_id(1,:),x_id(2,:),'-o','MarkerSize',6-4,'Color',rgb('Navy'))\n",
    "    %         if id_pause\n",
    "    %             gcfG;gcfH;gcfLFont;gcfS;%gcfP\n",
    "    %             id_pause = false;\n",
    "    %         end\n",
    "    %     end\n",
    "    % end\n",
    "        id_bd = 4;\n",
    "        for ii=1:sb.box(id_bd).n\n",
    "            id = sb.box(id_bd).lc(:,ii);\n",
    "            ids = [id+sb.v.n;id([2,1])];\n",
    "            % x_id = sb.v.x(:,id);\n",
    "            fprintf(fid,'            (%d %d %d %d)\\n', ids-1 );\n",
    "        end\n",
    "    fprintf(fid,'        );\\n');\n",
    "    fprintf(fid,'    }\\n');\n",
    "\n",
    "    fprintf(fid,'    outlet\\n');\n",
    "    fprintf(fid,'    {\\n');\n",
    "    % fprintf(fid,'        type wall;\\n');\n",
    "    fprintf(fid,'        type patch;\\n');\n",
    "    fprintf(fid,'        faces\\n');\n",
    "    fprintf(fid,'        (\\n');\n",
    "    % fprintf(fid,'            (3 7 6 2)\\n');\n",
    "    % if 0\n",
    "    %     id_pause = true;\n",
    "    %     figure(1)\n",
    "    %     clf\n",
    "    %     for ii=1:size(sb.box(4).t,2)\n",
    "    %         id = sb.box(4).t(:,ii)+1;\n",
    "    %         x_id = sb.box(4).p(:,id);\n",
    "    %     % plot(sb.box(1).p(1,ii),sb.box(1).p(2,ii),'o','MarkerSize',6-4)\n",
    "    %     plot(x_id(1,:),x_id(2,:),'-o','MarkerSize',6-4,'Color',rgb('Navy'))\n",
    "    %         if id_pause\n",
    "    %             gcfG;gcfH;gcfLFont;gcfS;%gcfP\n",
    "    %             id_pause = false;\n",
    "    %         end\n",
    "    %     end\n",
    "    % end\n",
    "        id_bd = 5;\n",
    "        for ii=1:sb.box(id_bd).n\n",
    "            id = sb.box(id_bd).lc(:,ii);\n",
    "            ids = [id+sb.v.n;id([2,1])];\n",
    "            % x_id = sb.v.x(:,id);\n",
    "            fprintf(fid,'            (%d %d %d %d)\\n', ids-1 );\n",
    "        end\n",
    "    fprintf(fid,'        );\\n');\n",
    "    fprintf(fid,'    }\\n');\n",
    "\n",
    "    fprintf(fid,'    deck\\n');\n",
    "    fprintf(fid,'    {\\n');\n",
    "    fprintf(fid,'        type wall;\\n');\n",
    "    % fprintf(fid,'        type symmetryPlane;\\n');\n",
    "    fprintf(fid,'        faces\\n');\n",
    "    fprintf(fid,'        (\\n');\n",
    "    % fprintf(fid,'            (3 7 6 2)\\n');\n",
    "    % if 0\n",
    "    %     id_pause = true;\n",
    "    %     figure(1)\n",
    "    %     clf\n",
    "    %     for ii=1:size(sb.box(4).t,2)\n",
    "    %         id = sb.box(4).t(:,ii)+1;\n",
    "    %         x_id = sb.box(4).p(:,id);\n",
    "    %     % plot(sb.box(1).p(1,ii),sb.box(1).p(2,ii),'o','MarkerSize',6-4)\n",
    "    %     plot(x_id(1,:),x_id(2,:),'-o','MarkerSize',6-4,'Color',rgb('Navy'))\n",
    "    %         if id_pause\n",
    "    %             gcfG;gcfH;gcfLFont;gcfS;%gcfP\n",
    "    %             id_pause = false;\n",
    "    %         end\n",
    "    %     end\n",
    "    % end\n",
    "        id_bd = 1;\n",
    "        for ii=1:sb.box(id_bd).n\n",
    "            id = sb.box(id_bd).lc(:,ii);\n",
    "            ids = [id+sb.v.n;id([2,1])];\n",
    "            % x_id = sb.v.x(:,id);\n",
    "            fprintf(fid,'            (%d %d %d %d)\\n', ids-1 );\n",
    "        end\n",
    "    fprintf(fid,'        );\\n');\n",
    "    fprintf(fid,'    }\\n');\n",
    "end\n",
    "\n",
    "fprintf(fid,'    frontAndBack\\n');\n",
    "fprintf(fid,'    {\\n');\n",
    "fprintf(fid,'        type empty;\\n');\n",
    "fprintf(fid,'        faces\\n');\n",
    "fprintf(fid,'        (\\n');\n",
    "\n",
    "i_34 = 'b4';\n",
    "for ii=1:sb.(i_34).n\n",
    "    lc = sb.(i_34).id(:,ii)-1;\n",
    "    fprintf(fid,'            (%d %d %d %d)\\n', lc([2,1,3,4]) );\n",
    "    fprintf(fid,'            (%d %d %d %d)\\n', lc([1,2,4,3])+sb.v.n );\n",
    "end\n",
    "i_34 = 'b3';\n",
    "for ii=1:sb.(i_34).n\n",
    "    lc = sb.(i_34).id(:,ii)-1;\n",
    "    fprintf(fid,'            (%d %d %d %d)\\n', lc([2,1,3,3]) );\n",
    "    fprintf(fid,'            (%d %d %d %d)\\n', lc([1,2,3,3])+sb.v.n );\n",
    "end\n",
    "fprintf(fid,'        );\\n');\n",
    "fprintf(fid,'    }\\n');\n",
    "fprintf(fid,');\\n');\n",
    "fprintf(fid,'\\n');\n",
    "fprintf(fid,'mergePatchPairs\\n');\n",
    "fprintf(fid,'(\\n');\n",
    "fprintf(fid,');\\n');\n",
    "fprintf(fid,'\\n');\n",
    "fprintf(fid,'// ************************************************************************* //\\n');\n",
    "\n",
    "fclose(fid);"
   ]
  },
  {
   "cell_type": "markdown",
   "metadata": {},
   "source": [
    "### openFoam"
   ]
  },
  {
   "cell_type": "code",
   "execution_count": null,
   "metadata": {},
   "outputs": [],
   "source": [
    "% fid = fopen(sprintf('controlDict_rib_%s.foam',datestr(now,'yymmdd')),'w+');"
   ]
  },
  {
   "cell_type": "markdown",
   "metadata": {},
   "source": [
    "### openFoam"
   ]
  },
  {
   "cell_type": "code",
   "execution_count": null,
   "metadata": {},
   "outputs": [],
   "source": []
  },
  {
   "cell_type": "markdown",
   "metadata": {},
   "source": [
    "# Main Process"
   ]
  },
  {
   "cell_type": "markdown",
   "metadata": {},
   "source": [
    "# Post Process"
   ]
  },
  {
   "cell_type": "code",
   "execution_count": 6,
   "metadata": {},
   "outputs": [],
   "source": [
    "save(sprintf('res_cfd_%s', datestr(now(),'yymmdd')),'sb','meshdata')"
   ]
  },
  {
   "cell_type": "markdown",
   "metadata": {},
   "source": [
    "# FINE"
   ]
  }
 ],
 "metadata": {
  "jupytext": {
   "formats": "ipynb,m:percent"
  },
  "kernelspec": {
   "display_name": "Matlab",
   "language": "matlab",
   "name": "matlab"
  },
  "language_info": {
   "codemirror_mode": "octave",
   "file_extension": ".m",
   "help_links": [
    {
     "text": "MetaKernel Magics",
     "url": "https://metakernel.readthedocs.io/en/latest/source/README.html"
    }
   ],
   "mimetype": "text/x-octave",
   "name": "matlab",
   "version": "0.16.7"
  },
  "toc": {
   "base_numbering": 1,
   "nav_menu": {},
   "number_sections": true,
   "sideBar": true,
   "skip_h1_title": false,
   "title_cell": "Table of Contents",
   "title_sidebar": "Contents",
   "toc_cell": false,
   "toc_position": {},
   "toc_section_display": true,
   "toc_window_display": true
  }
 },
 "nbformat": 4,
 "nbformat_minor": 4
}
