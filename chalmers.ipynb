{
 "cells": [
  {
   "cell_type": "markdown",
   "metadata": {},
   "source": [
    "# source"
   ]
  },
  {
   "cell_type": "markdown",
   "metadata": {},
   "source": [
    "    cd /home/sbkim/Work/git\n",
    "    mkdir openfoam_seo\n",
    "    cd /home/sbkim\n",
    "    ln -s ~/Work/git/openfoam_seo OpenFOAM\n",
    "    cd ~/OpenFOAM"
   ]
  },
  {
   "cell_type": "markdown",
   "metadata": {},
   "source": [
    "    wget https://sourceforge.net/projects/openfoam/files/v1912/OpenFOAM-v1912.tgz\n",
    "    wget https://sourceforge.net/projects/openfoam/files/v1912/ThirdParty-v1912.tgz\n",
    "    tar xzf OpenFOAM-v1912.tgz\n",
    "    tar xzf ThirdParty-v1912.tgz\n",
    "    # rm OpenFOAM-v1912.tgz ThirdParty-v1912.tgz\n",
    "\n",
    "    # module load buildenv-intel/2018a-eb;\n",
    "    # export MPI_ROOT=$I_MPI_ROOT;\n",
    "    export FOAM_INST_DIR=/home/sbkim/OpenFOAM;\n",
    "    # echo $FOAM_INST_DIR\n",
    "\n",
    "    . $FOAM_INST_DIR/OpenFOAM-v1912/etc/bashrc\n",
    "\n",
    "    # WM_COMPILER=Icc\n",
    "    # WM_MPLIB=INTELMPI\n",
    "\n",
    "    # WM_COMPILER=Gcc\n",
    "\n",
    "    # cp ~/OpenFOAM/addToBashrc ~/OpenFOAM/addToBashrc_old\n",
    "    # echo \"\n",
    "    #     alias OFv1912='export MPI_ROOT=/software/sse/easybuild/prefix/software/impi/2018.1.163-iccifort-2018.1.163-GCC-6.4.0-2.28;\n",
    "    #     module load ParaView/5.4.1-nsc1-gcc-2018a-eb;\n",
    "    #     export FOAM_INST_DIR=~/OpenFOAM;\n",
    "    #     . $FOAM_INST_DIR/OpenFOAM-v1912/etc/bashrc\n",
    "    #     WM_COMPILER=Icc\n",
    "    #     WM_MPLIB=INTELMPI'\n",
    "    # \" >> ~/OpenFOAM/addToBashrc\n",
    "    foam\n",
    "\n",
    "    echo $WM_NCOMPPROCS\n",
    "\n",
    "    # ./Allwmake >& log.make&\n",
    "    ./Allwmake -j -s -q -l >& log.make&"
   ]
  },
  {
   "cell_type": "markdown",
   "metadata": {},
   "source": [
    "# docker"
   ]
  },
  {
   "cell_type": "markdown",
   "metadata": {},
   "source": [
    "## repository"
   ]
  },
  {
   "cell_type": "markdown",
   "metadata": {},
   "source": [
    "    sudo apt-get remove docker docker-engine docker.io containerd runc\n",
    "    sudo apt-get update\n",
    "    sudo apt-get install \\\n",
    "        apt-transport-https \\\n",
    "        ca-certificates \\\n",
    "        curl \\\n",
    "        gnupg-agent \\\n",
    "        software-properties-common\n",
    "    curl -fsSL https://download.docker.com/linux/ubuntu/gpg | sudo apt-key add -\n",
    "    sudo apt-key fingerprint 0EBFCD88\n",
    "    sudo add-apt-repository \\\n",
    "       \"deb [arch=amd64] https://download.docker.com/linux/ubuntu \\\n",
    "       $(lsb_release -cs) \\\n",
    "       stable\""
   ]
  },
  {
   "cell_type": "markdown",
   "metadata": {},
   "source": [
    "## engine"
   ]
  },
  {
   "cell_type": "markdown",
   "metadata": {},
   "source": [
    "    sudo apt-get update\n",
    "    sudo apt-get install docker-ce docker-ce-cli containerd.io"
   ]
  },
  {
   "cell_type": "markdown",
   "metadata": {},
   "source": [
    "## test"
   ]
  },
  {
   "cell_type": "markdown",
   "metadata": {},
   "source": [
    "    sudo docker run hello-world"
   ]
  },
  {
   "cell_type": "markdown",
   "metadata": {},
   "source": [
    "##"
   ]
  },
  {
   "cell_type": "markdown",
   "metadata": {},
   "source": [
    "    sudo groupadd docker\n",
    "    sudo usermod -aG docker $USER\n",
    "#    su -s ${USER}\n",
    "    newgrp docker"
   ]
  },
  {
   "cell_type": "markdown",
   "metadata": {},
   "source": [
    "    - containers\n",
    "        docker ps -a\n",
    "        docker rn id\n",
    "\n",
    "    -images\n",
    "        docker images -a\n",
    "        docker rmi\n",
    "\n",
    "    docker system prune\n",
    "    docker system prune -a\n",
    "\n",
    "    docker images -f dangling=true\n",
    "    docker images purge\n",
    "\n",
    "    docker images -a |  grep \"pattern\"\n",
    "    docker images -a | grep \"pattern\" | awk '{print $3}' | xargs docker rmi\n",
    "\n",
    "    docker images -a\n",
    "    docker rmi $(docker images -a -q)\n",
    "\n",
    "    id\n",
    "    docker info"
   ]
  },
  {
   "cell_type": "markdown",
   "metadata": {},
   "source": [
    "# chalmers"
   ]
  },
  {
   "cell_type": "markdown",
   "metadata": {},
   "source": [
    "    chmod +x installOpenFOAM\n",
    "    ./installOpenFOAM\n",
    "    chmod +x startOpenFOAM\n",
    "    ./startOpenFOAM\n",
    "    . .bashrc"
   ]
  },
  {
   "cell_type": "markdown",
   "metadata": {},
   "source": [
    "    User Guide\n",
    "    Tutorials Guide\n",
    "    Programmer’s Guide"
   ]
  },
  {
   "cell_type": "markdown",
   "metadata": {},
   "source": [
    "    https://www.geeksforgeeks.org/c-plus-plus/"
   ]
  },
  {
   "cell_type": "markdown",
   "metadata": {},
   "source": [
    "is first and foremost a C++ library, used primarily to create executables, known asapplications.\n",
    "- solvers: solve a specific continuum mechanics problem\n",
    "- utilities: data manipulation"
   ]
  },
  {
   "cell_type": "markdown",
   "metadata": {},
   "source": [
    "    icoFoam : Transient solver for \n",
    "        incompressible, laminar flow of Newtonian fluids\n",
    "        blockMesh\n",
    "        checkMesh\n",
    "        icoFoam >& log&\n",
    "        paraFoam\n"
   ]
  },
  {
   "cell_type": "markdown",
   "metadata": {},
   "source": [
    "    0/ : initial condition\n",
    "    constant/ \n",
    "        : transportPropertiesdictionary \n",
    "        transportProperties : dictionary for dimensioned scalar nu\n",
    "            the kinematic viscosity\n",
    "        polyMesh/ : mesh\n",
    "            blockMeshDict (old) -> system/ (moved to)\n",
    "            boundary : inGroups: patchGroup\n",
    "                - type\n",
    "                - inGroups\n",
    "                - nFaces\n",
    "                - startFace\n",
    "            points\n",
    "            faces : internal first\n",
    "            owner : each faces s owner cell number\n",
    "                  : The face area vector is defined \n",
    "                      to point out of the owner cell.\n",
    "            neighbour : The face area vector is defined \n",
    "                to point into the neighbour cell."
   ]
  },
  {
   "cell_type": "markdown",
   "metadata": {},
   "source": [
    "    system/ : run, discretization schemes, and solution procedures\n",
    "        blockMeshDict controlDict fvSchemes \n",
    "            fvSolution PDRblockMeshDict\n",
    "        blockMeshDict\n",
    "            : used by blockMesh to generate \n",
    "                boundary, faces, neighbour, owner, points\n",
    "                in constant/polyMesh\n",
    "            - convertToMeters\n",
    "            - vertices\n",
    "            - blocks\n",
    "                hex : right-hand system\n",
    "                vertices\n",
    "                numer of mesh cells in each direction\n",
    "                simpleGrading\n",
    "            - patches: boundary\n",
    "                name: movingWall, fixedWalls, frontAndBack\n",
    "                type: wall, empty\n",
    "                faces: list of boundary faces\n",
    "            edges();\n",
    "                - shaps of the edges which are not straight\n",
    "                - polySpline, polyLine, line, simpleSpline, arc\n",
    "            mergePatchPairs();\n",
    "                non-conformal meshes\n",
    "                stitchMesh                \n",
    "        controlDict\n",
    "            - application icoFoam;\n",
    "            - deltaT\n",
    "            - purgeWrite 0; # in seperate directories\n",
    "\n",
    "            - writeCompression on;\n",
    "            - writeCompression binary: ?\n",
    "            - runTimeModifiable true;\n",
    "            \n",
    "            - adjustTimeStep on;\n",
    "                based on max. Courant number\n",
    "                \n",
    "            - writeControl adjustableRunTime;\n",
    "            \n",
    "            dummy\n",
    "            \n",
    "        fvSchemes : discretization schemes\n",
    "            - time marching scheme: ddtSchemes\n",
    "                the first-order Euler implicit temporal discretization\n",
    "            - convection schemes: divSchemes            \n",
    "                the second-order linear (central-difference) scheme\n",
    "            default none; means that \n",
    "                schemes must be explicitly specified.\n",
    "\n",
    "        fvSolution : solution procedure\n",
    "            how to solve each discretized linear equation system\n",
    "\n",
    "        PISO: pressure velocity coupling\n",
    "            $p : copy            "
   ]
  },
  {
   "cell_type": "markdown",
   "metadata": {},
   "source": [
    "- p\n",
    "    - solver: PCG\n",
    "    - preconditioner: DIC\n",
    "- pFinal\n",
    "    - $p\n",
    "    - relTol 0; disable relTol\n",
    "        - PISO only solves each equation once per time step"
   ]
  },
  {
   "cell_type": "markdown",
   "metadata": {},
   "source": [
    "- U\n",
    "    - solver: smoothSolver\n",
    "    - smoother: symGaussSeidel\n",
    "    - relTol 0; disable relTol\n",
    "        - PISO only solves each equation once per time step"
   ]
  },
  {
   "cell_type": "markdown",
   "metadata": {},
   "source": [
    "- http://www.tfd.chalmers.se/~hani/kurser/OS_CFD_2008/TimBehrens/tibeh-report-fin.pdf\n",
    "- http://www-users.cs.umn.edu/~saad/books.htm"
   ]
  },
  {
   "cell_type": "markdown",
   "metadata": {},
   "source": [
    "$FOAM_SRC/OpenFOAM/matrices/lduMatrix/solvers/*/*.H\n",
    "- GAMG - Geometric agglomerated algebraic multigrid solver\n",
    "    - also namedGeneralised geometric-algebraic multi-grid\n",
    "- PBiCG - Preconditioned bi-conjugate gradient solver for asymmetric ldu-Matrices using a run-time selectable preconditioner\n",
    "- PCG - Preconditioned conjugate gradient solver for symmetric ldu Matrices using a run-time selectable preconditiioner\n",
    "- smoothSolver- Iterative solver using smoother for symmetric and asym-metric matrices which uses a run-time selected smoother\n",
    "    - e.g.  Gauss-Seidel"
   ]
  },
  {
   "cell_type": "markdown",
   "metadata": {},
   "source": [
    "$FOAM_SRC/OpenFOAM/matrices/lduMatrix/preconditioners/*/*.H\n",
    "- diagonalPreconditioner - Diagonal preconditioner for both symmetric and asymmetric matrices. \n",
    "    - This preconditioner actually does not help with faster propagation through the grid, but it is very easy and can be a good first step. \n",
    "    - Note: The reciprocal of the diagonal is calculated and stored for reuse because on most systems multiplications are faster than divisions.\n",
    "- DICPreconditioner - Simplified diagonal-based incomplete Cholesky preconditioner for symmetric matrices (symmetric equivalent of DILU).\n",
    "    - The reciprocal of the preconditioned diagonal is calculated andstored.\n",
    "- DILUPreconditioner - Simplified diagonal-based incomplete LU pre-conditioner for asymmetric matrices. \n",
    "    - The reciprocal of the preconditioned diagonal is calculated and stored."
   ]
  },
  {
   "cell_type": "markdown",
   "metadata": {},
   "source": [
    "    FDICPreconditioner - Faster version of the DICPreconditioner diagonal-based incomplete Cholesky preconditioner for symmetric matrices (sym-metric equivalent of DILU) in which the reciprocal of the preconditioneddiagonal and the upper coeffcients divided by the diagonal are calculatedand stored.\n",
    "    GAMGPreconditioner - Geometric agglomerated algebraic multigrid pre-conditioner (also named Generalised geometric-algebraic multi-grid in themanual).\n",
    "    noPreconditioner - Null preconditioner for both symmetric and asym-metric matrices."
   ]
  },
  {
   "cell_type": "markdown",
   "metadata": {},
   "source": [
    "$FOAM_SRC/OpenFOAM/matrices/lduMatrix/smoothers/*/*.H\n",
    "\n",
    "- DIC - Simplified diagonal-based incomplete Cholesky smoother for sym-metric matrices.\n",
    "- DICGaussSeidel - Combined DIC/GaussSeidel smoother for symmetric matrices in which DIC smoothing is followed by GaussSeidel to ensure that any \"spikes\" created by the DIC sweeps are smoothed-out.\n",
    "- DILU- Simplified diagonal-based incomplete LU smoother for asymmetric matrices. ILU smoothers are good smoothers for linear multigrid meth-ods.\n",
    "- DILUGaussSeidel - Combined DILU/GaussSeidel smoother for asymmetric matrices in which DILU smoothing is followed by GaussSeidel to ens\n",
    "ure that any \"spikes\" created by the DILU sweeps are smoothed-out.\n",
    "- GaussSeidel- The GaussSeidel method is a technique used to solve a linear system of equations. The method is an improved version of the Jacobi method. It is defined on matrices with non-zero diagonals, but con-vergence is only guaranteed if the matrix is either diagonally dominant, or symmetric and positive definite.\n",
    "- symGaussSeidel, nonBlockingGaussSeidel, FDIC"
   ]
  },
  {
   "cell_type": "code",
   "execution_count": 1,
   "metadata": {},
   "outputs": [
    {
     "name": "stderr",
     "output_type": "stream",
     "text": [
      "\u001b[0;31mError using eval\n",
      "Unrecognized function or variable 'PISO'.\n",
      "\n",
      "\u001b[0m"
     ]
    }
   ],
   "source": [
    "PISO\n",
    "{\n",
    "    nCorrectors     2;\n",
    "    nNonOrthogonalCorrectors 0;\n",
    "    pRefCell        0;\n",
    "    pRefValue       0;\n",
    "}"
   ]
  },
  {
   "cell_type": "markdown",
   "metadata": {},
   "source": [
    "# wtt"
   ]
  },
  {
   "cell_type": "markdown",
   "metadata": {},
   "source": [
    "    ODA file converter : dwg -> dxf\n",
    "        https://www.opendesign.com/guestfiles/oda_file_converter\n",
    "    qt\n",
    "    # sudo apt-get install qt5-default\n",
    "    wget http://download.qt.io/official_releases/qt/5.14/5.14.2/qt-opensource-linux-x64-5.14.2.run\n",
    "    chmod +x qt-opensource-linux-x64-5.14.2.run\n",
    "    ./qt-opensource-linux-x64-5.14.2.run\n",
    "\n",
    "    echo $LD_LIBRARY_PATH\n",
    "    LD_LIBRARY_PATH=/home/sbkim/Qt5.14.2/Tools/QtCreator/lib/Qt/lib:$LD_LIBRARY_PATH\n",
    "    export LD_LIBRARY_PATH\n",
    "    echo $LD_LIBRARY_PATH"
   ]
  },
  {
   "cell_type": "markdown",
   "metadata": {},
   "source": [
    "    cd /usr/bin/ODAFileConverter_21.7.0.0/\n",
    "    ./ODAFileConverter \n",
    "    dwg -> dxf\n",
    "    comsol"
   ]
  },
  {
   "cell_type": "markdown",
   "metadata": {},
   "source": [
    "# FINE"
   ]
  }
 ],
 "metadata": {
  "jupytext": {
   "encoding": "% -*- coding: utf-8 -*-",
   "formats": "ipynb,m:percent"
  },
  "kernelspec": {
   "display_name": "Matlab",
   "language": "matlab",
   "name": "matlab"
  },
  "language_info": {
   "codemirror_mode": "octave",
   "file_extension": ".m",
   "help_links": [
    {
     "text": "MetaKernel Magics",
     "url": "https://metakernel.readthedocs.io/en/latest/source/README.html"
    }
   ],
   "mimetype": "text/x-octave",
   "name": "matlab",
   "version": "0.16.7"
  },
  "toc": {
   "base_numbering": 1,
   "nav_menu": {},
   "number_sections": true,
   "sideBar": true,
   "skip_h1_title": false,
   "title_cell": "Table of Contents",
   "title_sidebar": "Contents",
   "toc_cell": false,
   "toc_position": {
    "height": "calc(100% - 180px)",
    "left": "10px",
    "top": "150px",
    "width": "165px"
   },
   "toc_section_display": true,
   "toc_window_display": true
  }
 },
 "nbformat": 4,
 "nbformat_minor": 4
}
